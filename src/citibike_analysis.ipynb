{
  "cells": [
    {
      "cell_type": "markdown",
      "metadata": {},
      "source": [
        "# Citibike Trip Data Analysis and Visualization\n",
        "Exploring and visualizing Citibike trip data with network flow maps\n"
      ]
    },
    {
      "cell_type": "code",
      "execution_count": null,
      "metadata": {},
      "outputs": [],
      "source": [
        "import pandas as pd\n",
        "import pydeck as pdk\n",
        "import folium\n",
        "import geopandas as gpd\n",
        "from shapely.geometry import LineString, Point\n",
        "import matplotlib.pyplot as plt\n",
        "import contextily as ctx\n",
        "import numpy as np\n"
      ]
    },
    {
      "cell_type": "markdown",
      "metadata": {},
      "source": [
        "## Load and Explore Data\n"
      ]
    },
    {
      "cell_type": "code",
      "execution_count": null,
      "metadata": {},
      "outputs": [],
      "source": [
        "df = pd.read_csv(\"../202408-citibike-tripdata/202408-citibike-tripdata_1.csv\")\n",
        "print(f\"Total trips: {len(df)}\")\n",
        "df.head()\n"
      ]
    },
    {
      "cell_type": "code",
      "execution_count": null,
      "metadata": {},
      "outputs": [],
      "source": [
        "# Data overview\n",
        "print(\"Column names:\")\n",
        "print(df.columns.tolist())\n",
        "print(\"\\nData types:\")\n",
        "print(df.dtypes)\n",
        "print(\"\\nBasic statistics:\")\n",
        "print(df.describe())\n"
      ]
    },
    {
      "cell_type": "code",
      "execution_count": null,
      "metadata": {},
      "outputs": [],
      "source": [
        "# Check for missing values\n",
        "print(\"Missing values per column:\")\n",
        "print(df.isnull().sum())\n"
      ]
    },
    {
      "cell_type": "markdown",
      "metadata": {},
      "source": [
        "## Basic Trip Analysis\n"
      ]
    },
    {
      "cell_type": "code",
      "execution_count": null,
      "metadata": {},
      "outputs": [],
      "source": [
        "# Parse datetime columns\n",
        "df['started_at'] = pd.to_datetime(df['started_at'])\n",
        "df['ended_at'] = pd.to_datetime(df['ended_at'])\n",
        "df['trip_duration'] = (df['ended_at'] - df['started_at']).dt.total_seconds() / 60  # in minutes\n",
        "\n",
        "print(f\"Average trip duration: {df['trip_duration'].mean():.2f} minutes\")\n",
        "print(f\"Median trip duration: {df['trip_duration'].median():.2f} minutes\")\n"
      ]
    },
    {
      "cell_type": "code",
      "execution_count": null,
      "metadata": {},
      "outputs": [],
      "source": [
        "# Bike type distribution\n",
        "print(\"Bike type distribution:\")\n",
        "print(df['rideable_type'].value_counts())\n",
        "print(\"\\nMember vs Casual:\")\n",
        "print(df['member_casual'].value_counts())\n"
      ]
    },
    {
      "cell_type": "code",
      "execution_count": null,
      "metadata": {},
      "outputs": [],
      "source": [
        "# Most popular stations\n",
        "print(\"Top 10 Start Stations:\")\n",
        "print(df['start_station_name'].value_counts().head(10))\n",
        "print(\"\\nTop 10 End Stations:\")\n",
        "print(df['end_station_name'].value_counts().head(10))\n"
      ]
    },
    {
      "cell_type": "markdown",
      "metadata": {},
      "source": [
        "## Aggregate Trips by Station Pairs\n"
      ]
    },
    {
      "cell_type": "code",
      "execution_count": null,
      "metadata": {},
      "outputs": [],
      "source": [
        "# Aggregate by station pairs to count number of trips\n",
        "df_agg = df.groupby([\n",
        "    'start_station_name', 'start_station_id', 'start_lat', 'start_lng',\n",
        "    'end_station_name', 'end_station_id', 'end_lat', 'end_lng'\n",
        "], as_index=False).size()\n",
        "\n",
        "df_agg.columns = [\n",
        "    'start_station_name', 'start_station_id', 'start_lat', 'start_lng',\n",
        "    'end_station_name', 'end_station_id', 'end_lat', 'end_lng', 'trip_count'\n",
        "]\n",
        "\n",
        "print(f\"Unique station pairs: {len(df_agg)}\")\n",
        "print(\"\\nTop 10 most popular routes:\")\n",
        "df_agg_sorted = df_agg.sort_values('trip_count', ascending=False)\n",
        "print(df_agg_sorted[['start_station_name', 'end_station_name', 'trip_count']].head(10))\n"
      ]
    },
    {
      "cell_type": "markdown",
      "metadata": {},
      "source": [
        "## Create Geographic Visualizations\n"
      ]
    },
    {
      "cell_type": "code",
      "execution_count": null,
      "metadata": {},
      "outputs": [],
      "source": [
        "# Create LineString geometries for each trip route\n",
        "def make_line(row):\n",
        "    return LineString([\n",
        "        (row['start_lng'], row['start_lat']),\n",
        "        (row['end_lng'], row['end_lat'])\n",
        "    ])\n",
        "\n",
        "gdf = gpd.GeoDataFrame(\n",
        "    df_agg, \n",
        "    geometry=df_agg.apply(make_line, axis=1), \n",
        "    crs=\"EPSG:4326\"\n",
        ")\n",
        "\n",
        "print(f\"GeoDataFrame created with {len(gdf)} routes\")\n"
      ]
    },
    {
      "cell_type": "markdown",
      "metadata": {},
      "source": [
        "### Flow Map with Basemap\n"
      ]
    },
    {
      "cell_type": "code",
      "execution_count": null,
      "metadata": {},
      "outputs": [],
      "source": [
        "# Convert to Web Mercator projection for basemap\n",
        "gdf_merc = gdf.to_crs(epsg=3857)\n",
        "\n",
        "# Create the flow map\n",
        "fig, ax = plt.subplots(figsize=(15, 15))\n",
        "\n",
        "# Plot lines with width proportional to trip count\n",
        "gdf_merc.plot(\n",
        "    ax=ax,\n",
        "    linewidth=gdf_merc['trip_count'] / gdf_merc['trip_count'].max() * 5,\n",
        "    color='red',\n",
        "    alpha=0.6\n",
        ")\n",
        "\n",
        "# Add basemap\n",
        "ctx.add_basemap(ax, source=ctx.providers.CartoDB.Positron)\n",
        "ax.set_title(\"Citibike Trip Flows\", fontsize=16, fontweight='bold')\n",
        "ax.set_axis_off()\n",
        "plt.tight_layout()\n",
        "plt.show()\n"
      ]
    },
    {
      "cell_type": "markdown",
      "metadata": {},
      "source": [
        "### Focus on Popular Routes\n"
      ]
    },
    {
      "cell_type": "code",
      "execution_count": null,
      "metadata": {},
      "outputs": [],
      "source": [
        "# Visualize only the most popular routes (e.g., top 50%)\n",
        "threshold = gdf_merc['trip_count'].quantile(0.5)\n",
        "gdf_popular = gdf_merc[gdf_merc['trip_count'] >= threshold]\n",
        "\n",
        "fig, ax = plt.subplots(figsize=(15, 15))\n",
        "\n",
        "gdf_popular.plot(\n",
        "    ax=ax,\n",
        "    linewidth=gdf_popular['trip_count'] / gdf_popular['trip_count'].max() * 8,\n",
        "    color='blue',\n",
        "    alpha=0.7\n",
        ")\n",
        "\n",
        "ctx.add_basemap(ax, source=ctx.providers.CartoDB.Positron)\n",
        "ax.set_title(f\"Popular Citibike Routes (Top 50%, n={len(gdf_popular)})\", fontsize=16, fontweight='bold')\n",
        "ax.set_axis_off()\n",
        "plt.tight_layout()\n",
        "plt.show()\n"
      ]
    },
    {
      "cell_type": "markdown",
      "metadata": {},
      "source": [
        "### Station Point Map\n"
      ]
    },
    {
      "cell_type": "code",
      "execution_count": null,
      "metadata": {},
      "outputs": [],
      "source": [
        "# Create point geometries for stations\n",
        "stations_start = df[['start_station_name', 'start_station_id', 'start_lat', 'start_lng']].drop_duplicates()\n",
        "stations_start.columns = ['station_name', 'station_id', 'lat', 'lng']\n",
        "\n",
        "stations_end = df[['end_station_name', 'end_station_id', 'end_lat', 'end_lng']].drop_duplicates()\n",
        "stations_end.columns = ['station_name', 'station_id', 'lat', 'lng']\n",
        "\n",
        "stations = pd.concat([stations_start, stations_end]).drop_duplicates(subset=['station_id'])\n",
        "\n",
        "# Count trips per station (both starts and ends)\n",
        "start_counts = df.groupby('start_station_id').size()\n",
        "end_counts = df.groupby('end_station_id').size()\n",
        "total_counts = start_counts.add(end_counts, fill_value=0)\n",
        "\n",
        "stations['total_trips'] = stations['station_id'].map(total_counts)\n",
        "\n",
        "print(f\"Unique stations: {len(stations)}\")\n",
        "stations.head()\n"
      ]
    },
    {
      "cell_type": "code",
      "execution_count": null,
      "metadata": {},
      "outputs": [],
      "source": [
        "# Create GeoDataFrame for stations\n",
        "stations_gdf = gpd.GeoDataFrame(\n",
        "    stations,\n",
        "    geometry=gpd.points_from_xy(stations.lng, stations.lat),\n",
        "    crs=\"EPSG:4326\"\n",
        ")\n",
        "\n",
        "stations_gdf_merc = stations_gdf.to_crs(epsg=3857)\n",
        "\n",
        "# Plot stations\n",
        "fig, ax = plt.subplots(figsize=(15, 15))\n",
        "\n",
        "stations_gdf_merc.plot(\n",
        "    ax=ax,\n",
        "    markersize=stations_gdf_merc['total_trips'] / stations_gdf_merc['total_trips'].max() * 200,\n",
        "    color='green',\n",
        "    alpha=0.6,\n",
        "    edgecolor='black',\n",
        "    linewidth=0.5\n",
        ")\n",
        "\n",
        "ctx.add_basemap(ax, source=ctx.providers.CartoDB.Positron)\n",
        "ax.set_title(\"Citibike Stations (size = trip volume)\", fontsize=16, fontweight='bold')\n",
        "ax.set_axis_off()\n",
        "plt.tight_layout()\n",
        "plt.show()\n"
      ]
    },
    {
      "cell_type": "markdown",
      "metadata": {},
      "source": [
        "### Interactive Map with PyDeck\n"
      ]
    },
    {
      "cell_type": "code",
      "execution_count": null,
      "metadata": {},
      "outputs": [],
      "source": [
        "# Prepare data for PyDeck ArcLayer\n",
        "arc_data = df_agg.copy()\n",
        "\n",
        "# Create ArcLayer for trip flows\n",
        "layer = pdk.Layer(\n",
        "    \"ArcLayer\",\n",
        "    data=arc_data,\n",
        "    get_source_position=[\"start_lng\", \"start_lat\"],\n",
        "    get_target_position=[\"end_lng\", \"end_lat\"],\n",
        "    get_source_color=[0, 128, 255, 160],\n",
        "    get_target_color=[255, 0, 128, 160],\n",
        "    get_width=\"trip_count\",\n",
        "    width_scale=0.1,\n",
        "    width_min_pixels=1,\n",
        "    pickable=True,\n",
        "    auto_highlight=True,\n",
        ")\n",
        "\n",
        "# Set initial view\n",
        "view_state = pdk.ViewState(\n",
        "    latitude=df['start_lat'].mean(),\n",
        "    longitude=df['start_lng'].mean(),\n",
        "    zoom=11,\n",
        "    pitch=40,\n",
        ")\n",
        "\n",
        "# Create deck\n",
        "r = pdk.Deck(\n",
        "    layers=[layer],\n",
        "    initial_view_state=view_state,\n",
        "    tooltip={\n",
        "        \"text\": \"{start_station_name} → {end_station_name}\\nTrips: {trip_count}\"\n",
        "    }\n",
        ")\n",
        "\n",
        "# Display inline\n",
        "r.show()\n"
      ]
    },
    {
      "cell_type": "code",
      "execution_count": null,
      "metadata": {},
      "outputs": [],
      "source": [
        "# Save to HTML file\n",
        "r.to_html(\"../citibike_flows.html\")\n",
        "print(\"Interactive map saved to citibike_flows.html\")\n"
      ]
    },
    {
      "cell_type": "markdown",
      "metadata": {},
      "source": [
        "## Additional Analysis\n"
      ]
    },
    {
      "cell_type": "code",
      "execution_count": null,
      "metadata": {},
      "outputs": [],
      "source": [
        "# Trip duration distribution\n",
        "fig, axes = plt.subplots(1, 2, figsize=(15, 5))\n",
        "\n",
        "# Histogram\n",
        "axes[0].hist(df['trip_duration'], bins=50, edgecolor='black', alpha=0.7)\n",
        "axes[0].set_xlabel('Trip Duration (minutes)')\n",
        "axes[0].set_ylabel('Frequency')\n",
        "axes[0].set_title('Trip Duration Distribution')\n",
        "axes[0].grid(True, alpha=0.3)\n",
        "\n",
        "# Box plot by bike type\n",
        "df.boxplot(column='trip_duration', by='rideable_type', ax=axes[1])\n",
        "axes[1].set_xlabel('Bike Type')\n",
        "axes[1].set_ylabel('Trip Duration (minutes)')\n",
        "axes[1].set_title('Trip Duration by Bike Type')\n",
        "plt.suptitle('')\n",
        "\n",
        "plt.tight_layout()\n",
        "plt.show()\n"
      ]
    },
    {
      "cell_type": "code",
      "execution_count": null,
      "metadata": {},
      "outputs": [],
      "source": [
        "# Usage by hour of day\n",
        "df['hour'] = df['started_at'].dt.hour\n",
        "\n",
        "hourly_trips = df.groupby('hour').size()\n",
        "\n",
        "fig, ax = plt.subplots(figsize=(12, 6))\n",
        "hourly_trips.plot(kind='bar', ax=ax, color='steelblue', edgecolor='black')\n",
        "ax.set_xlabel('Hour of Day')\n",
        "ax.set_ylabel('Number of Trips')\n",
        "ax.set_title('Citibike Usage by Hour of Day')\n",
        "ax.grid(True, alpha=0.3, axis='y')\n",
        "plt.xticks(rotation=0)\n",
        "plt.tight_layout()\n",
        "plt.show()\n"
      ]
    },
    {
      "cell_type": "code",
      "execution_count": null,
      "metadata": {},
      "outputs": [],
      "source": [
        "# Member vs Casual comparison\n",
        "fig, axes = plt.subplots(1, 2, figsize=(15, 5))\n",
        "\n",
        "# Trip count\n",
        "df['member_casual'].value_counts().plot(kind='bar', ax=axes[0], color=['#2ecc71', '#e74c3c'], edgecolor='black')\n",
        "axes[0].set_xlabel('User Type')\n",
        "axes[0].set_ylabel('Number of Trips')\n",
        "axes[0].set_title('Trips by User Type')\n",
        "axes[0].grid(True, alpha=0.3, axis='y')\n",
        "plt.sca(axes[0])\n",
        "plt.xticks(rotation=0)\n",
        "\n",
        "# Average trip duration\n",
        "df.groupby('member_casual')['trip_duration'].mean().plot(kind='bar', ax=axes[1], color=['#2ecc71', '#e74c3c'], edgecolor='black')\n",
        "axes[1].set_xlabel('User Type')\n",
        "axes[1].set_ylabel('Average Trip Duration (minutes)')\n",
        "axes[1].set_title('Average Trip Duration by User Type')\n",
        "axes[1].grid(True, alpha=0.3, axis='y')\n",
        "plt.sca(axes[1])\n",
        "plt.xticks(rotation=0)\n",
        "\n",
        "plt.tight_layout()\n",
        "plt.show()\n"
      ]
    }
  ],
  "metadata": {
    "kernelspec": {
      "display_name": ".venv",
      "language": "python",
      "name": "python3"
    },
    "language_info": {
      "codemirror_mode": {
        "name": "ipython",
        "version": 3
      },
      "file_extension": ".py",
      "mimetype": "text/x-python",
      "name": "python",
      "nbconvert_exporter": "python",
      "pygments_lexer": "ipython3",
      "version": "3.9.6"
    }
  },
  "nbformat": 4,
  "nbformat_minor": 2
}
