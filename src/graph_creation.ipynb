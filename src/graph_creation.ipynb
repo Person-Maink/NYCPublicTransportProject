{
 "cells": [
  {
   "cell_type": "markdown",
   "id": "fdc16b7c",
   "metadata": {},
   "source": [
    "# Graph Creation and Weighting\n",
    "\n",
    "This notebook performs the following steps:\n",
    "1.  Loads the base subway graph from a GML file.\n",
    "2.  Loads subway station location data.\n",
    "3.  Calculates the real-world distance (in kilometers) for each edge (connection) in the graph using the Haversine formula.\n",
    "4.  Adds this distance as a `distance` attribute to each edge.\n",
    "5.  Saves the final, weighted graph to a new GML file for use in analysis notebooks."
   ]
  },
  {
   "cell_type": "code",
   "execution_count": 35,
   "id": "2fa10e72",
   "metadata": {},
   "outputs": [
    {
     "name": "stdout",
     "output_type": "stream",
     "text": [
      "Graph loaded successfully from data/subway_graph_weekday_weekend.gml\n",
      "Number of nodes: 395\n",
      "Number of edges: 708\n"
     ]
    }
   ],
   "source": [
    "import networkx as nx\n",
    "import matplotlib.pyplot as plt\n",
    "\n",
    "# Load the base GML file \n",
    "# This file represents the network topology without edge weights.\n",
    "file_path = 'data/subway_graph_weekday_weekend.gml'\n",
    "G_weights = nx.read_gml(file_path)\n",
    "G_weights = G_weights.to_undirected()\n",
    "\n",
    "# Display basic information about the graph\n",
    "print(f\"Graph loaded successfully from {file_path}\")\n",
    "print(f\"Number of nodes: {G_weights.number_of_nodes()}\")\n",
    "print(f\"Number of edges: {G_weights.number_of_edges()}\")"
   ]
  },
  {
   "cell_type": "code",
   "execution_count": 36,
   "id": "d892ccf5",
   "metadata": {},
   "outputs": [
    {
     "name": "stdout",
     "output_type": "stream",
     "text": [
      "Requirement already satisfied: haversine in /Library/Frameworks/Python.framework/Versions/3.13/lib/python3.13/site-packages (2.9.0)\n",
      "\n",
      "\u001b[1m[\u001b[0m\u001b[34;49mnotice\u001b[0m\u001b[1;39;49m]\u001b[0m\u001b[39;49m A new release of pip is available: \u001b[0m\u001b[31;49m25.1.1\u001b[0m\u001b[39;49m -> \u001b[0m\u001b[32;49m25.2\u001b[0m\n",
      "\u001b[1m[\u001b[0m\u001b[34;49mnotice\u001b[0m\u001b[1;39;49m]\u001b[0m\u001b[39;49m To update, run: \u001b[0m\u001b[32;49mpip3 install --upgrade pip\u001b[0m\n",
      "\n",
      "\u001b[1m[\u001b[0m\u001b[34;49mnotice\u001b[0m\u001b[1;39;49m]\u001b[0m\u001b[39;49m A new release of pip is available: \u001b[0m\u001b[31;49m25.1.1\u001b[0m\u001b[39;49m -> \u001b[0m\u001b[32;49m25.2\u001b[0m\n",
      "\u001b[1m[\u001b[0m\u001b[34;49mnotice\u001b[0m\u001b[1;39;49m]\u001b[0m\u001b[39;49m To update, run: \u001b[0m\u001b[32;49mpip3 install --upgrade pip\u001b[0m\n"
     ]
    }
   ],
   "source": [
    "# Install the haversine library if it's not already installed\n",
    "# This library is used to calculate distances between lat/lon points.\n",
    "!pip3 install haversine"
   ]
  },
  {
   "cell_type": "code",
   "execution_count": null,
   "id": "d6ff8d35",
   "metadata": {},
   "outputs": [
    {
     "name": "stderr",
     "output_type": "stream",
     "text": [
      "Calculating edge distances: 100%|██████████| 708/708 [00:00<00:00, 1930797.94it/s]"
     ]
    },
    {
     "name": "stdout",
     "output_type": "stream",
     "text": [
      "\\nFinished adding distance attributes to graph edges.\n",
      "Warning: Could not find any edges with the 'distance' attribute after processing.\n"
     ]
    },
    {
     "name": "stderr",
     "output_type": "stream",
     "text": [
      "\n"
     ]
    }
   ],
   "source": [
    "import pandas as pd\n",
    "from tqdm import tqdm\n",
    "from haversine import haversine, Unit\n",
    "\n",
    "# Load subway stop coordinates from the GTFS data\n",
    "# This file contains the latitude and longitude for each station.\n",
    "stops_df = pd.read_csv('data/gtfs_subway/stops.txt')\n",
    "\n",
    "# --- THIS IS THE CORRECTED LOGIC ---\n",
    "# Create a lookup dictionary for station coordinates.\n",
    "# The graph's nodes are station names, so we must key the dictionary by 'stop_name'.\n",
    "station_coords = stops_df.set_index('stop_name')[['stop_lat', 'stop_lon']].T.to_dict()\n",
    "\n",
    "# Add 'distance' attribute (in km) to each edge in the graph\n",
    "for u, v in tqdm(G_weights.edges(), desc=\"Calculating edge distances\"):\n",
    "    # The graph nodes u and v are the station names.\n",
    "    if u in station_coords and v in station_coords:\n",
    "        point1 = (station_coords[u]['stop_lat'], station_coords[u]['stop_lon'])\n",
    "        point2 = (station_coords[v]['stop_lat'], station_coords[v]['stop_lon'])\n",
    "        \n",
    "        distance = haversine(point1, point2, unit=Unit.KILOMETERS)\n",
    "        G_weights.edges[u, v]['distance'] = distance\n",
    "\n",
    "print(\"\\\\nFinished adding distance attributes to graph edges.\")\n",
    "\n",
    "# Verify an edge has the distance attribute\n",
    "try:\n",
    "    # Find an edge that should now have a distance\n",
    "    edge_with_distance = None\n",
    "    for u, v, data in G_weights.edges(data=True):\n",
    "        if 'distance' in data:\n",
    "            edge_with_distance = (u, v)\n",
    "            break\n",
    "    \n",
    "    if edge_with_distance:\n",
    "        print(f\"Verification successful! Example edge {edge_with_distance} has distance: {G_weights.edges[edge_with_distance]['distance']:.4f} km\")\n",
    "    else:\n",
    "        print(\"Warning: Could not find any edges with the 'distance' attribute after processing.\")\n",
    "\n",
    "except Exception as e:\n",
    "    print(f\"Could not verify edge distance: {e}\")"
   ]
  },
  {
   "cell_type": "code",
   "execution_count": 39,
   "id": "a182bfa3",
   "metadata": {},
   "outputs": [
    {
     "name": "stdout",
     "output_type": "stream",
     "text": [
      "--- Graph Node Data Inspection ---\n",
      "Node 0: ('Van Cortlandt Park-242 St', {})\n",
      "Node 1: ('238 St', {})\n",
      "Node 2: ('231 St', {})\n",
      "Node 3: ('Marble Hill-225 St', {})\n",
      "Node 4: ('215 St', {})\n",
      "\\n--- Coordinate Dictionary Key Inspection ---\n",
      "Coord Keys: ['101', '101N', '101S', '103', '103N']\n",
      "\\n--- Manual Match Attempt ---\n",
      "Attempting to match graph node label: 'None' (Type: <class 'NoneType'>)\n",
      "FAILURE: The label was NOT found in the coordinate keys.\n",
      "HINT: No match found even after converting to string. The labels may be fundamentally different.\n"
     ]
    }
   ],
   "source": [
    "# --- Advanced Debugging Cell ---\n",
    "# Let's find out why the labels aren't matching.\n",
    "\n",
    "# 1. Inspect the data of the first 5 nodes in the graph\n",
    "print(\"--- Graph Node Data Inspection ---\")\n",
    "try:\n",
    "    node_sample = list(G_weights.nodes(data=True))[:5]\n",
    "    for i, node_data in enumerate(node_sample):\n",
    "        print(f\"Node {i}: {node_data}\")\n",
    "except Exception as e:\n",
    "    print(f\"Could not inspect graph nodes: {e}\")\n",
    "\n",
    "# 2. Inspect the first 5 keys from the coordinate dictionary\n",
    "print(\"\\\\n--- Coordinate Dictionary Key Inspection ---\")\n",
    "try:\n",
    "    coord_keys_sample = list(station_coords.keys())[:5]\n",
    "    print(f\"Coord Keys: {coord_keys_sample}\")\n",
    "except Exception as e:\n",
    "    print(f\"Could not inspect coordinate keys: {e}\")\n",
    "\n",
    "# 3. Try to manually find a match\n",
    "print(\"\\\\n--- Manual Match Attempt ---\")\n",
    "try:\n",
    "    # Get the label of the first node from the graph\n",
    "    first_node_id, first_node_data = node_sample[0]\n",
    "    first_node_label = first_node_data.get('label')\n",
    "    print(f\"Attempting to match graph node label: '{first_node_label}' (Type: {type(first_node_label)})\")\n",
    "    \n",
    "    # Check if this label exists in the coordinate dictionary keys\n",
    "    if first_node_label in station_coords:\n",
    "        print(\"SUCCESS: A match was found!\")\n",
    "    else:\n",
    "        print(\"FAILURE: The label was NOT found in the coordinate keys.\")\n",
    "        # Let's check if there's a type mismatch, e.g., string vs. integer\n",
    "        if str(first_node_label) in station_coords:\n",
    "            print(\"HINT: A match was found after converting the label to a STRING.\")\n",
    "        else:\n",
    "            print(\"HINT: No match found even after converting to string. The labels may be fundamentally different.\")\n",
    "\n",
    "except Exception as e:\n",
    "    print(f\"An error occurred during the manual match attempt: {e}\")"
   ]
  },
  {
   "cell_type": "code",
   "execution_count": 38,
   "id": "bcfdef31",
   "metadata": {},
   "outputs": [
    {
     "name": "stdout",
     "output_type": "stream",
     "text": [
      "Weighted graph saved successfully to data/subway_graph_weekday_weekend_weights.gml\n"
     ]
    }
   ],
   "source": [
    "# Save the weighted graph to a new GML file\n",
    "# This file can now be used directly in analysis notebooks.\n",
    "output_path = 'data/subway_graph_weekday_weekend_weights.gml'\n",
    "nx.write_gml(G_weights, output_path)\n",
    "\n",
    "print(f\"Weighted graph saved successfully to {output_path}\")"
   ]
  }
 ],
 "metadata": {
  "kernelspec": {
   "display_name": "Python 3",
   "language": "python",
   "name": "python3"
  },
  "language_info": {
   "codemirror_mode": {
    "name": "ipython",
    "version": 3
   },
   "file_extension": ".py",
   "mimetype": "text/x-python",
   "name": "python",
   "nbconvert_exporter": "python",
   "pygments_lexer": "ipython3",
   "version": "3.13.5"
  }
 },
 "nbformat": 4,
 "nbformat_minor": 5
}
