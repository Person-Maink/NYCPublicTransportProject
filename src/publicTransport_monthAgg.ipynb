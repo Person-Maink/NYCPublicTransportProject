{
 "cells": [
  {
   "cell_type": "code",
   "execution_count": 8,
   "metadata": {},
   "outputs": [],
   "source": [
    "import pandas as pd \n",
    "import pydeck as pdk\n",
    "# import geopandas as gpd\n",
    "# from shapely.geometry import LineString\n",
    "import matplotlib.pyplot as plt\n",
    "# import contextily as ctx\n",
    "import networkx as nx\n",
    "import copy\n",
    "from tqdm import tqdm\n",
    "import re\n",
    "\n",
    "import os"
   ]
  },
  {
   "cell_type": "code",
   "execution_count": 24,
   "metadata": {},
   "outputs": [
    {
     "name": "stderr",
     "output_type": "stream",
     "text": [
      "C:\\Users\\meenakshi\\AppData\\Local\\Temp\\ipykernel_11068\\2658214266.py:1: DtypeWarning: Columns (1) have mixed types. Specify dtype option on import or set low_memory=False.\n",
      "  df = pd.read_csv(\"../data/MTA_Subway_Origin-Destination_Ridership_Estimate__2024_20251020.csv\")\n"
     ]
    }
   ],
   "source": [
    "df = pd.read_csv(\"../data/MTA_Subway_Origin-Destination_Ridership_Estimate__2024_20251020.csv\")"
   ]
  },
  {
   "cell_type": "code",
   "execution_count": 25,
   "metadata": {},
   "outputs": [
    {
     "data": {
      "text/html": [
       "<div>\n",
       "<style scoped>\n",
       "    .dataframe tbody tr th:only-of-type {\n",
       "        vertical-align: middle;\n",
       "    }\n",
       "\n",
       "    .dataframe tbody tr th {\n",
       "        vertical-align: top;\n",
       "    }\n",
       "\n",
       "    .dataframe thead th {\n",
       "        text-align: right;\n",
       "    }\n",
       "</style>\n",
       "<table border=\"1\" class=\"dataframe\">\n",
       "  <thead>\n",
       "    <tr style=\"text-align: right;\">\n",
       "      <th></th>\n",
       "      <th>Day of Week</th>\n",
       "      <th>sum_estimated_average_ridership</th>\n",
       "      <th>Origin Station Complex ID</th>\n",
       "      <th>Origin Station Complex Name</th>\n",
       "      <th>Origin Latitude</th>\n",
       "      <th>Origin Longitude</th>\n",
       "      <th>Destination Station Complex ID</th>\n",
       "      <th>Destination Station Complex Name</th>\n",
       "      <th>Destination Latitude</th>\n",
       "      <th>Destination Longitude</th>\n",
       "      <th>Year</th>\n",
       "      <th>Month</th>\n",
       "      <th>Timestamp</th>\n",
       "    </tr>\n",
       "  </thead>\n",
       "  <tbody>\n",
       "    <tr>\n",
       "      <th>0</th>\n",
       "      <td>Monday</td>\n",
       "      <td>0.2993</td>\n",
       "      <td>430</td>\n",
       "      <td>Simpson St (2,5)</td>\n",
       "      <td>40.824073</td>\n",
       "      <td>-73.893064</td>\n",
       "      <td>461</td>\n",
       "      <td>Queensboro Plaza (7,N,W)</td>\n",
       "      <td>40.750582</td>\n",
       "      <td>-73.940202</td>\n",
       "      <td>2024</td>\n",
       "      <td>8</td>\n",
       "      <td>08/05/2024 07:00:00 AM</td>\n",
       "    </tr>\n",
       "    <tr>\n",
       "      <th>1</th>\n",
       "      <td>Monday</td>\n",
       "      <td>2.266</td>\n",
       "      <td>301</td>\n",
       "      <td>181 St (1)</td>\n",
       "      <td>40.849505</td>\n",
       "      <td>-73.933596</td>\n",
       "      <td>316</td>\n",
       "      <td>50 St (1)</td>\n",
       "      <td>40.761728</td>\n",
       "      <td>-73.983849</td>\n",
       "      <td>2024</td>\n",
       "      <td>8</td>\n",
       "      <td>08/05/2024 04:00:00 AM</td>\n",
       "    </tr>\n",
       "    <tr>\n",
       "      <th>2</th>\n",
       "      <td>Monday</td>\n",
       "      <td>0.5905</td>\n",
       "      <td>246</td>\n",
       "      <td>Avenue I (F)</td>\n",
       "      <td>40.625322</td>\n",
       "      <td>-73.976127</td>\n",
       "      <td>28</td>\n",
       "      <td>Union St (R)</td>\n",
       "      <td>40.677316</td>\n",
       "      <td>-73.983110</td>\n",
       "      <td>2024</td>\n",
       "      <td>8</td>\n",
       "      <td>08/05/2024 09:00:00 AM</td>\n",
       "    </tr>\n",
       "    <tr>\n",
       "      <th>3</th>\n",
       "      <td>Monday</td>\n",
       "      <td>0.3052</td>\n",
       "      <td>395</td>\n",
       "      <td>103 St (6)</td>\n",
       "      <td>40.790600</td>\n",
       "      <td>-73.947478</td>\n",
       "      <td>617</td>\n",
       "      <td>Atlantic Av-Barclays Ctr (B,D,N,Q,R,2,3,4,5)</td>\n",
       "      <td>40.684162</td>\n",
       "      <td>-73.977789</td>\n",
       "      <td>2024</td>\n",
       "      <td>8</td>\n",
       "      <td>08/05/2024 06:00:00 AM</td>\n",
       "    </tr>\n",
       "    <tr>\n",
       "      <th>4</th>\n",
       "      <td>Monday</td>\n",
       "      <td>0.65</td>\n",
       "      <td>403</td>\n",
       "      <td>33 St (6)</td>\n",
       "      <td>40.746081</td>\n",
       "      <td>-73.982076</td>\n",
       "      <td>379</td>\n",
       "      <td>Mosholu Pkwy (4)</td>\n",
       "      <td>40.879750</td>\n",
       "      <td>-73.884655</td>\n",
       "      <td>2024</td>\n",
       "      <td>8</td>\n",
       "      <td>08/05/2024 02:00:00 AM</td>\n",
       "    </tr>\n",
       "  </tbody>\n",
       "</table>\n",
       "</div>"
      ],
      "text/plain": [
       "  Day of Week sum_estimated_average_ridership  Origin Station Complex ID  \\\n",
       "0      Monday                          0.2993                        430   \n",
       "1      Monday                           2.266                        301   \n",
       "2      Monday                          0.5905                        246   \n",
       "3      Monday                          0.3052                        395   \n",
       "4      Monday                            0.65                        403   \n",
       "\n",
       "  Origin Station Complex Name  Origin Latitude  Origin Longitude  \\\n",
       "0            Simpson St (2,5)        40.824073        -73.893064   \n",
       "1                  181 St (1)        40.849505        -73.933596   \n",
       "2                Avenue I (F)        40.625322        -73.976127   \n",
       "3                  103 St (6)        40.790600        -73.947478   \n",
       "4                   33 St (6)        40.746081        -73.982076   \n",
       "\n",
       "   Destination Station Complex ID  \\\n",
       "0                             461   \n",
       "1                             316   \n",
       "2                              28   \n",
       "3                             617   \n",
       "4                             379   \n",
       "\n",
       "               Destination Station Complex Name  Destination Latitude  \\\n",
       "0                      Queensboro Plaza (7,N,W)             40.750582   \n",
       "1                                     50 St (1)             40.761728   \n",
       "2                                  Union St (R)             40.677316   \n",
       "3  Atlantic Av-Barclays Ctr (B,D,N,Q,R,2,3,4,5)             40.684162   \n",
       "4                              Mosholu Pkwy (4)             40.879750   \n",
       "\n",
       "   Destination Longitude  Year  Month               Timestamp  \n",
       "0             -73.940202  2024      8  08/05/2024 07:00:00 AM  \n",
       "1             -73.983849  2024      8  08/05/2024 04:00:00 AM  \n",
       "2             -73.983110  2024      8  08/05/2024 09:00:00 AM  \n",
       "3             -73.977789  2024      8  08/05/2024 06:00:00 AM  \n",
       "4             -73.884655  2024      8  08/05/2024 02:00:00 AM  "
      ]
     },
     "execution_count": 25,
     "metadata": {},
     "output_type": "execute_result"
    }
   ],
   "source": [
    "df.head()"
   ]
  },
  {
   "cell_type": "code",
   "execution_count": null,
   "metadata": {},
   "outputs": [],
   "source": [
    "df[\"Timestamp\"] = pd.to_datetime(df[\"Timestamp\"])\n",
    "df[\"DayType\"] = df[\"Timestamp\"].dt.dayofweek.map(lambda x: \"Weekday\" if x < 5 else \"Weekend\")\n",
    "\n",
    "# clean commas\n",
    "# df[\"sum_estimated_average_ridership\"] = pd.to_numeric(\n",
    "#     df[\"sum_estimated_average_ridership\"].astype(str).str.replace(\",\", \"\"), errors=\"coerce\"\n",
    "# )\n",
    "\n",
    "df[\"sum_estimated_average_ridership\"] = pd.to_numeric(\n",
    "    df[\"sum_estimated_average_ridership\"].astype(float))\n",
    "\n",
    "# group and aggregate mean while keeping representative metadata columns\n",
    "agg = (\n",
    "    df.groupby([\"DayType\", \"Origin Station Complex ID\", \"Destination Station Complex ID\"], as_index=False)\n",
    "      .agg({\n",
    "          \"sum_estimated_average_ridership\": \"mean\",\n",
    "          \"Origin Station Complex Name\": \"first\",\n",
    "          \"Destination Station Complex Name\": \"first\",\n",
    "          \"Origin Latitude\": \"first\",\n",
    "          \"Origin Longitude\": \"first\",\n",
    "          \"Destination Latitude\": \"first\",\n",
    "          \"Destination Longitude\": \"first\"\n",
    "      })\n",
    ")\n",
    "\n",
    "# rename column to reflect mean\n",
    "agg = agg.rename(columns={\"sum_estimated_average_ridership\": \"mean_estimated_average_ridership\"})\n",
    "\n",
    "\n"
   ]
  },
  {
   "cell_type": "code",
   "execution_count": 57,
   "metadata": {},
   "outputs": [],
   "source": [
    "agg.to_csv(\"../data/weekday_weekend_aggregated.csv\", index=False)"
   ]
  },
  {
   "cell_type": "code",
   "execution_count": 56,
   "metadata": {},
   "outputs": [
    {
     "name": "stdout",
     "output_type": "stream",
     "text": [
      "332140\n"
     ]
    }
   ],
   "source": [
    "print(len(agg))"
   ]
  }
 ],
 "metadata": {
  "kernelspec": {
   "display_name": "base",
   "language": "python",
   "name": "python3"
  },
  "language_info": {
   "codemirror_mode": {
    "name": "ipython",
    "version": 3
   },
   "file_extension": ".py",
   "mimetype": "text/x-python",
   "name": "python",
   "nbconvert_exporter": "python",
   "pygments_lexer": "ipython3",
   "version": "3.12.7"
  }
 },
 "nbformat": 4,
 "nbformat_minor": 2
}
