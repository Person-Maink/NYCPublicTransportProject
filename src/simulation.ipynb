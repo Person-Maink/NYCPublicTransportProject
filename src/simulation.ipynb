{
 "cells": [
  {
   "cell_type": "markdown",
   "id": "6eb0e1b3",
   "metadata": {},
   "source": [
    "# Simulate travel time between two points for different transport modes"
   ]
  },
  {
   "cell_type": "code",
   "execution_count": 1,
   "id": "bc5c838d",
   "metadata": {},
   "outputs": [],
   "source": [
    "import haversine as hs\n",
    "import folium\n",
    "import math\n",
    "import sys\n",
    "from pathlib import Path\n",
    "from station_utilities import *\n",
    "from simulations import *"
   ]
  },
  {
   "cell_type": "code",
   "execution_count": 2,
   "id": "7b6feefa",
   "metadata": {},
   "outputs": [],
   "source": [
    "def init_stationfinder() -> StationFinder:\n",
    "    \"\"\"\n",
    "    Initializes the StationFinder utility by loading Citibike and subway graph data.\n",
    "\n",
    "    Returns:\n",
    "        StationFinder: An initialized StationFinder object.\n",
    "    \n",
    "    Raises:\n",
    "        SystemExit: If required graph files (.gml) are not found.\n",
    "    \"\"\"\n",
    "    citibike_weekday = '../citibike_weekday_network.gml'\n",
    "    citibike_weekend = '../citibike_weekend_network.gml'\n",
    "    subway_graph = '../subway_graph_weekday_weekend.gml'\n",
    "\n",
    "    citibike_path = citibike_weekday if Path(citibike_weekday).exists() else citibike_weekend\n",
    "\n",
    "    if not Path(citibike_path).exists():\n",
    "            print(\"Error: Citibike graph not found. Please run citibike_processor.py first.\")\n",
    "            sys.exit(1)\n",
    "        \n",
    "    if not Path(subway_graph).exists():\n",
    "        print(f\"Error: Subway graph not found at {subway_graph}\")\n",
    "        sys.exit(1)\n",
    "\n",
    "    print(\"Initializing StationFinder...\")\n",
    "    try:\n",
    "        finder = StationFinder(\n",
    "            citibike_graph_path=citibike_path,\n",
    "            subway_graph_path=subway_graph\n",
    "        )\n",
    "    except Exception as e:\n",
    "        print(f\"Error initializing StationFinder: {e}\")\n",
    "        print(\"\\nIf subway coordinates are not available, you can:\")\n",
    "        print(\"1. Provide a CSV file with subway coordinates\")\n",
    "        print(\"2. Download MTA GTFS data manually from: http://web.mta.info/developers/data/nyct/subway/google_transit.zip\")\n",
    "        sys.exit(1)\n",
    "\n",
    "    return finder"
   ]
  },
  {
   "cell_type": "code",
   "execution_count": 3,
   "id": "635a54a4",
   "metadata": {},
   "outputs": [
    {
     "name": "stdout",
     "output_type": "stream",
     "text": [
      "Initializing StationFinder...\n",
      "Downloading NYC subway coordinates from MTA GTFS...\n",
      "Downloading NYC subway coordinates from MTA GTFS...\n",
      "Successfully loaded 381 subway stations\n",
      "Successfully loaded 381 subway stations\n"
     ]
    }
   ],
   "source": [
    "station_finder = init_stationfinder()"
   ]
  },
  {
   "cell_type": "code",
   "execution_count": 4,
   "id": "4b484fa3",
   "metadata": {},
   "outputs": [],
   "source": [
    "def simulate(src_hub_center, dst_hub_center, station_finder, radius_km=1.0, num_points=10):\n",
    "    m = None\n",
    "\n",
    "    simulator = Simulator(finder=station_finder)\n",
    "\n",
    "    print('Random starting points:')\n",
    "    src_hub_points = simulator.generate_random_points(src_hub_center, radius_km=radius_km, num_points=num_points)\n",
    "    print('Random destination points:')\n",
    "    dst_hub_points = simulator.generate_random_points(dst_hub_center, radius_km=radius_km, num_points=num_points)\n",
    "\n",
    "    print(\"Inserting virtual station at source hub center...\")\n",
    "    simulator.insert_station(('virtual station', src_hub_center))\n",
    "\n",
    "    # --- Calculate for Bike Transit ---\n",
    "    bike_travel_time_matrix, bike_route_matrix = simulator.calculate_travel_time_matrix(src_hub_points, dst_hub_points, mode='citibike')\n",
    "\n",
    "    # --- Calculate for Subway Transit ---\n",
    "    subway_travel_time_matrix, subway_route_matrix = simulator.calculate_travel_time_matrix(src_hub_points, dst_hub_points, mode='subway')\n",
    "\n",
    "    results = {\n",
    "        'bike_travel_time_matrix': bike_travel_time_matrix,\n",
    "        'bike_route_matrix': bike_route_matrix,\n",
    "        'subway_travel_time_matrix': subway_travel_time_matrix,\n",
    "        'subway_route_matrix': subway_route_matrix\n",
    "    }\n",
    "\n",
    "    # create a map visualization of the results\n",
    "    # m = simulator.map_simulation_results(bike_route_matrix, subway_route_matrix, src_hub_points, dst_hub_points)\n",
    "\n",
    "    return results, m"
   ]
  },
  {
   "cell_type": "code",
   "execution_count": 8,
   "id": "a3f7b044",
   "metadata": {},
   "outputs": [],
   "source": [
    "def calculate_average_travel_times(results):\n",
    "    bike_tt_matrix, subway_tt_matrix = results['bike_travel_time_matrix'], results['subway_travel_time_matrix']\n",
    "\n",
    "    # Calculate the mean of all values in the bike travel time matrix\n",
    "    avg_bike_time_seconds = np.mean(bike_tt_matrix)\n",
    "\n",
    "    # Calculate the mean of all values in the subway travel time matrix\n",
    "    avg_subway_time_seconds = np.mean(subway_tt_matrix)\n",
    "\n",
    "    return avg_bike_time_seconds, avg_subway_time_seconds"
   ]
  },
  {
   "cell_type": "code",
   "execution_count": null,
   "id": "a6cb5ed4",
   "metadata": {},
   "outputs": [],
   "source": [
    "def run_simulation(hubs):\n",
    "    dst_hub_center = (40.73596286967174, -73.99050483291762)\n",
    "\n",
    "    bike_results = dict()\n",
    "    subway_results = dict()\n",
    "\n",
    "    for hub in hubs:\n",
    "        results, m = simulate(hub, dst_hub_center, station_finder, radius_km=1.0, num_points=10)\n",
    "        avg_bike_time, avg_subway_time = calculate_average_travel_times(results)\n",
    "        bike_results[hub] = f\"{math.floor(avg_bike_time / 60)}:{avg_bike_time % 60:.0f}\"\n",
    "        subway_results[hub] = f\"{math.floor(avg_subway_time / 60)}:{avg_subway_time % 60:.0f}\"\n",
    "\n",
    "    bike_avg_times = pd.DataFrame.from_dict({'Average Travel Time By Bike': bike_results})\n",
    "    subway_avg_times = pd.DataFrame.from_dict({'Average Travel Time By Metro': subway_results})\n",
    "\n",
    "    return bike_avg_times, subway_avg_times"
   ]
  },
  {
   "cell_type": "code",
   "execution_count": 20,
   "id": "f1c446f9",
   "metadata": {},
   "outputs": [
    {
     "name": "stdout",
     "output_type": "stream",
     "text": [
      "Random starting points:\n",
      "================================================================================\n",
      "Generating 10 random points within a 1.0 km radius\n",
      "================================================================================\n",
      "Random destination points:\n",
      "================================================================================\n",
      "Generating 10 random points within a 1.0 km radius\n",
      "================================================================================\n",
      "Inserting virtual station at source hub center...\n",
      "\n",
      "Inserting new station: virtual station at (40.6535720712609, -73.931131331664)\n"
     ]
    },
    {
     "name": "stderr",
     "output_type": "stream",
     "text": [
      "Calculating citibike travel times: 100%|██████████| 10/10 [00:14<00:00,  1.47s/it]\n",
      "Calculating citibike travel times: 100%|██████████| 10/10 [00:14<00:00,  1.47s/it]\n",
      "Calculating subway travel times: 100%|██████████| 10/10 [00:14<00:00,  1.46s/it]\n",
      "\n"
     ]
    },
    {
     "ename": "ValueError",
     "evalue": "Mixing dicts with non-Series may lead to ambiguous ordering.",
     "output_type": "error",
     "traceback": [
      "\u001b[1;31m---------------------------------------------------------------------------\u001b[0m",
      "\u001b[1;31mValueError\u001b[0m                                Traceback (most recent call last)",
      "Cell \u001b[1;32mIn[20], line 3\u001b[0m\n\u001b[0;32m      1\u001b[0m hubs \u001b[38;5;241m=\u001b[39m [(\u001b[38;5;241m40.6535720712609\u001b[39m, \u001b[38;5;241m-\u001b[39m\u001b[38;5;241m73.931131331664\u001b[39m)] \u001b[38;5;66;03m# utica ave brooklyn\u001b[39;00m\n\u001b[1;32m----> 3\u001b[0m bikes_results_df, subway_results_df \u001b[38;5;241m=\u001b[39m \u001b[43mrun_simulation\u001b[49m\u001b[43m(\u001b[49m\u001b[43mhubs\u001b[49m\u001b[43m)\u001b[49m\n\u001b[0;32m      5\u001b[0m \u001b[38;5;66;03m# print(\"--- Average Travel Times for All Pairs ---\")\u001b[39;00m\n\u001b[0;32m      6\u001b[0m \u001b[38;5;66;03m# print(f\"Average Bike Travel Time: {math.floor(avg_bike_time_seconds / 60)} minutes and {avg_bike_time_seconds % 60:.0f} seconds\")\u001b[39;00m\n\u001b[0;32m      7\u001b[0m \u001b[38;5;66;03m# print(f\"Average Subway Travel Time: {math.floor(avg_subway_time_seconds / 60)} minutes and {avg_subway_time_seconds % 60:.0f} seconds\")\u001b[39;00m\n",
      "Cell \u001b[1;32mIn[19], line 13\u001b[0m, in \u001b[0;36mrun_simulation\u001b[1;34m(hubs)\u001b[0m\n\u001b[0;32m     10\u001b[0m     bike_results[hub] \u001b[38;5;241m=\u001b[39m \u001b[38;5;124mf\u001b[39m\u001b[38;5;124m\"\u001b[39m\u001b[38;5;132;01m{\u001b[39;00mmath\u001b[38;5;241m.\u001b[39mfloor(avg_bike_time\u001b[38;5;250m \u001b[39m\u001b[38;5;241m/\u001b[39m\u001b[38;5;250m \u001b[39m\u001b[38;5;241m60\u001b[39m)\u001b[38;5;132;01m}\u001b[39;00m\u001b[38;5;124m:\u001b[39m\u001b[38;5;132;01m{\u001b[39;00mavg_bike_time\u001b[38;5;250m \u001b[39m\u001b[38;5;241m%\u001b[39m\u001b[38;5;250m \u001b[39m\u001b[38;5;241m60\u001b[39m\u001b[38;5;132;01m:\u001b[39;00m\u001b[38;5;124m.0f\u001b[39m\u001b[38;5;132;01m}\u001b[39;00m\u001b[38;5;124m\"\u001b[39m\n\u001b[0;32m     11\u001b[0m     subway_results[hub] \u001b[38;5;241m=\u001b[39m \u001b[38;5;124mf\u001b[39m\u001b[38;5;124m\"\u001b[39m\u001b[38;5;132;01m{\u001b[39;00mmath\u001b[38;5;241m.\u001b[39mfloor(avg_subway_time\u001b[38;5;250m \u001b[39m\u001b[38;5;241m/\u001b[39m\u001b[38;5;250m \u001b[39m\u001b[38;5;241m60\u001b[39m)\u001b[38;5;132;01m}\u001b[39;00m\u001b[38;5;124m:\u001b[39m\u001b[38;5;132;01m{\u001b[39;00mavg_subway_time\u001b[38;5;250m \u001b[39m\u001b[38;5;241m%\u001b[39m\u001b[38;5;250m \u001b[39m\u001b[38;5;241m60\u001b[39m\u001b[38;5;132;01m:\u001b[39;00m\u001b[38;5;124m.0f\u001b[39m\u001b[38;5;132;01m}\u001b[39;00m\u001b[38;5;124m\"\u001b[39m\n\u001b[1;32m---> 13\u001b[0m bike_avg_times \u001b[38;5;241m=\u001b[39m \u001b[43mpd\u001b[49m\u001b[38;5;241;43m.\u001b[39;49m\u001b[43mDataFrame\u001b[49m\u001b[38;5;241;43m.\u001b[39;49m\u001b[43mfrom_dict\u001b[49m\u001b[43m(\u001b[49m\u001b[43m{\u001b[49m\u001b[38;5;124;43m'\u001b[39;49m\u001b[38;5;124;43mHub Coordinates\u001b[39;49m\u001b[38;5;124;43m'\u001b[39;49m\u001b[43m:\u001b[49m\u001b[43m \u001b[49m\u001b[43mhubs\u001b[49m\u001b[43m,\u001b[49m\u001b[43m \u001b[49m\u001b[38;5;124;43m'\u001b[39;49m\u001b[38;5;124;43mAverage Travel Time By Bike\u001b[39;49m\u001b[38;5;124;43m'\u001b[39;49m\u001b[43m:\u001b[49m\u001b[43m \u001b[49m\u001b[43mbike_results\u001b[49m\u001b[43m}\u001b[49m\u001b[43m)\u001b[49m\n\u001b[0;32m     14\u001b[0m subway_avg_times \u001b[38;5;241m=\u001b[39m pd\u001b[38;5;241m.\u001b[39mDataFrame\u001b[38;5;241m.\u001b[39mfrom_dict({\u001b[38;5;124m'\u001b[39m\u001b[38;5;124mHub Coordinates\u001b[39m\u001b[38;5;124m'\u001b[39m: hubs, \u001b[38;5;124m'\u001b[39m\u001b[38;5;124mAverage Travel Time By Metro\u001b[39m\u001b[38;5;124m'\u001b[39m: subway_results})\n\u001b[0;32m     16\u001b[0m \u001b[38;5;28;01mreturn\u001b[39;00m bike_avg_times, subway_avg_times\n",
      "File \u001b[1;32mc:\\Users\\chena\\Desktop\\NYCPublicTransportProject\\.venv\\lib\\site-packages\\pandas\\core\\frame.py:1926\u001b[0m, in \u001b[0;36mDataFrame.from_dict\u001b[1;34m(cls, data, orient, dtype, columns)\u001b[0m\n\u001b[0;32m   1920\u001b[0m     \u001b[38;5;28;01mraise\u001b[39;00m \u001b[38;5;167;01mValueError\u001b[39;00m(\n\u001b[0;32m   1921\u001b[0m         \u001b[38;5;124mf\u001b[39m\u001b[38;5;124m\"\u001b[39m\u001b[38;5;124mExpected \u001b[39m\u001b[38;5;124m'\u001b[39m\u001b[38;5;124mindex\u001b[39m\u001b[38;5;124m'\u001b[39m\u001b[38;5;124m, \u001b[39m\u001b[38;5;124m'\u001b[39m\u001b[38;5;124mcolumns\u001b[39m\u001b[38;5;124m'\u001b[39m\u001b[38;5;124m or \u001b[39m\u001b[38;5;124m'\u001b[39m\u001b[38;5;124mtight\u001b[39m\u001b[38;5;124m'\u001b[39m\u001b[38;5;124m for orient parameter. \u001b[39m\u001b[38;5;124m\"\u001b[39m\n\u001b[0;32m   1922\u001b[0m         \u001b[38;5;124mf\u001b[39m\u001b[38;5;124m\"\u001b[39m\u001b[38;5;124mGot \u001b[39m\u001b[38;5;124m'\u001b[39m\u001b[38;5;132;01m{\u001b[39;00morient\u001b[38;5;132;01m}\u001b[39;00m\u001b[38;5;124m'\u001b[39m\u001b[38;5;124m instead\u001b[39m\u001b[38;5;124m\"\u001b[39m\n\u001b[0;32m   1923\u001b[0m     )\n\u001b[0;32m   1925\u001b[0m \u001b[38;5;28;01mif\u001b[39;00m orient \u001b[38;5;241m!=\u001b[39m \u001b[38;5;124m\"\u001b[39m\u001b[38;5;124mtight\u001b[39m\u001b[38;5;124m\"\u001b[39m:\n\u001b[1;32m-> 1926\u001b[0m     \u001b[38;5;28;01mreturn\u001b[39;00m \u001b[38;5;28;43mcls\u001b[39;49m\u001b[43m(\u001b[49m\u001b[43mdata\u001b[49m\u001b[43m,\u001b[49m\u001b[43m \u001b[49m\u001b[43mindex\u001b[49m\u001b[38;5;241;43m=\u001b[39;49m\u001b[43mindex\u001b[49m\u001b[43m,\u001b[49m\u001b[43m \u001b[49m\u001b[43mcolumns\u001b[49m\u001b[38;5;241;43m=\u001b[39;49m\u001b[43mcolumns\u001b[49m\u001b[43m,\u001b[49m\u001b[43m \u001b[49m\u001b[43mdtype\u001b[49m\u001b[38;5;241;43m=\u001b[39;49m\u001b[43mdtype\u001b[49m\u001b[43m)\u001b[49m\n\u001b[0;32m   1927\u001b[0m \u001b[38;5;28;01melse\u001b[39;00m:\n\u001b[0;32m   1928\u001b[0m     realdata \u001b[38;5;241m=\u001b[39m data[\u001b[38;5;124m\"\u001b[39m\u001b[38;5;124mdata\u001b[39m\u001b[38;5;124m\"\u001b[39m]\n",
      "File \u001b[1;32mc:\\Users\\chena\\Desktop\\NYCPublicTransportProject\\.venv\\lib\\site-packages\\pandas\\core\\frame.py:782\u001b[0m, in \u001b[0;36mDataFrame.__init__\u001b[1;34m(self, data, index, columns, dtype, copy)\u001b[0m\n\u001b[0;32m    776\u001b[0m     mgr \u001b[38;5;241m=\u001b[39m \u001b[38;5;28mself\u001b[39m\u001b[38;5;241m.\u001b[39m_init_mgr(\n\u001b[0;32m    777\u001b[0m         data, axes\u001b[38;5;241m=\u001b[39m{\u001b[38;5;124m\"\u001b[39m\u001b[38;5;124mindex\u001b[39m\u001b[38;5;124m\"\u001b[39m: index, \u001b[38;5;124m\"\u001b[39m\u001b[38;5;124mcolumns\u001b[39m\u001b[38;5;124m\"\u001b[39m: columns}, dtype\u001b[38;5;241m=\u001b[39mdtype, copy\u001b[38;5;241m=\u001b[39mcopy\n\u001b[0;32m    778\u001b[0m     )\n\u001b[0;32m    780\u001b[0m \u001b[38;5;28;01melif\u001b[39;00m \u001b[38;5;28misinstance\u001b[39m(data, \u001b[38;5;28mdict\u001b[39m):\n\u001b[0;32m    781\u001b[0m     \u001b[38;5;66;03m# GH#38939 de facto copy defaults to False only in non-dict cases\u001b[39;00m\n\u001b[1;32m--> 782\u001b[0m     mgr \u001b[38;5;241m=\u001b[39m \u001b[43mdict_to_mgr\u001b[49m\u001b[43m(\u001b[49m\u001b[43mdata\u001b[49m\u001b[43m,\u001b[49m\u001b[43m \u001b[49m\u001b[43mindex\u001b[49m\u001b[43m,\u001b[49m\u001b[43m \u001b[49m\u001b[43mcolumns\u001b[49m\u001b[43m,\u001b[49m\u001b[43m \u001b[49m\u001b[43mdtype\u001b[49m\u001b[38;5;241;43m=\u001b[39;49m\u001b[43mdtype\u001b[49m\u001b[43m,\u001b[49m\u001b[43m \u001b[49m\u001b[43mcopy\u001b[49m\u001b[38;5;241;43m=\u001b[39;49m\u001b[43mcopy\u001b[49m\u001b[43m,\u001b[49m\u001b[43m \u001b[49m\u001b[43mtyp\u001b[49m\u001b[38;5;241;43m=\u001b[39;49m\u001b[43mmanager\u001b[49m\u001b[43m)\u001b[49m\n\u001b[0;32m    783\u001b[0m \u001b[38;5;28;01melif\u001b[39;00m \u001b[38;5;28misinstance\u001b[39m(data, ma\u001b[38;5;241m.\u001b[39mMaskedArray):\n\u001b[0;32m    784\u001b[0m     \u001b[38;5;28;01mfrom\u001b[39;00m\u001b[38;5;250m \u001b[39m\u001b[38;5;21;01mnumpy\u001b[39;00m\u001b[38;5;21;01m.\u001b[39;00m\u001b[38;5;21;01mma\u001b[39;00m\u001b[38;5;250m \u001b[39m\u001b[38;5;28;01mimport\u001b[39;00m mrecords\n",
      "File \u001b[1;32mc:\\Users\\chena\\Desktop\\NYCPublicTransportProject\\.venv\\lib\\site-packages\\pandas\\core\\internals\\construction.py:503\u001b[0m, in \u001b[0;36mdict_to_mgr\u001b[1;34m(data, index, columns, dtype, typ, copy)\u001b[0m\n\u001b[0;32m    499\u001b[0m     \u001b[38;5;28;01melse\u001b[39;00m:\n\u001b[0;32m    500\u001b[0m         \u001b[38;5;66;03m# dtype check to exclude e.g. range objects, scalars\u001b[39;00m\n\u001b[0;32m    501\u001b[0m         arrays \u001b[38;5;241m=\u001b[39m [x\u001b[38;5;241m.\u001b[39mcopy() \u001b[38;5;28;01mif\u001b[39;00m \u001b[38;5;28mhasattr\u001b[39m(x, \u001b[38;5;124m\"\u001b[39m\u001b[38;5;124mdtype\u001b[39m\u001b[38;5;124m\"\u001b[39m) \u001b[38;5;28;01melse\u001b[39;00m x \u001b[38;5;28;01mfor\u001b[39;00m x \u001b[38;5;129;01min\u001b[39;00m arrays]\n\u001b[1;32m--> 503\u001b[0m \u001b[38;5;28;01mreturn\u001b[39;00m \u001b[43marrays_to_mgr\u001b[49m\u001b[43m(\u001b[49m\u001b[43marrays\u001b[49m\u001b[43m,\u001b[49m\u001b[43m \u001b[49m\u001b[43mcolumns\u001b[49m\u001b[43m,\u001b[49m\u001b[43m \u001b[49m\u001b[43mindex\u001b[49m\u001b[43m,\u001b[49m\u001b[43m \u001b[49m\u001b[43mdtype\u001b[49m\u001b[38;5;241;43m=\u001b[39;49m\u001b[43mdtype\u001b[49m\u001b[43m,\u001b[49m\u001b[43m \u001b[49m\u001b[43mtyp\u001b[49m\u001b[38;5;241;43m=\u001b[39;49m\u001b[43mtyp\u001b[49m\u001b[43m,\u001b[49m\u001b[43m \u001b[49m\u001b[43mconsolidate\u001b[49m\u001b[38;5;241;43m=\u001b[39;49m\u001b[43mcopy\u001b[49m\u001b[43m)\u001b[49m\n",
      "File \u001b[1;32mc:\\Users\\chena\\Desktop\\NYCPublicTransportProject\\.venv\\lib\\site-packages\\pandas\\core\\internals\\construction.py:114\u001b[0m, in \u001b[0;36marrays_to_mgr\u001b[1;34m(arrays, columns, index, dtype, verify_integrity, typ, consolidate)\u001b[0m\n\u001b[0;32m    111\u001b[0m \u001b[38;5;28;01mif\u001b[39;00m verify_integrity:\n\u001b[0;32m    112\u001b[0m     \u001b[38;5;66;03m# figure out the index, if necessary\u001b[39;00m\n\u001b[0;32m    113\u001b[0m     \u001b[38;5;28;01mif\u001b[39;00m index \u001b[38;5;129;01mis\u001b[39;00m \u001b[38;5;28;01mNone\u001b[39;00m:\n\u001b[1;32m--> 114\u001b[0m         index \u001b[38;5;241m=\u001b[39m \u001b[43m_extract_index\u001b[49m\u001b[43m(\u001b[49m\u001b[43marrays\u001b[49m\u001b[43m)\u001b[49m\n\u001b[0;32m    115\u001b[0m     \u001b[38;5;28;01melse\u001b[39;00m:\n\u001b[0;32m    116\u001b[0m         index \u001b[38;5;241m=\u001b[39m ensure_index(index)\n",
      "File \u001b[1;32mc:\\Users\\chena\\Desktop\\NYCPublicTransportProject\\.venv\\lib\\site-packages\\pandas\\core\\internals\\construction.py:680\u001b[0m, in \u001b[0;36m_extract_index\u001b[1;34m(data)\u001b[0m\n\u001b[0;32m    677\u001b[0m     \u001b[38;5;28;01mraise\u001b[39;00m \u001b[38;5;167;01mValueError\u001b[39;00m(\u001b[38;5;124m\"\u001b[39m\u001b[38;5;124mAll arrays must be of the same length\u001b[39m\u001b[38;5;124m\"\u001b[39m)\n\u001b[0;32m    679\u001b[0m \u001b[38;5;28;01mif\u001b[39;00m have_dicts:\n\u001b[1;32m--> 680\u001b[0m     \u001b[38;5;28;01mraise\u001b[39;00m \u001b[38;5;167;01mValueError\u001b[39;00m(\n\u001b[0;32m    681\u001b[0m         \u001b[38;5;124m\"\u001b[39m\u001b[38;5;124mMixing dicts with non-Series may lead to ambiguous ordering.\u001b[39m\u001b[38;5;124m\"\u001b[39m\n\u001b[0;32m    682\u001b[0m     )\n\u001b[0;32m    684\u001b[0m \u001b[38;5;28;01mif\u001b[39;00m have_series:\n\u001b[0;32m    685\u001b[0m     \u001b[38;5;28;01mif\u001b[39;00m lengths[\u001b[38;5;241m0\u001b[39m] \u001b[38;5;241m!=\u001b[39m \u001b[38;5;28mlen\u001b[39m(index):\n",
      "\u001b[1;31mValueError\u001b[0m: Mixing dicts with non-Series may lead to ambiguous ordering."
     ]
    }
   ],
   "source": [
    "hubs = [(40.6535720712609, -73.931131331664)] # utica ave brooklyn\n",
    "\n",
    "bikes_results_df, subway_results_df = run_simulation(hubs)\n",
    "\n",
    "# print(\"--- Average Travel Times for All Pairs ---\")\n",
    "# print(f\"Average Bike Travel Time: {math.floor(avg_bike_time_seconds / 60)} minutes and {avg_bike_time_seconds % 60:.0f} seconds\")\n",
    "# print(f\"Average Subway Travel Time: {math.floor(avg_subway_time_seconds / 60)} minutes and {avg_subway_time_seconds % 60:.0f} seconds\")"
   ]
  },
  {
   "cell_type": "code",
   "execution_count": null,
   "id": "5f65bf67",
   "metadata": {},
   "outputs": [
    {
     "data": {
      "text/html": [
       "<div>\n",
       "<style scoped>\n",
       "    .dataframe tbody tr th:only-of-type {\n",
       "        vertical-align: middle;\n",
       "    }\n",
       "\n",
       "    .dataframe tbody tr th {\n",
       "        vertical-align: top;\n",
       "    }\n",
       "\n",
       "    .dataframe thead th {\n",
       "        text-align: right;\n",
       "    }\n",
       "</style>\n",
       "<table border=\"1\" class=\"dataframe\">\n",
       "  <thead>\n",
       "    <tr style=\"text-align: right;\">\n",
       "      <th></th>\n",
       "      <th></th>\n",
       "      <th>Average Travel Time By Bike (s)</th>\n",
       "    </tr>\n",
       "  </thead>\n",
       "  <tbody>\n",
       "    <tr>\n",
       "      <th>40.653572</th>\n",
       "      <th>-73.931131</th>\n",
       "      <td>39:21</td>\n",
       "    </tr>\n",
       "  </tbody>\n",
       "</table>\n",
       "</div>"
      ],
      "text/plain": [
       "                     Average Travel Time By Bike (s)\n",
       "40.653572 -73.931131                           39:21"
      ]
     },
     "execution_count": 15,
     "metadata": {},
     "output_type": "execute_result"
    }
   ],
   "source": [
    "bikes_results_df.head()"
   ]
  },
  {
   "cell_type": "code",
   "execution_count": null,
   "id": "e34f529a",
   "metadata": {},
   "outputs": [
    {
     "data": {
      "text/html": [
       "<div>\n",
       "<style scoped>\n",
       "    .dataframe tbody tr th:only-of-type {\n",
       "        vertical-align: middle;\n",
       "    }\n",
       "\n",
       "    .dataframe tbody tr th {\n",
       "        vertical-align: top;\n",
       "    }\n",
       "\n",
       "    .dataframe thead th {\n",
       "        text-align: right;\n",
       "    }\n",
       "</style>\n",
       "<table border=\"1\" class=\"dataframe\">\n",
       "  <thead>\n",
       "    <tr style=\"text-align: right;\">\n",
       "      <th></th>\n",
       "      <th></th>\n",
       "      <th>Average Travel Time By Metro (s)</th>\n",
       "    </tr>\n",
       "  </thead>\n",
       "  <tbody>\n",
       "    <tr>\n",
       "      <th>40.653572</th>\n",
       "      <th>-73.931131</th>\n",
       "      <td>32:14</td>\n",
       "    </tr>\n",
       "  </tbody>\n",
       "</table>\n",
       "</div>"
      ],
      "text/plain": [
       "                     Average Travel Time By Metro (s)\n",
       "40.653572 -73.931131                            32:14"
      ]
     },
     "execution_count": 16,
     "metadata": {},
     "output_type": "execute_result"
    }
   ],
   "source": [
    "subway_results_df.head()"
   ]
  }
 ],
 "metadata": {
  "kernelspec": {
   "display_name": "project (3.9.22)",
   "language": "python",
   "name": "python3"
  },
  "language_info": {
   "codemirror_mode": {
    "name": "ipython",
    "version": 3
   },
   "file_extension": ".py",
   "mimetype": "text/x-python",
   "name": "python",
   "nbconvert_exporter": "python",
   "pygments_lexer": "ipython3",
   "version": "3.9.22"
  }
 },
 "nbformat": 4,
 "nbformat_minor": 5
}
