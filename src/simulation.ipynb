{
 "cells": [
  {
   "cell_type": "markdown",
   "id": "6eb0e1b3",
   "metadata": {},
   "source": [
    "# Simulate travel time between two points for different transport modes"
   ]
  },
  {
   "cell_type": "code",
   "execution_count": 1,
   "id": "bc5c838d",
   "metadata": {},
   "outputs": [],
   "source": [
    "import haversine as hs\n",
    "import folium\n",
    "import math\n",
    "import sys\n",
    "from pathlib import Path\n",
    "from station_utilities import *\n",
    "from simulations import *\n",
    "from tqdm.notebook import tqdm"
   ]
  },
  {
   "cell_type": "code",
   "execution_count": 2,
   "id": "7b6feefa",
   "metadata": {},
   "outputs": [],
   "source": [
    "def init_stationfinder() -> StationFinder:\n",
    "    \"\"\"\n",
    "    Initializes the StationFinder utility by loading Citibike and subway graph data.\n",
    "\n",
    "    Returns:\n",
    "        StationFinder: An initialized StationFinder object.\n",
    "    \n",
    "    Raises:\n",
    "        SystemExit: If required graph files (.gml) are not found.\n",
    "    \"\"\"\n",
    "    citibike_weekday = '../citibike_weekday_network.gml'\n",
    "    citibike_weekend = '../citibike_weekend_network.gml'\n",
    "    subway_graph = '../subway_graph_weekday_weekend.gml'\n",
    "\n",
    "    citibike_path = citibike_weekday if Path(citibike_weekday).exists() else citibike_weekend\n",
    "\n",
    "    if not Path(citibike_path).exists():\n",
    "            print(\"Error: Citibike graph not found. Please run citibike_processor.py first.\")\n",
    "            sys.exit(1)\n",
    "        \n",
    "    if not Path(subway_graph).exists():\n",
    "        print(f\"Error: Subway graph not found at {subway_graph}\")\n",
    "        sys.exit(1)\n",
    "\n",
    "    print(\"Initializing StationFinder...\")\n",
    "    try:\n",
    "        finder = StationFinder(\n",
    "            citibike_graph_path=citibike_path,\n",
    "            subway_graph_path=subway_graph\n",
    "        )\n",
    "    except Exception as e:\n",
    "        print(f\"Error initializing StationFinder: {e}\")\n",
    "        print(\"\\nIf subway coordinates are not available, you can:\")\n",
    "        print(\"1. Provide a CSV file with subway coordinates\")\n",
    "        print(\"2. Download MTA GTFS data manually from: http://web.mta.info/developers/data/nyct/subway/google_transit.zip\")\n",
    "        sys.exit(1)\n",
    "\n",
    "    return finder"
   ]
  },
  {
   "cell_type": "code",
   "execution_count": 3,
   "id": "635a54a4",
   "metadata": {},
   "outputs": [
    {
     "name": "stdout",
     "output_type": "stream",
     "text": [
      "Initializing StationFinder...\n",
      "Downloading NYC subway coordinates from MTA GTFS...\n",
      "Downloading NYC subway coordinates from MTA GTFS...\n",
      "Successfully loaded 379 subway stations\n",
      "Successfully loaded 379 subway stations\n"
     ]
    }
   ],
   "source": [
    "station_finder = init_stationfinder()"
   ]
  },
  {
   "cell_type": "code",
   "execution_count": 4,
   "id": "4b484fa3",
   "metadata": {},
   "outputs": [],
   "source": [
    "def simulate(src_hub_center, dst_hub_center, station_finder, radius_km=1.0, num_points=100, departure_time=(8,0)):\n",
    "    m = None\n",
    "\n",
    "    simulator = Simulator(finder=station_finder)\n",
    "\n",
    "    src_hub_points = simulator.generate_random_points(src_hub_center, radius_km=radius_km, num_points=num_points)\n",
    "    dst_hub_points = simulator.generate_random_points(dst_hub_center, radius_km=radius_km, num_points=num_points)        \n",
    "\n",
    "    # --- Calculate for Bike Transit ---\n",
    "    print(\"\" + \"=\"*80)\n",
    "    print('Simulating Citibike journeys...')\n",
    "    print(\"\" + \"=\"*80)\n",
    "    bike_travel_time_matrix, bike_route_matrix = simulator.calculate_travel_time_matrix(src_hub_points, dst_hub_points, radius_km=radius_km, mode='citibike', departure_time=departure_time)\n",
    "\n",
    "    # --- Calculate for Subway Transit ---\n",
    "    subway_travel_time_matrix, subway_route_matrix = simulator.calculate_travel_time_matrix(src_hub_points, dst_hub_points, radius_km=radius_km, mode='subway', departure_time=departure_time)\n",
    "\n",
    "    print(\"Now inserting virtual station at source hub center...\")\n",
    "    simulator.insert_station(('virtual-station', src_hub_center))\n",
    "\n",
    "    # --- Calculate for Subway Transit （with virtual stations) ---\n",
    "    virtual_subway_travel_time_matrix, virtual_subway_route_matrix = simulator.calculate_travel_time_matrix(src_hub_points, dst_hub_points, radius_km=radius_km, mode='subway', departure_time=departure_time)\n",
    "\n",
    "    results = {\n",
    "        'bike_travel_time_matrix': bike_travel_time_matrix,\n",
    "        'bike_route_matrix': bike_route_matrix,\n",
    "        'subway_travel_time_matrix': subway_travel_time_matrix,\n",
    "        'subway_route_matrix': subway_route_matrix,\n",
    "        'virtual_subway_travel_time_matrix': virtual_subway_travel_time_matrix,\n",
    "        'virtual_subway_route_matrix': virtual_subway_route_matrix\n",
    "    }\n",
    "\n",
    "    print(\"Now removing virtual station at source hub center before next iteration...\")\n",
    "    simulator.remove_station(('virtual-station'))\n",
    "\n",
    "    # create a map visualization of the results\n",
    "    # m = simulator.map_simulation_results(bike_route_matrix, subway_route_matrix, src_hub_points, dst_hub_points)\n",
    "\n",
    "    return results, m"
   ]
  },
  {
   "cell_type": "code",
   "execution_count": 5,
   "id": "a3f7b044",
   "metadata": {},
   "outputs": [],
   "source": [
    "def calculate_average_travel_times(results):\n",
    "    bike_tt_matrix, subway_tt_matrix, virtual_subway_tt_matrix = results['bike_travel_time_matrix'], results['subway_travel_time_matrix'], results['virtual_subway_travel_time_matrix']\n",
    "\n",
    "    # Calculate the mean of all values in the bike travel time matrix\n",
    "    avg_bike_time_seconds = np.mean(bike_tt_matrix)\n",
    "\n",
    "    # Calculate the mean of all values in the subway travel time matrix\n",
    "    avg_subway_time_seconds = np.mean(subway_tt_matrix)\n",
    "\n",
    "    avg_virtual_subway_time_seconds = np.mean(virtual_subway_tt_matrix)\n",
    "\n",
    "    return avg_bike_time_seconds, avg_subway_time_seconds, avg_virtual_subway_time_seconds"
   ]
  },
  {
   "cell_type": "code",
   "execution_count": 6,
   "id": "a6cb5ed4",
   "metadata": {},
   "outputs": [],
   "source": [
    "def run_simulation(src_hubs, dst_hub, radius_km=1.0, num_points=100, departure_time=(8,0)):\n",
    "    dst_hub_center = dst_hub[1]\n",
    "\n",
    "    bike_results = dict()\n",
    "    subway_results = dict()\n",
    "    virtual_subway_results = dict()\n",
    "\n",
    "    for i, hub in enumerate(src_hubs):\n",
    "        hub_coords = src_hubs[hub]\n",
    "        print(\"\" + \"=\"*80)\n",
    "        print(f\"\\nRunning simulations for source hub {i+1}/{len(src_hubs)} ({hub}) at location: {hub_coords}\\n\")\n",
    "        print(\"\" + \"=\"*80)\n",
    "        results, m = simulate(hub_coords, dst_hub_center, station_finder, radius_km=radius_km, num_points=num_points, departure_time=departure_time)\n",
    "        avg_bike_time, avg_subway_time, avg_virtual_subway_time = calculate_average_travel_times(results)\n",
    "        \n",
    "        avg_bike_time_seconds = f\"{int(round(avg_bike_time % 60)):02d}\"\n",
    "        avg_subway_time_seconds = f\"{int(round(avg_subway_time % 60)):02d}\"\n",
    "        avg_virtual_subway_time_seconds = f\"{int(round(avg_virtual_subway_time % 60)):02d}\"\n",
    "\n",
    "        bike_results[hub] = f\"{math.floor(avg_bike_time / 60)}:{avg_bike_time_seconds}\"\n",
    "        subway_results[hub] = f\"{math.floor(avg_subway_time / 60)}:{avg_subway_time_seconds}\"\n",
    "        virtual_subway_results[hub] = f\"{math.floor(avg_virtual_subway_time / 60)}:{avg_virtual_subway_time_seconds}\"\n",
    "\n",
    "    bike_avg_times = pd.DataFrame.from_dict({'Average Travel Time By Bike': bike_results})\n",
    "    subway_avg_times = pd.DataFrame.from_dict({'Average Travel Time By Subway': subway_results})\n",
    "    virtual_subway_avg_times = pd.DataFrame.from_dict({'Average Travel Time By Subway (w. virtual stations)': virtual_subway_results})\n",
    "    print(\"\" + \"=\"*80)\n",
    "    print(f\"\\nSimulation for dst {dst_hub[0]} complete!\\n\")\n",
    "    print(\"\" + \"=\"*80)\n",
    "\n",
    "    return bike_avg_times, subway_avg_times, virtual_subway_avg_times"
   ]
  },
  {
   "cell_type": "code",
   "execution_count": 7,
   "id": "a98cfcbd",
   "metadata": {},
   "outputs": [],
   "source": [
    "src_hubs = {\n",
    "    \"Roosevelt Island Coast\": (40.7699167, -73.9278056),\n",
    "    \"Steinway St / 31 Av\": (40.7612778, -73.9171111),\n",
    "    \"North Brooklyn (Gates / Throop Av)\": (40.6872500, -73.9417778),\n",
    "    \"Brooklyn Navy Yard (Flushing / Navy St)\": (40.6982778, -73.9805556),\n",
    "    \"South Bronx (161 St / Melrose Av)\": (40.8241389, -73.9139167),\n",
    "    \"South Manhattan (Houston / Clinton St)\": (40.7214444, -73.9838611),\n",
    "    \"South Manhattan (Ave A / St. Marks Pl)\": (40.7260556, -73.9835000)\n",
    "}\n",
    "\n",
    "dst_hubs = {\n",
    "    \"Little Italy / Chinatown\": (40.7194167, -73.9975556),\n",
    "    \"Central Park Entrance / Columbus Monument\": (40.7678889, -73.9820556),\n",
    "    \"The Bronx (Residential)\": (40.8568889, -73.8877222),\n",
    "    \"Astoria Park (North Roosevelt Island Coast)\": (40.7818333, -73.9173056),\n",
    "    \"Red Hook (Brooklyn Bay Area)\": (40.6739722, -74.0081111),\n",
    "    \"North Queens / Jackson Heights\": (40.7436667, -73.8871111),\n",
    "    \"West Queens / North Brooklyn\": (40.7123889, -73.9440278)\n",
    "}"
   ]
  },
  {
   "cell_type": "markdown",
   "id": "7808e42e",
   "metadata": {},
   "source": [
    "## Simulate"
   ]
  },
  {
   "cell_type": "code",
   "execution_count": null,
   "id": "f1c446f9",
   "metadata": {},
   "outputs": [
    {
     "data": {
      "application/vnd.jupyter.widget-view+json": {
       "model_id": "3f9d41a6f0dd49768879f948fbef9f79",
       "version_major": 2,
       "version_minor": 0
      },
      "text/plain": [
       "Simulating travels to destination hubs::   0%|          | 0/7 [00:00<?, ?it/s]"
      ]
     },
     "metadata": {},
     "output_type": "display_data"
    },
    {
     "name": "stdout",
     "output_type": "stream",
     "text": [
      "================================================================================\n",
      "\n",
      "Running simulations for source hub 1/7 (Roosevelt Island Coast) at location: (40.7699167, -73.9278056)\n",
      "\n",
      "================================================================================\n",
      "================================================================================\n",
      "Simulating Citibike journeys...\n",
      "================================================================================\n"
     ]
    },
    {
     "data": {
      "application/vnd.jupyter.widget-view+json": {
       "model_id": "d6843e0d4bda4c2fa4744af7aff7ccf1",
       "version_major": 2,
       "version_minor": 0
      },
      "text/plain": [
       "Calculating subway travel times:   0%|          | 0/100 [00:00<?, ?it/s]"
      ]
     },
     "metadata": {},
     "output_type": "display_data"
    },
    {
     "name": "stdout",
     "output_type": "stream",
     "text": [
      "Now inserting virtual station at source hub center...\n",
      "Inserting new station: virtual-station at (40.7699167, -73.9278056)\n"
     ]
    },
    {
     "data": {
      "application/vnd.jupyter.widget-view+json": {
       "model_id": "c68d34a56c2b41579b948cc1903a9a2c",
       "version_major": 2,
       "version_minor": 0
      },
      "text/plain": [
       "Calculating subway travel times:   0%|          | 0/100 [00:00<?, ?it/s]"
      ]
     },
     "metadata": {},
     "output_type": "display_data"
    },
    {
     "name": "stdout",
     "output_type": "stream",
     "text": [
      "Now removing virtual station at source hub center before next iteration...\n",
      "Removing station: virtual-station\n",
      "================================================================================\n",
      "\n",
      "Running simulations for source hub 2/7 (Steinway St / 31 Av) at location: (40.7612778, -73.9171111)\n",
      "\n",
      "================================================================================\n",
      "================================================================================\n",
      "Simulating Citibike journeys...\n",
      "================================================================================\n"
     ]
    },
    {
     "data": {
      "application/vnd.jupyter.widget-view+json": {
       "model_id": "85a45b4dfa3943e490728f255d74230c",
       "version_major": 2,
       "version_minor": 0
      },
      "text/plain": [
       "Calculating subway travel times:   0%|          | 0/100 [00:00<?, ?it/s]"
      ]
     },
     "metadata": {},
     "output_type": "display_data"
    },
    {
     "name": "stdout",
     "output_type": "stream",
     "text": [
      "Now inserting virtual station at source hub center...\n",
      "Inserting new station: virtual-station at (40.7612778, -73.9171111)\n"
     ]
    },
    {
     "data": {
      "application/vnd.jupyter.widget-view+json": {
       "model_id": "12172df1312b41d0a71f277c6f08f19d",
       "version_major": 2,
       "version_minor": 0
      },
      "text/plain": [
       "Calculating subway travel times:   0%|          | 0/100 [00:00<?, ?it/s]"
      ]
     },
     "metadata": {},
     "output_type": "display_data"
    },
    {
     "name": "stdout",
     "output_type": "stream",
     "text": [
      "Now removing virtual station at source hub center before next iteration...\n",
      "Removing station: virtual-station\n",
      "================================================================================\n",
      "\n",
      "Running simulations for source hub 3/7 (North Brooklyn (Gates / Throop Av)) at location: (40.68725, -73.9417778)\n",
      "\n",
      "================================================================================\n",
      "================================================================================\n",
      "Simulating Citibike journeys...\n",
      "================================================================================\n"
     ]
    },
    {
     "data": {
      "application/vnd.jupyter.widget-view+json": {
       "model_id": "574ca5f534944b478504b370a854d14e",
       "version_major": 2,
       "version_minor": 0
      },
      "text/plain": [
       "Calculating subway travel times:   0%|          | 0/100 [00:00<?, ?it/s]"
      ]
     },
     "metadata": {},
     "output_type": "display_data"
    },
    {
     "name": "stdout",
     "output_type": "stream",
     "text": [
      "Now inserting virtual station at source hub center...\n",
      "Inserting new station: virtual-station at (40.68725, -73.9417778)\n"
     ]
    },
    {
     "data": {
      "application/vnd.jupyter.widget-view+json": {
       "model_id": "49744764b7e34818a79e0e031e2c48b7",
       "version_major": 2,
       "version_minor": 0
      },
      "text/plain": [
       "Calculating subway travel times:   0%|          | 0/100 [00:00<?, ?it/s]"
      ]
     },
     "metadata": {},
     "output_type": "display_data"
    },
    {
     "name": "stdout",
     "output_type": "stream",
     "text": [
      "Now removing virtual station at source hub center before next iteration...\n",
      "Removing station: virtual-station\n",
      "================================================================================\n",
      "\n",
      "Running simulations for source hub 4/7 (Brooklyn Navy Yard (Flushing / Navy St)) at location: (40.6982778, -73.9805556)\n",
      "\n",
      "================================================================================\n",
      "================================================================================\n",
      "Simulating Citibike journeys...\n",
      "================================================================================\n"
     ]
    },
    {
     "data": {
      "application/vnd.jupyter.widget-view+json": {
       "model_id": "1111976230e24638b584a452c0b8b26d",
       "version_major": 2,
       "version_minor": 0
      },
      "text/plain": [
       "Calculating subway travel times:   0%|          | 0/100 [00:00<?, ?it/s]"
      ]
     },
     "metadata": {},
     "output_type": "display_data"
    },
    {
     "name": "stdout",
     "output_type": "stream",
     "text": [
      "Now inserting virtual station at source hub center...\n",
      "Inserting new station: virtual-station at (40.6982778, -73.9805556)\n"
     ]
    },
    {
     "data": {
      "application/vnd.jupyter.widget-view+json": {
       "model_id": "0250ad55ec8b461096a10118c7c59c2b",
       "version_major": 2,
       "version_minor": 0
      },
      "text/plain": [
       "Calculating subway travel times:   0%|          | 0/100 [00:00<?, ?it/s]"
      ]
     },
     "metadata": {},
     "output_type": "display_data"
    },
    {
     "name": "stdout",
     "output_type": "stream",
     "text": [
      "Now removing virtual station at source hub center before next iteration...\n",
      "Removing station: virtual-station\n",
      "================================================================================\n",
      "\n",
      "Running simulations for source hub 5/7 (South Bronx (161 St / Melrose Av)) at location: (40.8241389, -73.9139167)\n",
      "\n",
      "================================================================================\n",
      "================================================================================\n",
      "Simulating Citibike journeys...\n",
      "================================================================================\n"
     ]
    },
    {
     "data": {
      "application/vnd.jupyter.widget-view+json": {
       "model_id": "349e25319998450882888fc35be88300",
       "version_major": 2,
       "version_minor": 0
      },
      "text/plain": [
       "Calculating subway travel times:   0%|          | 0/100 [00:00<?, ?it/s]"
      ]
     },
     "metadata": {},
     "output_type": "display_data"
    },
    {
     "name": "stdout",
     "output_type": "stream",
     "text": [
      "Now inserting virtual station at source hub center...\n",
      "Inserting new station: virtual-station at (40.8241389, -73.9139167)\n"
     ]
    },
    {
     "data": {
      "application/vnd.jupyter.widget-view+json": {
       "model_id": "8b8adc1d67704dd48ee4f5f6e0cfa46f",
       "version_major": 2,
       "version_minor": 0
      },
      "text/plain": [
       "Calculating subway travel times:   0%|          | 0/100 [00:00<?, ?it/s]"
      ]
     },
     "metadata": {},
     "output_type": "display_data"
    },
    {
     "name": "stdout",
     "output_type": "stream",
     "text": [
      "Now removing virtual station at source hub center before next iteration...\n",
      "Removing station: virtual-station\n",
      "================================================================================\n",
      "\n",
      "Running simulations for source hub 6/7 (South Manhattan (Houston / Clinton St)) at location: (40.7214444, -73.9838611)\n",
      "\n",
      "================================================================================\n",
      "================================================================================\n",
      "Simulating Citibike journeys...\n",
      "================================================================================\n"
     ]
    },
    {
     "data": {
      "application/vnd.jupyter.widget-view+json": {
       "model_id": "1ad89639c3ee4b0a9c8262bee9cc60f2",
       "version_major": 2,
       "version_minor": 0
      },
      "text/plain": [
       "Calculating subway travel times:   0%|          | 0/100 [00:00<?, ?it/s]"
      ]
     },
     "metadata": {},
     "output_type": "display_data"
    },
    {
     "name": "stdout",
     "output_type": "stream",
     "text": [
      "Now inserting virtual station at source hub center...\n",
      "Inserting new station: virtual-station at (40.7214444, -73.9838611)\n"
     ]
    },
    {
     "data": {
      "application/vnd.jupyter.widget-view+json": {
       "model_id": "2df614e37a4b4bc29e5817533d96ba5e",
       "version_major": 2,
       "version_minor": 0
      },
      "text/plain": [
       "Calculating subway travel times:   0%|          | 0/100 [00:00<?, ?it/s]"
      ]
     },
     "metadata": {},
     "output_type": "display_data"
    },
    {
     "name": "stdout",
     "output_type": "stream",
     "text": [
      "Now removing virtual station at source hub center before next iteration...\n",
      "Removing station: virtual-station\n",
      "================================================================================\n",
      "\n",
      "Running simulations for source hub 7/7 (South Manhattan (Ave A / St. Marks Pl)) at location: (40.7260556, -73.9835)\n",
      "\n",
      "================================================================================\n",
      "================================================================================\n",
      "Simulating Citibike journeys...\n",
      "================================================================================\n"
     ]
    },
    {
     "data": {
      "application/vnd.jupyter.widget-view+json": {
       "model_id": "95190a3a9e2045548e914c1d76d757bd",
       "version_major": 2,
       "version_minor": 0
      },
      "text/plain": [
       "Calculating subway travel times:   0%|          | 0/100 [00:00<?, ?it/s]"
      ]
     },
     "metadata": {},
     "output_type": "display_data"
    },
    {
     "name": "stdout",
     "output_type": "stream",
     "text": [
      "Now inserting virtual station at source hub center...\n",
      "Inserting new station: virtual-station at (40.7260556, -73.9835)\n"
     ]
    },
    {
     "data": {
      "application/vnd.jupyter.widget-view+json": {
       "model_id": "167c4098e41c47f8ba08ba3d14ac8d38",
       "version_major": 2,
       "version_minor": 0
      },
      "text/plain": [
       "Calculating subway travel times:   0%|          | 0/100 [00:00<?, ?it/s]"
      ]
     },
     "metadata": {},
     "output_type": "display_data"
    },
    {
     "name": "stdout",
     "output_type": "stream",
     "text": [
      "Now removing virtual station at source hub center before next iteration...\n",
      "Removing station: virtual-station\n",
      "================================================================================\n",
      "\n",
      "Simulation for dst Little Italy / Chinatown complete!\n",
      "\n",
      "================================================================================\n",
      "                                        Average Travel Time By Bike\n",
      "Roosevelt Island Coast                                        47:31\n",
      "Steinway St / 31 Av                                           48:56\n",
      "North Brooklyn (Gates / Throop Av)                            36:42\n",
      "Brooklyn Navy Yard (Flushing / Navy St)                       26:36\n",
      "South Bronx (161 St / Melrose Av)                             61:47\n",
      "                                        Average Travel Time By Subway\n",
      "Roosevelt Island Coast                                          55:32\n",
      "Steinway St / 31 Av                                             44:11\n",
      "North Brooklyn (Gates / Throop Av)                              42:22\n",
      "Brooklyn Navy Yard (Flushing / Navy St)                         32:25\n",
      "South Bronx (161 St / Melrose Av)                               53:15\n",
      "                                        Average Travel Time By Subway (w. virtual stations)\n",
      "Roosevelt Island Coast                                                               54:17 \n",
      "Steinway St / 31 Av                                                                  43:05 \n",
      "North Brooklyn (Gates / Throop Av)                                                   40:44 \n",
      "Brooklyn Navy Yard (Flushing / Navy St)                                              29:25 \n",
      "South Bronx (161 St / Melrose Av)                                                    52:29 \n",
      "================================================================================\n",
      "\n",
      "Running simulations for source hub 1/7 (Roosevelt Island Coast) at location: (40.7699167, -73.9278056)\n",
      "\n",
      "================================================================================\n",
      "================================================================================\n",
      "Simulating Citibike journeys...\n",
      "================================================================================\n"
     ]
    },
    {
     "data": {
      "application/vnd.jupyter.widget-view+json": {
       "model_id": "2ca1d1a235cb400dba5e35625c53378f",
       "version_major": 2,
       "version_minor": 0
      },
      "text/plain": [
       "Calculating subway travel times:   0%|          | 0/100 [00:00<?, ?it/s]"
      ]
     },
     "metadata": {},
     "output_type": "display_data"
    },
    {
     "name": "stdout",
     "output_type": "stream",
     "text": [
      "Now inserting virtual station at source hub center...\n",
      "Inserting new station: virtual-station at (40.7699167, -73.9278056)\n"
     ]
    },
    {
     "data": {
      "application/vnd.jupyter.widget-view+json": {
       "model_id": "1dd18ef839ca420dafde21cc6220e20d",
       "version_major": 2,
       "version_minor": 0
      },
      "text/plain": [
       "Calculating subway travel times:   0%|          | 0/100 [00:00<?, ?it/s]"
      ]
     },
     "metadata": {},
     "output_type": "display_data"
    },
    {
     "name": "stdout",
     "output_type": "stream",
     "text": [
      "Now removing virtual station at source hub center before next iteration...\n",
      "Removing station: virtual-station\n",
      "================================================================================\n",
      "\n",
      "Running simulations for source hub 2/7 (Steinway St / 31 Av) at location: (40.7612778, -73.9171111)\n",
      "\n",
      "================================================================================\n",
      "================================================================================\n",
      "Simulating Citibike journeys...\n",
      "================================================================================\n"
     ]
    },
    {
     "data": {
      "application/vnd.jupyter.widget-view+json": {
       "model_id": "42664e1e056d4e34ac2f853422d6c86b",
       "version_major": 2,
       "version_minor": 0
      },
      "text/plain": [
       "Calculating subway travel times:   0%|          | 0/100 [00:00<?, ?it/s]"
      ]
     },
     "metadata": {},
     "output_type": "display_data"
    },
    {
     "name": "stdout",
     "output_type": "stream",
     "text": [
      "Now inserting virtual station at source hub center...\n",
      "Inserting new station: virtual-station at (40.7612778, -73.9171111)\n"
     ]
    },
    {
     "data": {
      "application/vnd.jupyter.widget-view+json": {
       "model_id": "996b85a13676440b96497291d62521b6",
       "version_major": 2,
       "version_minor": 0
      },
      "text/plain": [
       "Calculating subway travel times:   0%|          | 0/100 [00:00<?, ?it/s]"
      ]
     },
     "metadata": {},
     "output_type": "display_data"
    },
    {
     "name": "stdout",
     "output_type": "stream",
     "text": [
      "Now removing virtual station at source hub center before next iteration...\n",
      "Removing station: virtual-station\n",
      "================================================================================\n",
      "\n",
      "Running simulations for source hub 3/7 (North Brooklyn (Gates / Throop Av)) at location: (40.68725, -73.9417778)\n",
      "\n",
      "================================================================================\n",
      "================================================================================\n",
      "Simulating Citibike journeys...\n",
      "================================================================================\n"
     ]
    },
    {
     "data": {
      "application/vnd.jupyter.widget-view+json": {
       "model_id": "538f344272e34e5a984a4d2a0a57b667",
       "version_major": 2,
       "version_minor": 0
      },
      "text/plain": [
       "Calculating subway travel times:   0%|          | 0/100 [00:00<?, ?it/s]"
      ]
     },
     "metadata": {},
     "output_type": "display_data"
    },
    {
     "name": "stdout",
     "output_type": "stream",
     "text": [
      "Now inserting virtual station at source hub center...\n",
      "Inserting new station: virtual-station at (40.68725, -73.9417778)\n"
     ]
    },
    {
     "data": {
      "application/vnd.jupyter.widget-view+json": {
       "model_id": "f498b44aafb74bcabce77b5a913db3f9",
       "version_major": 2,
       "version_minor": 0
      },
      "text/plain": [
       "Calculating subway travel times:   0%|          | 0/100 [00:00<?, ?it/s]"
      ]
     },
     "metadata": {},
     "output_type": "display_data"
    },
    {
     "name": "stdout",
     "output_type": "stream",
     "text": [
      "Now removing virtual station at source hub center before next iteration...\n",
      "Removing station: virtual-station\n",
      "================================================================================\n",
      "\n",
      "Running simulations for source hub 4/7 (Brooklyn Navy Yard (Flushing / Navy St)) at location: (40.6982778, -73.9805556)\n",
      "\n",
      "================================================================================\n",
      "================================================================================\n",
      "Simulating Citibike journeys...\n",
      "================================================================================\n"
     ]
    },
    {
     "data": {
      "application/vnd.jupyter.widget-view+json": {
       "model_id": "ad3d66a77f744613aa55a3994ae584a8",
       "version_major": 2,
       "version_minor": 0
      },
      "text/plain": [
       "Calculating subway travel times:   0%|          | 0/100 [00:00<?, ?it/s]"
      ]
     },
     "metadata": {},
     "output_type": "display_data"
    },
    {
     "name": "stdout",
     "output_type": "stream",
     "text": [
      "Now inserting virtual station at source hub center...\n",
      "Inserting new station: virtual-station at (40.6982778, -73.9805556)\n"
     ]
    },
    {
     "data": {
      "application/vnd.jupyter.widget-view+json": {
       "model_id": "8055bb5998f34e4e8bb85682d90b9dad",
       "version_major": 2,
       "version_minor": 0
      },
      "text/plain": [
       "Calculating subway travel times:   0%|          | 0/100 [00:00<?, ?it/s]"
      ]
     },
     "metadata": {},
     "output_type": "display_data"
    },
    {
     "name": "stdout",
     "output_type": "stream",
     "text": [
      "Now removing virtual station at source hub center before next iteration...\n",
      "Removing station: virtual-station\n",
      "================================================================================\n",
      "\n",
      "Running simulations for source hub 5/7 (South Bronx (161 St / Melrose Av)) at location: (40.8241389, -73.9139167)\n",
      "\n",
      "================================================================================\n",
      "================================================================================\n",
      "Simulating Citibike journeys...\n",
      "================================================================================\n"
     ]
    },
    {
     "data": {
      "application/vnd.jupyter.widget-view+json": {
       "model_id": "0c67f56badf0482ca035cbd7a496c695",
       "version_major": 2,
       "version_minor": 0
      },
      "text/plain": [
       "Calculating subway travel times:   0%|          | 0/100 [00:00<?, ?it/s]"
      ]
     },
     "metadata": {},
     "output_type": "display_data"
    },
    {
     "name": "stdout",
     "output_type": "stream",
     "text": [
      "Now inserting virtual station at source hub center...\n",
      "Inserting new station: virtual-station at (40.8241389, -73.9139167)\n"
     ]
    },
    {
     "data": {
      "application/vnd.jupyter.widget-view+json": {
       "model_id": "bb13ac13e5a844feb44edff75b6321ef",
       "version_major": 2,
       "version_minor": 0
      },
      "text/plain": [
       "Calculating subway travel times:   0%|          | 0/100 [00:00<?, ?it/s]"
      ]
     },
     "metadata": {},
     "output_type": "display_data"
    },
    {
     "name": "stdout",
     "output_type": "stream",
     "text": [
      "Now removing virtual station at source hub center before next iteration...\n",
      "Removing station: virtual-station\n",
      "================================================================================\n",
      "\n",
      "Running simulations for source hub 6/7 (South Manhattan (Houston / Clinton St)) at location: (40.7214444, -73.9838611)\n",
      "\n",
      "================================================================================\n",
      "================================================================================\n",
      "Simulating Citibike journeys...\n",
      "================================================================================\n"
     ]
    },
    {
     "data": {
      "application/vnd.jupyter.widget-view+json": {
       "model_id": "4f8b42fa41a947af8ba6ac2151365751",
       "version_major": 2,
       "version_minor": 0
      },
      "text/plain": [
       "Calculating subway travel times:   0%|          | 0/100 [00:00<?, ?it/s]"
      ]
     },
     "metadata": {},
     "output_type": "display_data"
    },
    {
     "name": "stdout",
     "output_type": "stream",
     "text": [
      "Now inserting virtual station at source hub center...\n",
      "Inserting new station: virtual-station at (40.7214444, -73.9838611)\n"
     ]
    },
    {
     "data": {
      "application/vnd.jupyter.widget-view+json": {
       "model_id": "3620c4c9b293439493327fff576dff56",
       "version_major": 2,
       "version_minor": 0
      },
      "text/plain": [
       "Calculating subway travel times:   0%|          | 0/100 [00:00<?, ?it/s]"
      ]
     },
     "metadata": {},
     "output_type": "display_data"
    },
    {
     "name": "stdout",
     "output_type": "stream",
     "text": [
      "Now removing virtual station at source hub center before next iteration...\n",
      "Removing station: virtual-station\n",
      "================================================================================\n",
      "\n",
      "Running simulations for source hub 7/7 (South Manhattan (Ave A / St. Marks Pl)) at location: (40.7260556, -73.9835)\n",
      "\n",
      "================================================================================\n",
      "================================================================================\n",
      "Simulating Citibike journeys...\n",
      "================================================================================\n"
     ]
    },
    {
     "data": {
      "application/vnd.jupyter.widget-view+json": {
       "model_id": "101ca4ec392a4006a4be4dc9f63ddfeb",
       "version_major": 2,
       "version_minor": 0
      },
      "text/plain": [
       "Calculating subway travel times:   0%|          | 0/100 [00:00<?, ?it/s]"
      ]
     },
     "metadata": {},
     "output_type": "display_data"
    },
    {
     "name": "stdout",
     "output_type": "stream",
     "text": [
      "Now inserting virtual station at source hub center...\n",
      "Inserting new station: virtual-station at (40.7260556, -73.9835)\n"
     ]
    },
    {
     "data": {
      "application/vnd.jupyter.widget-view+json": {
       "model_id": "02315e206c5442799227dc00b4404274",
       "version_major": 2,
       "version_minor": 0
      },
      "text/plain": [
       "Calculating subway travel times:   0%|          | 0/100 [00:00<?, ?it/s]"
      ]
     },
     "metadata": {},
     "output_type": "display_data"
    },
    {
     "name": "stdout",
     "output_type": "stream",
     "text": [
      "Now removing virtual station at source hub center before next iteration...\n",
      "Removing station: virtual-station\n",
      "================================================================================\n",
      "\n",
      "Simulation for dst Central Park Entrance / Columbus Monument complete!\n",
      "\n",
      "================================================================================\n",
      "                                        Average Travel Time By Bike\n",
      "Roosevelt Island Coast                                        36:13\n",
      "Steinway St / 31 Av                                           32:15\n",
      "North Brooklyn (Gates / Throop Av)                            59:52\n",
      "Brooklyn Navy Yard (Flushing / Navy St)                       52:36\n",
      "South Bronx (161 St / Melrose Av)                             47:39\n",
      "                                        Average Travel Time By Subway\n",
      "Roosevelt Island Coast                                          42:28\n",
      "Steinway St / 31 Av                                             33:60\n",
      "North Brooklyn (Gates / Throop Av)                              52:55\n",
      "Brooklyn Navy Yard (Flushing / Navy St)                         49:10\n",
      "South Bronx (161 St / Melrose Av)                               46:58\n",
      "                                        Average Travel Time By Subway (w. virtual stations)\n",
      "Roosevelt Island Coast                                                               50:59 \n",
      "Steinway St / 31 Av                                                                  37:05 \n",
      "North Brooklyn (Gates / Throop Av)                                                   51:58 \n",
      "Brooklyn Navy Yard (Flushing / Navy St)                                              44:25 \n",
      "South Bronx (161 St / Melrose Av)                                                    42:16 \n",
      "================================================================================\n",
      "\n",
      "Running simulations for source hub 1/7 (Roosevelt Island Coast) at location: (40.7699167, -73.9278056)\n",
      "\n",
      "================================================================================\n",
      "================================================================================\n",
      "Simulating Citibike journeys...\n",
      "================================================================================\n"
     ]
    },
    {
     "data": {
      "application/vnd.jupyter.widget-view+json": {
       "model_id": "b3e29754cb614bfb8915fc973b53efad",
       "version_major": 2,
       "version_minor": 0
      },
      "text/plain": [
       "Calculating subway travel times:   0%|          | 0/100 [00:00<?, ?it/s]"
      ]
     },
     "metadata": {},
     "output_type": "display_data"
    },
    {
     "name": "stdout",
     "output_type": "stream",
     "text": [
      "Now inserting virtual station at source hub center...\n",
      "Inserting new station: virtual-station at (40.7699167, -73.9278056)\n"
     ]
    },
    {
     "data": {
      "application/vnd.jupyter.widget-view+json": {
       "model_id": "3a21198942b44da18c41bb3acafd1f83",
       "version_major": 2,
       "version_minor": 0
      },
      "text/plain": [
       "Calculating subway travel times:   0%|          | 0/100 [00:00<?, ?it/s]"
      ]
     },
     "metadata": {},
     "output_type": "display_data"
    },
    {
     "name": "stdout",
     "output_type": "stream",
     "text": [
      "Now removing virtual station at source hub center before next iteration...\n",
      "Removing station: virtual-station\n",
      "================================================================================\n",
      "\n",
      "Running simulations for source hub 2/7 (Steinway St / 31 Av) at location: (40.7612778, -73.9171111)\n",
      "\n",
      "================================================================================\n",
      "================================================================================\n",
      "Simulating Citibike journeys...\n",
      "================================================================================\n"
     ]
    },
    {
     "data": {
      "application/vnd.jupyter.widget-view+json": {
       "model_id": "ddc83b781e124825924210e488aa4f58",
       "version_major": 2,
       "version_minor": 0
      },
      "text/plain": [
       "Calculating subway travel times:   0%|          | 0/100 [00:00<?, ?it/s]"
      ]
     },
     "metadata": {},
     "output_type": "display_data"
    },
    {
     "name": "stdout",
     "output_type": "stream",
     "text": [
      "Now inserting virtual station at source hub center...\n",
      "Inserting new station: virtual-station at (40.7612778, -73.9171111)\n"
     ]
    },
    {
     "data": {
      "application/vnd.jupyter.widget-view+json": {
       "model_id": "a1a0edb8fa824a2283c0ccb0824b5458",
       "version_major": 2,
       "version_minor": 0
      },
      "text/plain": [
       "Calculating subway travel times:   0%|          | 0/100 [00:00<?, ?it/s]"
      ]
     },
     "metadata": {},
     "output_type": "display_data"
    },
    {
     "name": "stdout",
     "output_type": "stream",
     "text": [
      "Now removing virtual station at source hub center before next iteration...\n",
      "Removing station: virtual-station\n",
      "================================================================================\n",
      "\n",
      "Running simulations for source hub 3/7 (North Brooklyn (Gates / Throop Av)) at location: (40.68725, -73.9417778)\n",
      "\n",
      "================================================================================\n",
      "================================================================================\n",
      "Simulating Citibike journeys...\n",
      "================================================================================\n"
     ]
    },
    {
     "data": {
      "application/vnd.jupyter.widget-view+json": {
       "model_id": "c423fc871b64456780d2d14c6fe7a28b",
       "version_major": 2,
       "version_minor": 0
      },
      "text/plain": [
       "Calculating subway travel times:   0%|          | 0/100 [00:00<?, ?it/s]"
      ]
     },
     "metadata": {},
     "output_type": "display_data"
    },
    {
     "name": "stdout",
     "output_type": "stream",
     "text": [
      "Now inserting virtual station at source hub center...\n",
      "Inserting new station: virtual-station at (40.68725, -73.9417778)\n"
     ]
    },
    {
     "data": {
      "application/vnd.jupyter.widget-view+json": {
       "model_id": "155a0b3682c9448a86625c599eeb66fb",
       "version_major": 2,
       "version_minor": 0
      },
      "text/plain": [
       "Calculating subway travel times:   0%|          | 0/100 [00:00<?, ?it/s]"
      ]
     },
     "metadata": {},
     "output_type": "display_data"
    },
    {
     "name": "stdout",
     "output_type": "stream",
     "text": [
      "Now removing virtual station at source hub center before next iteration...\n",
      "Removing station: virtual-station\n",
      "================================================================================\n",
      "\n",
      "Running simulations for source hub 4/7 (Brooklyn Navy Yard (Flushing / Navy St)) at location: (40.6982778, -73.9805556)\n",
      "\n",
      "================================================================================\n",
      "================================================================================\n",
      "Simulating Citibike journeys...\n",
      "================================================================================\n"
     ]
    },
    {
     "data": {
      "application/vnd.jupyter.widget-view+json": {
       "model_id": "3c5e500b5f924683a5b6c2a8974a5e5e",
       "version_major": 2,
       "version_minor": 0
      },
      "text/plain": [
       "Calculating subway travel times:   0%|          | 0/100 [00:00<?, ?it/s]"
      ]
     },
     "metadata": {},
     "output_type": "display_data"
    },
    {
     "name": "stdout",
     "output_type": "stream",
     "text": [
      "Now inserting virtual station at source hub center...\n",
      "Inserting new station: virtual-station at (40.6982778, -73.9805556)\n"
     ]
    },
    {
     "data": {
      "application/vnd.jupyter.widget-view+json": {
       "model_id": "3edfd61034864dd985fa4dde96c71eba",
       "version_major": 2,
       "version_minor": 0
      },
      "text/plain": [
       "Calculating subway travel times:   0%|          | 0/100 [00:00<?, ?it/s]"
      ]
     },
     "metadata": {},
     "output_type": "display_data"
    },
    {
     "name": "stdout",
     "output_type": "stream",
     "text": [
      "Now removing virtual station at source hub center before next iteration...\n",
      "Removing station: virtual-station\n",
      "================================================================================\n",
      "\n",
      "Running simulations for source hub 5/7 (South Bronx (161 St / Melrose Av)) at location: (40.8241389, -73.9139167)\n",
      "\n",
      "================================================================================\n",
      "================================================================================\n",
      "Simulating Citibike journeys...\n",
      "================================================================================\n"
     ]
    },
    {
     "data": {
      "application/vnd.jupyter.widget-view+json": {
       "model_id": "97a3ed7329fc4e11aad65598eeabaa18",
       "version_major": 2,
       "version_minor": 0
      },
      "text/plain": [
       "Calculating subway travel times:   0%|          | 0/100 [00:00<?, ?it/s]"
      ]
     },
     "metadata": {},
     "output_type": "display_data"
    },
    {
     "name": "stdout",
     "output_type": "stream",
     "text": [
      "Now inserting virtual station at source hub center...\n",
      "Inserting new station: virtual-station at (40.8241389, -73.9139167)\n"
     ]
    },
    {
     "data": {
      "application/vnd.jupyter.widget-view+json": {
       "model_id": "71a2050357b246bfa0fd05e06813ae96",
       "version_major": 2,
       "version_minor": 0
      },
      "text/plain": [
       "Calculating subway travel times:   0%|          | 0/100 [00:00<?, ?it/s]"
      ]
     },
     "metadata": {},
     "output_type": "display_data"
    },
    {
     "name": "stdout",
     "output_type": "stream",
     "text": [
      "Now removing virtual station at source hub center before next iteration...\n",
      "Removing station: virtual-station\n",
      "================================================================================\n",
      "\n",
      "Running simulations for source hub 6/7 (South Manhattan (Houston / Clinton St)) at location: (40.7214444, -73.9838611)\n",
      "\n",
      "================================================================================\n",
      "================================================================================\n",
      "Simulating Citibike journeys...\n",
      "================================================================================\n"
     ]
    },
    {
     "data": {
      "application/vnd.jupyter.widget-view+json": {
       "model_id": "b4899a2b8e6d465a8c0f8a41efd15241",
       "version_major": 2,
       "version_minor": 0
      },
      "text/plain": [
       "Calculating subway travel times:   0%|          | 0/100 [00:00<?, ?it/s]"
      ]
     },
     "metadata": {},
     "output_type": "display_data"
    },
    {
     "name": "stdout",
     "output_type": "stream",
     "text": [
      "Now inserting virtual station at source hub center...\n",
      "Inserting new station: virtual-station at (40.7214444, -73.9838611)\n"
     ]
    },
    {
     "data": {
      "application/vnd.jupyter.widget-view+json": {
       "model_id": "10b5a212837b4718893b293e2b69eb25",
       "version_major": 2,
       "version_minor": 0
      },
      "text/plain": [
       "Calculating subway travel times:   0%|          | 0/100 [00:00<?, ?it/s]"
      ]
     },
     "metadata": {},
     "output_type": "display_data"
    },
    {
     "name": "stdout",
     "output_type": "stream",
     "text": [
      "Now removing virtual station at source hub center before next iteration...\n",
      "Removing station: virtual-station\n",
      "================================================================================\n",
      "\n",
      "Running simulations for source hub 7/7 (South Manhattan (Ave A / St. Marks Pl)) at location: (40.7260556, -73.9835)\n",
      "\n",
      "================================================================================\n",
      "================================================================================\n",
      "Simulating Citibike journeys...\n",
      "================================================================================\n"
     ]
    },
    {
     "data": {
      "application/vnd.jupyter.widget-view+json": {
       "model_id": "cb77cd54cccc4107b3a078471825e27a",
       "version_major": 2,
       "version_minor": 0
      },
      "text/plain": [
       "Calculating subway travel times:   0%|          | 0/100 [00:00<?, ?it/s]"
      ]
     },
     "metadata": {},
     "output_type": "display_data"
    },
    {
     "name": "stdout",
     "output_type": "stream",
     "text": [
      "Now inserting virtual station at source hub center...\n",
      "Inserting new station: virtual-station at (40.7260556, -73.9835)\n"
     ]
    },
    {
     "data": {
      "application/vnd.jupyter.widget-view+json": {
       "model_id": "5ddfc0ee1eca4fd5896a6351610674ce",
       "version_major": 2,
       "version_minor": 0
      },
      "text/plain": [
       "Calculating subway travel times:   0%|          | 0/100 [00:00<?, ?it/s]"
      ]
     },
     "metadata": {},
     "output_type": "display_data"
    },
    {
     "name": "stdout",
     "output_type": "stream",
     "text": [
      "Now removing virtual station at source hub center before next iteration...\n",
      "Removing station: virtual-station\n",
      "================================================================================\n",
      "\n",
      "Simulation for dst The Bronx (Residential) complete!\n",
      "\n",
      "================================================================================\n",
      "                                        Average Travel Time By Bike\n",
      "Roosevelt Island Coast                                        54:36\n",
      "Steinway St / 31 Av                                           55:36\n",
      "North Brooklyn (Gates / Throop Av)                            96:52\n",
      "Brooklyn Navy Yard (Flushing / Navy St)                       92:56\n",
      "South Bronx (161 St / Melrose Av)                             22:30\n",
      "                                        Average Travel Time By Subway\n",
      "Roosevelt Island Coast                                         100:53\n",
      "Steinway St / 31 Av                                             95:58\n",
      "North Brooklyn (Gates / Throop Av)                             111:32\n",
      "Brooklyn Navy Yard (Flushing / Navy St)                         95:21\n",
      "South Bronx (161 St / Melrose Av)                               67:06\n",
      "                                        Average Travel Time By Subway (w. virtual stations)\n",
      "Roosevelt Island Coast                                                              109:25 \n",
      "Steinway St / 31 Av                                                                  96:41 \n",
      "North Brooklyn (Gates / Throop Av)                                                  109:52 \n",
      "Brooklyn Navy Yard (Flushing / Navy St)                                              88:00 \n",
      "South Bronx (161 St / Melrose Av)                                                    64:54 \n",
      "================================================================================\n",
      "\n",
      "Running simulations for source hub 1/7 (Roosevelt Island Coast) at location: (40.7699167, -73.9278056)\n",
      "\n",
      "================================================================================\n",
      "================================================================================\n",
      "Simulating Citibike journeys...\n",
      "================================================================================\n"
     ]
    },
    {
     "data": {
      "application/vnd.jupyter.widget-view+json": {
       "model_id": "9c08cbc245e148188e330f839b558b42",
       "version_major": 2,
       "version_minor": 0
      },
      "text/plain": [
       "Calculating subway travel times:   0%|          | 0/100 [00:00<?, ?it/s]"
      ]
     },
     "metadata": {},
     "output_type": "display_data"
    },
    {
     "name": "stdout",
     "output_type": "stream",
     "text": [
      "Now inserting virtual station at source hub center...\n",
      "Inserting new station: virtual-station at (40.7699167, -73.9278056)\n"
     ]
    },
    {
     "data": {
      "application/vnd.jupyter.widget-view+json": {
       "model_id": "f1725fe809f748048a4a89e5afa20072",
       "version_major": 2,
       "version_minor": 0
      },
      "text/plain": [
       "Calculating subway travel times:   0%|          | 0/100 [00:00<?, ?it/s]"
      ]
     },
     "metadata": {},
     "output_type": "display_data"
    },
    {
     "name": "stdout",
     "output_type": "stream",
     "text": [
      "Now removing virtual station at source hub center before next iteration...\n",
      "Removing station: virtual-station\n",
      "================================================================================\n",
      "\n",
      "Running simulations for source hub 2/7 (Steinway St / 31 Av) at location: (40.7612778, -73.9171111)\n",
      "\n",
      "================================================================================\n",
      "================================================================================\n",
      "Simulating Citibike journeys...\n",
      "================================================================================\n"
     ]
    },
    {
     "data": {
      "application/vnd.jupyter.widget-view+json": {
       "model_id": "3811b66ae8ee482aa96a557802ee9311",
       "version_major": 2,
       "version_minor": 0
      },
      "text/plain": [
       "Calculating subway travel times:   0%|          | 0/100 [00:00<?, ?it/s]"
      ]
     },
     "metadata": {},
     "output_type": "display_data"
    },
    {
     "name": "stdout",
     "output_type": "stream",
     "text": [
      "Now inserting virtual station at source hub center...\n",
      "Inserting new station: virtual-station at (40.7612778, -73.9171111)\n"
     ]
    },
    {
     "data": {
      "application/vnd.jupyter.widget-view+json": {
       "model_id": "249912ccc26c4f3fa74e5c521570f595",
       "version_major": 2,
       "version_minor": 0
      },
      "text/plain": [
       "Calculating subway travel times:   0%|          | 0/100 [00:00<?, ?it/s]"
      ]
     },
     "metadata": {},
     "output_type": "display_data"
    },
    {
     "name": "stdout",
     "output_type": "stream",
     "text": [
      "Now removing virtual station at source hub center before next iteration...\n",
      "Removing station: virtual-station\n",
      "================================================================================\n",
      "\n",
      "Running simulations for source hub 3/7 (North Brooklyn (Gates / Throop Av)) at location: (40.68725, -73.9417778)\n",
      "\n",
      "================================================================================\n",
      "================================================================================\n",
      "Simulating Citibike journeys...\n",
      "================================================================================\n"
     ]
    },
    {
     "data": {
      "application/vnd.jupyter.widget-view+json": {
       "model_id": "9bbfe1e648174437b64a5ef31d6747c8",
       "version_major": 2,
       "version_minor": 0
      },
      "text/plain": [
       "Calculating subway travel times:   0%|          | 0/100 [00:00<?, ?it/s]"
      ]
     },
     "metadata": {},
     "output_type": "display_data"
    },
    {
     "name": "stdout",
     "output_type": "stream",
     "text": [
      "Now inserting virtual station at source hub center...\n",
      "Inserting new station: virtual-station at (40.68725, -73.9417778)\n"
     ]
    },
    {
     "data": {
      "application/vnd.jupyter.widget-view+json": {
       "model_id": "350cbc420a284876bfd519b5ed1ad0df",
       "version_major": 2,
       "version_minor": 0
      },
      "text/plain": [
       "Calculating subway travel times:   0%|          | 0/100 [00:00<?, ?it/s]"
      ]
     },
     "metadata": {},
     "output_type": "display_data"
    },
    {
     "name": "stdout",
     "output_type": "stream",
     "text": [
      "Now removing virtual station at source hub center before next iteration...\n",
      "Removing station: virtual-station\n",
      "================================================================================\n",
      "\n",
      "Running simulations for source hub 4/7 (Brooklyn Navy Yard (Flushing / Navy St)) at location: (40.6982778, -73.9805556)\n",
      "\n",
      "================================================================================\n",
      "================================================================================\n",
      "Simulating Citibike journeys...\n",
      "================================================================================\n"
     ]
    },
    {
     "data": {
      "application/vnd.jupyter.widget-view+json": {
       "model_id": "a6296567684f4bfbb405f57cba201e18",
       "version_major": 2,
       "version_minor": 0
      },
      "text/plain": [
       "Calculating subway travel times:   0%|          | 0/100 [00:00<?, ?it/s]"
      ]
     },
     "metadata": {},
     "output_type": "display_data"
    },
    {
     "name": "stdout",
     "output_type": "stream",
     "text": [
      "Now inserting virtual station at source hub center...\n",
      "Inserting new station: virtual-station at (40.6982778, -73.9805556)\n"
     ]
    },
    {
     "data": {
      "application/vnd.jupyter.widget-view+json": {
       "model_id": "2d31d651dd314f89b8f522409a216989",
       "version_major": 2,
       "version_minor": 0
      },
      "text/plain": [
       "Calculating subway travel times:   0%|          | 0/100 [00:00<?, ?it/s]"
      ]
     },
     "metadata": {},
     "output_type": "display_data"
    },
    {
     "name": "stdout",
     "output_type": "stream",
     "text": [
      "Now removing virtual station at source hub center before next iteration...\n",
      "Removing station: virtual-station\n",
      "================================================================================\n",
      "\n",
      "Running simulations for source hub 5/7 (South Bronx (161 St / Melrose Av)) at location: (40.8241389, -73.9139167)\n",
      "\n",
      "================================================================================\n",
      "================================================================================\n",
      "Simulating Citibike journeys...\n",
      "================================================================================\n"
     ]
    },
    {
     "data": {
      "application/vnd.jupyter.widget-view+json": {
       "model_id": "5a3a7c8a23094890981f0955194a3a87",
       "version_major": 2,
       "version_minor": 0
      },
      "text/plain": [
       "Calculating subway travel times:   0%|          | 0/100 [00:00<?, ?it/s]"
      ]
     },
     "metadata": {},
     "output_type": "display_data"
    },
    {
     "name": "stdout",
     "output_type": "stream",
     "text": [
      "Now inserting virtual station at source hub center...\n",
      "Inserting new station: virtual-station at (40.8241389, -73.9139167)\n"
     ]
    },
    {
     "data": {
      "application/vnd.jupyter.widget-view+json": {
       "model_id": "470ca74ff28e4fa39c064792a4a491d0",
       "version_major": 2,
       "version_minor": 0
      },
      "text/plain": [
       "Calculating subway travel times:   0%|          | 0/100 [00:00<?, ?it/s]"
      ]
     },
     "metadata": {},
     "output_type": "display_data"
    },
    {
     "name": "stdout",
     "output_type": "stream",
     "text": [
      "Now removing virtual station at source hub center before next iteration...\n",
      "Removing station: virtual-station\n",
      "================================================================================\n",
      "\n",
      "Running simulations for source hub 6/7 (South Manhattan (Houston / Clinton St)) at location: (40.7214444, -73.9838611)\n",
      "\n",
      "================================================================================\n",
      "================================================================================\n",
      "Simulating Citibike journeys...\n",
      "================================================================================\n"
     ]
    },
    {
     "data": {
      "application/vnd.jupyter.widget-view+json": {
       "model_id": "772be829f32c40c5bea838c286c3496d",
       "version_major": 2,
       "version_minor": 0
      },
      "text/plain": [
       "Calculating subway travel times:   0%|          | 0/100 [00:00<?, ?it/s]"
      ]
     },
     "metadata": {},
     "output_type": "display_data"
    },
    {
     "name": "stdout",
     "output_type": "stream",
     "text": [
      "Now inserting virtual station at source hub center...\n",
      "Inserting new station: virtual-station at (40.7214444, -73.9838611)\n"
     ]
    },
    {
     "data": {
      "application/vnd.jupyter.widget-view+json": {
       "model_id": "6ac5928fa48041af95f7a725bb802a4f",
       "version_major": 2,
       "version_minor": 0
      },
      "text/plain": [
       "Calculating subway travel times:   0%|          | 0/100 [00:00<?, ?it/s]"
      ]
     },
     "metadata": {},
     "output_type": "display_data"
    },
    {
     "name": "stdout",
     "output_type": "stream",
     "text": [
      "Now removing virtual station at source hub center before next iteration...\n",
      "Removing station: virtual-station\n",
      "================================================================================\n",
      "\n",
      "Running simulations for source hub 7/7 (South Manhattan (Ave A / St. Marks Pl)) at location: (40.7260556, -73.9835)\n",
      "\n",
      "================================================================================\n",
      "================================================================================\n",
      "Simulating Citibike journeys...\n",
      "================================================================================\n"
     ]
    },
    {
     "data": {
      "application/vnd.jupyter.widget-view+json": {
       "model_id": "a55a4b65a1744ee69523bd87555ba732",
       "version_major": 2,
       "version_minor": 0
      },
      "text/plain": [
       "Calculating subway travel times:   0%|          | 0/100 [00:00<?, ?it/s]"
      ]
     },
     "metadata": {},
     "output_type": "display_data"
    },
    {
     "name": "stdout",
     "output_type": "stream",
     "text": [
      "Now inserting virtual station at source hub center...\n",
      "Inserting new station: virtual-station at (40.7260556, -73.9835)\n"
     ]
    },
    {
     "data": {
      "application/vnd.jupyter.widget-view+json": {
       "model_id": "9c038da8fef54bb087a5727b4414ec60",
       "version_major": 2,
       "version_minor": 0
      },
      "text/plain": [
       "Calculating subway travel times:   0%|          | 0/100 [00:00<?, ?it/s]"
      ]
     },
     "metadata": {},
     "output_type": "display_data"
    },
    {
     "name": "stdout",
     "output_type": "stream",
     "text": [
      "Now removing virtual station at source hub center before next iteration...\n",
      "Removing station: virtual-station\n",
      "================================================================================\n",
      "\n",
      "Simulation for dst Astoria Park (North Roosevelt Island Coast) complete!\n",
      "\n",
      "================================================================================\n",
      "                                        Average Travel Time By Bike\n",
      "Roosevelt Island Coast                                        29:33\n",
      "Steinway St / 31 Av                                           42:33\n",
      "North Brooklyn (Gates / Throop Av)                            71:09\n",
      "Brooklyn Navy Yard (Flushing / Navy St)                       62:49\n",
      "South Bronx (161 St / Melrose Av)                             46:39\n",
      "                                        Average Travel Time By Subway\n",
      "Roosevelt Island Coast                                          46:34\n",
      "Steinway St / 31 Av                                             58:47\n",
      "North Brooklyn (Gates / Throop Av)                              95:32\n",
      "Brooklyn Navy Yard (Flushing / Navy St)                         84:52\n",
      "South Bronx (161 St / Melrose Av)                              105:06\n",
      "                                        Average Travel Time By Subway (w. virtual stations)\n",
      "Roosevelt Island Coast                                                               50:40 \n",
      "Steinway St / 31 Av                                                                  58:47 \n",
      "North Brooklyn (Gates / Throop Av)                                                   93:19 \n",
      "Brooklyn Navy Yard (Flushing / Navy St)                                              81:38 \n",
      "South Bronx (161 St / Melrose Av)                                                   100:11 \n",
      "================================================================================\n",
      "\n",
      "Running simulations for source hub 1/7 (Roosevelt Island Coast) at location: (40.7699167, -73.9278056)\n",
      "\n",
      "================================================================================\n",
      "================================================================================\n",
      "Simulating Citibike journeys...\n",
      "================================================================================\n"
     ]
    },
    {
     "data": {
      "application/vnd.jupyter.widget-view+json": {
       "model_id": "f126c42434a042a8b6409496c5a2362f",
       "version_major": 2,
       "version_minor": 0
      },
      "text/plain": [
       "Calculating subway travel times:   0%|          | 0/100 [00:00<?, ?it/s]"
      ]
     },
     "metadata": {},
     "output_type": "display_data"
    },
    {
     "name": "stdout",
     "output_type": "stream",
     "text": [
      "Now inserting virtual station at source hub center...\n",
      "Inserting new station: virtual-station at (40.7699167, -73.9278056)\n"
     ]
    },
    {
     "data": {
      "application/vnd.jupyter.widget-view+json": {
       "model_id": "6a55be90f6014946948efad8c2fc3d67",
       "version_major": 2,
       "version_minor": 0
      },
      "text/plain": [
       "Calculating subway travel times:   0%|          | 0/100 [00:00<?, ?it/s]"
      ]
     },
     "metadata": {},
     "output_type": "display_data"
    },
    {
     "name": "stdout",
     "output_type": "stream",
     "text": [
      "Now removing virtual station at source hub center before next iteration...\n",
      "Removing station: virtual-station\n",
      "================================================================================\n",
      "\n",
      "Running simulations for source hub 2/7 (Steinway St / 31 Av) at location: (40.7612778, -73.9171111)\n",
      "\n",
      "================================================================================\n",
      "================================================================================\n",
      "Simulating Citibike journeys...\n",
      "================================================================================\n"
     ]
    },
    {
     "data": {
      "application/vnd.jupyter.widget-view+json": {
       "model_id": "94a6e8a15b3840d48f61117331c9a5e9",
       "version_major": 2,
       "version_minor": 0
      },
      "text/plain": [
       "Calculating subway travel times:   0%|          | 0/100 [00:00<?, ?it/s]"
      ]
     },
     "metadata": {},
     "output_type": "display_data"
    },
    {
     "name": "stdout",
     "output_type": "stream",
     "text": [
      "Now inserting virtual station at source hub center...\n",
      "Inserting new station: virtual-station at (40.7612778, -73.9171111)\n"
     ]
    },
    {
     "data": {
      "application/vnd.jupyter.widget-view+json": {
       "model_id": "f2ea3c42455743dcb62d0e04e871d5b8",
       "version_major": 2,
       "version_minor": 0
      },
      "text/plain": [
       "Calculating subway travel times:   0%|          | 0/100 [00:00<?, ?it/s]"
      ]
     },
     "metadata": {},
     "output_type": "display_data"
    },
    {
     "name": "stdout",
     "output_type": "stream",
     "text": [
      "Now removing virtual station at source hub center before next iteration...\n",
      "Removing station: virtual-station\n",
      "================================================================================\n",
      "\n",
      "Running simulations for source hub 3/7 (North Brooklyn (Gates / Throop Av)) at location: (40.68725, -73.9417778)\n",
      "\n",
      "================================================================================\n",
      "================================================================================\n",
      "Simulating Citibike journeys...\n",
      "================================================================================\n"
     ]
    },
    {
     "data": {
      "application/vnd.jupyter.widget-view+json": {
       "model_id": "e79ba44bdc02435985127f157ad1ef43",
       "version_major": 2,
       "version_minor": 0
      },
      "text/plain": [
       "Calculating subway travel times:   0%|          | 0/100 [00:00<?, ?it/s]"
      ]
     },
     "metadata": {},
     "output_type": "display_data"
    },
    {
     "name": "stdout",
     "output_type": "stream",
     "text": [
      "Now inserting virtual station at source hub center...\n",
      "Inserting new station: virtual-station at (40.68725, -73.9417778)\n"
     ]
    },
    {
     "data": {
      "application/vnd.jupyter.widget-view+json": {
       "model_id": "ff79585d563f40af96f73dca7483aa70",
       "version_major": 2,
       "version_minor": 0
      },
      "text/plain": [
       "Calculating subway travel times:   0%|          | 0/100 [00:00<?, ?it/s]"
      ]
     },
     "metadata": {},
     "output_type": "display_data"
    },
    {
     "name": "stdout",
     "output_type": "stream",
     "text": [
      "Now removing virtual station at source hub center before next iteration...\n",
      "Removing station: virtual-station\n",
      "================================================================================\n",
      "\n",
      "Running simulations for source hub 4/7 (Brooklyn Navy Yard (Flushing / Navy St)) at location: (40.6982778, -73.9805556)\n",
      "\n",
      "================================================================================\n",
      "================================================================================\n",
      "Simulating Citibike journeys...\n",
      "================================================================================\n"
     ]
    },
    {
     "data": {
      "application/vnd.jupyter.widget-view+json": {
       "model_id": "bb13ae0b932742ea87abefb13f44a1ea",
       "version_major": 2,
       "version_minor": 0
      },
      "text/plain": [
       "Calculating subway travel times:   0%|          | 0/100 [00:00<?, ?it/s]"
      ]
     },
     "metadata": {},
     "output_type": "display_data"
    },
    {
     "name": "stdout",
     "output_type": "stream",
     "text": [
      "Now inserting virtual station at source hub center...\n",
      "Inserting new station: virtual-station at (40.6982778, -73.9805556)\n"
     ]
    },
    {
     "data": {
      "application/vnd.jupyter.widget-view+json": {
       "model_id": "01e5d2743d4f41839befe51ea3de6a7e",
       "version_major": 2,
       "version_minor": 0
      },
      "text/plain": [
       "Calculating subway travel times:   0%|          | 0/100 [00:00<?, ?it/s]"
      ]
     },
     "metadata": {},
     "output_type": "display_data"
    },
    {
     "name": "stdout",
     "output_type": "stream",
     "text": [
      "Now removing virtual station at source hub center before next iteration...\n",
      "Removing station: virtual-station\n",
      "================================================================================\n",
      "\n",
      "Running simulations for source hub 5/7 (South Bronx (161 St / Melrose Av)) at location: (40.8241389, -73.9139167)\n",
      "\n",
      "================================================================================\n",
      "================================================================================\n",
      "Simulating Citibike journeys...\n",
      "================================================================================\n"
     ]
    },
    {
     "data": {
      "application/vnd.jupyter.widget-view+json": {
       "model_id": "c97d90f673f14a49b2a3681e3ed7c9f3",
       "version_major": 2,
       "version_minor": 0
      },
      "text/plain": [
       "Calculating subway travel times:   0%|          | 0/100 [00:00<?, ?it/s]"
      ]
     },
     "metadata": {},
     "output_type": "display_data"
    },
    {
     "name": "stdout",
     "output_type": "stream",
     "text": [
      "Now inserting virtual station at source hub center...\n",
      "Inserting new station: virtual-station at (40.8241389, -73.9139167)\n"
     ]
    },
    {
     "data": {
      "application/vnd.jupyter.widget-view+json": {
       "model_id": "6bfe33d502804471a21f00d860c43539",
       "version_major": 2,
       "version_minor": 0
      },
      "text/plain": [
       "Calculating subway travel times:   0%|          | 0/100 [00:00<?, ?it/s]"
      ]
     },
     "metadata": {},
     "output_type": "display_data"
    },
    {
     "name": "stdout",
     "output_type": "stream",
     "text": [
      "Now removing virtual station at source hub center before next iteration...\n",
      "Removing station: virtual-station\n",
      "================================================================================\n",
      "\n",
      "Running simulations for source hub 6/7 (South Manhattan (Houston / Clinton St)) at location: (40.7214444, -73.9838611)\n",
      "\n",
      "================================================================================\n",
      "================================================================================\n",
      "Simulating Citibike journeys...\n",
      "================================================================================\n"
     ]
    },
    {
     "data": {
      "application/vnd.jupyter.widget-view+json": {
       "model_id": "3c03ac92e8054da98eaa024aac1cc1a1",
       "version_major": 2,
       "version_minor": 0
      },
      "text/plain": [
       "Calculating subway travel times:   0%|          | 0/100 [00:00<?, ?it/s]"
      ]
     },
     "metadata": {},
     "output_type": "display_data"
    },
    {
     "name": "stdout",
     "output_type": "stream",
     "text": [
      "Now inserting virtual station at source hub center...\n",
      "Inserting new station: virtual-station at (40.7214444, -73.9838611)\n"
     ]
    },
    {
     "data": {
      "application/vnd.jupyter.widget-view+json": {
       "model_id": "dc616d7a3eb448f7bef50112250bdf53",
       "version_major": 2,
       "version_minor": 0
      },
      "text/plain": [
       "Calculating subway travel times:   0%|          | 0/100 [00:00<?, ?it/s]"
      ]
     },
     "metadata": {},
     "output_type": "display_data"
    },
    {
     "name": "stdout",
     "output_type": "stream",
     "text": [
      "Now removing virtual station at source hub center before next iteration...\n",
      "Removing station: virtual-station\n",
      "================================================================================\n",
      "\n",
      "Running simulations for source hub 7/7 (South Manhattan (Ave A / St. Marks Pl)) at location: (40.7260556, -73.9835)\n",
      "\n",
      "================================================================================\n",
      "================================================================================\n",
      "Simulating Citibike journeys...\n",
      "================================================================================\n"
     ]
    },
    {
     "data": {
      "application/vnd.jupyter.widget-view+json": {
       "model_id": "f91685e8f32543ee8cdcf2d1e5bafc91",
       "version_major": 2,
       "version_minor": 0
      },
      "text/plain": [
       "Calculating subway travel times:   0%|          | 0/100 [00:00<?, ?it/s]"
      ]
     },
     "metadata": {},
     "output_type": "display_data"
    },
    {
     "name": "stdout",
     "output_type": "stream",
     "text": [
      "Now inserting virtual station at source hub center...\n",
      "Inserting new station: virtual-station at (40.7260556, -73.9835)\n"
     ]
    },
    {
     "data": {
      "application/vnd.jupyter.widget-view+json": {
       "model_id": "f4722713c1dd471aa10c98b007b69294",
       "version_major": 2,
       "version_minor": 0
      },
      "text/plain": [
       "Calculating subway travel times:   0%|          | 0/100 [00:00<?, ?it/s]"
      ]
     },
     "metadata": {},
     "output_type": "display_data"
    },
    {
     "name": "stdout",
     "output_type": "stream",
     "text": [
      "Now removing virtual station at source hub center before next iteration...\n",
      "Removing station: virtual-station\n",
      "================================================================================\n",
      "\n",
      "Simulation for dst Red Hook (Brooklyn Bay Area) complete!\n",
      "\n",
      "================================================================================\n",
      "                                        Average Travel Time By Bike\n",
      "Roosevelt Island Coast                                        66:50\n",
      "Steinway St / 31 Av                                           64:23\n",
      "North Brooklyn (Gates / Throop Av)                            32:46\n",
      "Brooklyn Navy Yard (Flushing / Navy St)                       30:05\n",
      "South Bronx (161 St / Melrose Av)                             91:09\n",
      "                                        Average Travel Time By Subway\n",
      "Roosevelt Island Coast                                          81:18\n",
      "Steinway St / 31 Av                                             69:03\n",
      "North Brooklyn (Gates / Throop Av)                              51:44\n",
      "Brooklyn Navy Yard (Flushing / Navy St)                         53:50\n",
      "South Bronx (161 St / Melrose Av)                               90:01\n",
      "                                        Average Travel Time By Subway (w. virtual stations)\n",
      "Roosevelt Island Coast                                                               86:02 \n",
      "Steinway St / 31 Av                                                                  74:12 \n",
      "North Brooklyn (Gates / Throop Av)                                                   48:42 \n",
      "Brooklyn Navy Yard (Flushing / Navy St)                                              52:17 \n",
      "South Bronx (161 St / Melrose Av)                                                    88:13 \n",
      "================================================================================\n",
      "\n",
      "Running simulations for source hub 1/7 (Roosevelt Island Coast) at location: (40.7699167, -73.9278056)\n",
      "\n",
      "================================================================================\n",
      "================================================================================\n",
      "Simulating Citibike journeys...\n",
      "================================================================================\n"
     ]
    },
    {
     "data": {
      "application/vnd.jupyter.widget-view+json": {
       "model_id": "77688219c82049bbb5e615d8c4001628",
       "version_major": 2,
       "version_minor": 0
      },
      "text/plain": [
       "Calculating subway travel times:   0%|          | 0/100 [00:00<?, ?it/s]"
      ]
     },
     "metadata": {},
     "output_type": "display_data"
    },
    {
     "name": "stdout",
     "output_type": "stream",
     "text": [
      "Now inserting virtual station at source hub center...\n",
      "Inserting new station: virtual-station at (40.7699167, -73.9278056)\n"
     ]
    },
    {
     "data": {
      "application/vnd.jupyter.widget-view+json": {
       "model_id": "d6d97c517856477c8b3aab9e7e812cc7",
       "version_major": 2,
       "version_minor": 0
      },
      "text/plain": [
       "Calculating subway travel times:   0%|          | 0/100 [00:00<?, ?it/s]"
      ]
     },
     "metadata": {},
     "output_type": "display_data"
    },
    {
     "name": "stdout",
     "output_type": "stream",
     "text": [
      "Now removing virtual station at source hub center before next iteration...\n",
      "Removing station: virtual-station\n",
      "================================================================================\n",
      "\n",
      "Running simulations for source hub 2/7 (Steinway St / 31 Av) at location: (40.7612778, -73.9171111)\n",
      "\n",
      "================================================================================\n",
      "================================================================================\n",
      "Simulating Citibike journeys...\n",
      "================================================================================\n"
     ]
    },
    {
     "data": {
      "application/vnd.jupyter.widget-view+json": {
       "model_id": "da25c06a1d4047668d0d85d56e7148b8",
       "version_major": 2,
       "version_minor": 0
      },
      "text/plain": [
       "Calculating subway travel times:   0%|          | 0/100 [00:00<?, ?it/s]"
      ]
     },
     "metadata": {},
     "output_type": "display_data"
    },
    {
     "name": "stdout",
     "output_type": "stream",
     "text": [
      "Now inserting virtual station at source hub center...\n",
      "Inserting new station: virtual-station at (40.7612778, -73.9171111)\n"
     ]
    },
    {
     "data": {
      "application/vnd.jupyter.widget-view+json": {
       "model_id": "da0255df023f41c1a2d108012b4136a9",
       "version_major": 2,
       "version_minor": 0
      },
      "text/plain": [
       "Calculating subway travel times:   0%|          | 0/100 [00:00<?, ?it/s]"
      ]
     },
     "metadata": {},
     "output_type": "display_data"
    },
    {
     "name": "stdout",
     "output_type": "stream",
     "text": [
      "Now removing virtual station at source hub center before next iteration...\n",
      "Removing station: virtual-station\n",
      "================================================================================\n",
      "\n",
      "Running simulations for source hub 3/7 (North Brooklyn (Gates / Throop Av)) at location: (40.68725, -73.9417778)\n",
      "\n",
      "================================================================================\n",
      "================================================================================\n",
      "Simulating Citibike journeys...\n",
      "================================================================================\n"
     ]
    },
    {
     "data": {
      "application/vnd.jupyter.widget-view+json": {
       "model_id": "4c71a66766df4495939339debc7a31fb",
       "version_major": 2,
       "version_minor": 0
      },
      "text/plain": [
       "Calculating subway travel times:   0%|          | 0/100 [00:00<?, ?it/s]"
      ]
     },
     "metadata": {},
     "output_type": "display_data"
    },
    {
     "name": "stdout",
     "output_type": "stream",
     "text": [
      "Now inserting virtual station at source hub center...\n",
      "Inserting new station: virtual-station at (40.68725, -73.9417778)\n"
     ]
    },
    {
     "data": {
      "application/vnd.jupyter.widget-view+json": {
       "model_id": "02b7eedb96944b0fbed6c3bdfcbfc406",
       "version_major": 2,
       "version_minor": 0
      },
      "text/plain": [
       "Calculating subway travel times:   0%|          | 0/100 [00:00<?, ?it/s]"
      ]
     },
     "metadata": {},
     "output_type": "display_data"
    },
    {
     "name": "stdout",
     "output_type": "stream",
     "text": [
      "Now removing virtual station at source hub center before next iteration...\n",
      "Removing station: virtual-station\n",
      "================================================================================\n",
      "\n",
      "Running simulations for source hub 4/7 (Brooklyn Navy Yard (Flushing / Navy St)) at location: (40.6982778, -73.9805556)\n",
      "\n",
      "================================================================================\n",
      "================================================================================\n",
      "Simulating Citibike journeys...\n",
      "================================================================================\n"
     ]
    },
    {
     "data": {
      "application/vnd.jupyter.widget-view+json": {
       "model_id": "9b130a0042b94853a76d2673d4f5fe99",
       "version_major": 2,
       "version_minor": 0
      },
      "text/plain": [
       "Calculating subway travel times:   0%|          | 0/100 [00:00<?, ?it/s]"
      ]
     },
     "metadata": {},
     "output_type": "display_data"
    },
    {
     "name": "stdout",
     "output_type": "stream",
     "text": [
      "Now inserting virtual station at source hub center...\n",
      "Inserting new station: virtual-station at (40.6982778, -73.9805556)\n"
     ]
    },
    {
     "data": {
      "application/vnd.jupyter.widget-view+json": {
       "model_id": "8a6c88ce947b4572a6c955ac04d42399",
       "version_major": 2,
       "version_minor": 0
      },
      "text/plain": [
       "Calculating subway travel times:   0%|          | 0/100 [00:00<?, ?it/s]"
      ]
     },
     "metadata": {},
     "output_type": "display_data"
    },
    {
     "name": "stdout",
     "output_type": "stream",
     "text": [
      "Now removing virtual station at source hub center before next iteration...\n",
      "Removing station: virtual-station\n",
      "================================================================================\n",
      "\n",
      "Running simulations for source hub 5/7 (South Bronx (161 St / Melrose Av)) at location: (40.8241389, -73.9139167)\n",
      "\n",
      "================================================================================\n",
      "================================================================================\n",
      "Simulating Citibike journeys...\n",
      "================================================================================\n"
     ]
    },
    {
     "data": {
      "application/vnd.jupyter.widget-view+json": {
       "model_id": "f756705ae8434f1a9a197e935cfb7e6f",
       "version_major": 2,
       "version_minor": 0
      },
      "text/plain": [
       "Calculating subway travel times:   0%|          | 0/100 [00:00<?, ?it/s]"
      ]
     },
     "metadata": {},
     "output_type": "display_data"
    },
    {
     "name": "stdout",
     "output_type": "stream",
     "text": [
      "Now inserting virtual station at source hub center...\n",
      "Inserting new station: virtual-station at (40.8241389, -73.9139167)\n"
     ]
    },
    {
     "data": {
      "application/vnd.jupyter.widget-view+json": {
       "model_id": "6b7beb30ae04467e9dc4765a7460e4ef",
       "version_major": 2,
       "version_minor": 0
      },
      "text/plain": [
       "Calculating subway travel times:   0%|          | 0/100 [00:00<?, ?it/s]"
      ]
     },
     "metadata": {},
     "output_type": "display_data"
    },
    {
     "name": "stdout",
     "output_type": "stream",
     "text": [
      "Now removing virtual station at source hub center before next iteration...\n",
      "Removing station: virtual-station\n",
      "================================================================================\n",
      "\n",
      "Running simulations for source hub 6/7 (South Manhattan (Houston / Clinton St)) at location: (40.7214444, -73.9838611)\n",
      "\n",
      "================================================================================\n",
      "================================================================================\n",
      "Simulating Citibike journeys...\n",
      "================================================================================\n"
     ]
    },
    {
     "data": {
      "application/vnd.jupyter.widget-view+json": {
       "model_id": "c757c025bcdc4fbdbe367fceaf4b5a07",
       "version_major": 2,
       "version_minor": 0
      },
      "text/plain": [
       "Calculating subway travel times:   0%|          | 0/100 [00:00<?, ?it/s]"
      ]
     },
     "metadata": {},
     "output_type": "display_data"
    },
    {
     "name": "stdout",
     "output_type": "stream",
     "text": [
      "Now inserting virtual station at source hub center...\n",
      "Inserting new station: virtual-station at (40.7214444, -73.9838611)\n"
     ]
    },
    {
     "data": {
      "application/vnd.jupyter.widget-view+json": {
       "model_id": "a3e2d81099b84046ae1d1c0eaedcb4d7",
       "version_major": 2,
       "version_minor": 0
      },
      "text/plain": [
       "Calculating subway travel times:   0%|          | 0/100 [00:00<?, ?it/s]"
      ]
     },
     "metadata": {},
     "output_type": "display_data"
    },
    {
     "name": "stdout",
     "output_type": "stream",
     "text": [
      "Now removing virtual station at source hub center before next iteration...\n",
      "Removing station: virtual-station\n",
      "================================================================================\n",
      "\n",
      "Running simulations for source hub 7/7 (South Manhattan (Ave A / St. Marks Pl)) at location: (40.7260556, -73.9835)\n",
      "\n",
      "================================================================================\n",
      "================================================================================\n",
      "Simulating Citibike journeys...\n",
      "================================================================================\n"
     ]
    },
    {
     "data": {
      "application/vnd.jupyter.widget-view+json": {
       "model_id": "b60ab671f77744d8acffe1607efc0d0e",
       "version_major": 2,
       "version_minor": 0
      },
      "text/plain": [
       "Calculating subway travel times:   0%|          | 0/100 [00:00<?, ?it/s]"
      ]
     },
     "metadata": {},
     "output_type": "display_data"
    },
    {
     "name": "stdout",
     "output_type": "stream",
     "text": [
      "Now inserting virtual station at source hub center...\n",
      "Inserting new station: virtual-station at (40.7260556, -73.9835)\n"
     ]
    },
    {
     "data": {
      "application/vnd.jupyter.widget-view+json": {
       "model_id": "478fde6b66164637a0ff9923dde353f9",
       "version_major": 2,
       "version_minor": 0
      },
      "text/plain": [
       "Calculating subway travel times:   0%|          | 0/100 [00:00<?, ?it/s]"
      ]
     },
     "metadata": {},
     "output_type": "display_data"
    },
    {
     "name": "stdout",
     "output_type": "stream",
     "text": [
      "Now removing virtual station at source hub center before next iteration...\n",
      "Removing station: virtual-station\n",
      "================================================================================\n",
      "\n",
      "Simulation for dst North Queens / Jackson Heights complete!\n",
      "\n",
      "================================================================================\n",
      "                                        Average Travel Time By Bike\n",
      "Roosevelt Island Coast                                        30:04\n",
      "Steinway St / 31 Av                                           21:25\n",
      "North Brooklyn (Gates / Throop Av)                            47:12\n",
      "Brooklyn Navy Yard (Flushing / Navy St)                       59:44\n",
      "South Bronx (161 St / Melrose Av)                             58:07\n",
      "                                        Average Travel Time By Subway\n",
      "Roosevelt Island Coast                                          47:29\n",
      "Steinway St / 31 Av                                             30:58\n",
      "North Brooklyn (Gates / Throop Av)                              66:38\n",
      "Brooklyn Navy Yard (Flushing / Navy St)                         62:33\n",
      "South Bronx (161 St / Melrose Av)                               76:25\n",
      "                                        Average Travel Time By Subway (w. virtual stations)\n",
      "Roosevelt Island Coast                                                               52:13 \n",
      "Steinway St / 31 Av                                                                  32:32 \n",
      "North Brooklyn (Gates / Throop Av)                                                   69:22 \n",
      "Brooklyn Navy Yard (Flushing / Navy St)                                              62:11 \n",
      "South Bronx (161 St / Melrose Av)                                                    73:22 \n",
      "================================================================================\n",
      "\n",
      "Running simulations for source hub 1/7 (Roosevelt Island Coast) at location: (40.7699167, -73.9278056)\n",
      "\n",
      "================================================================================\n",
      "================================================================================\n",
      "Simulating Citibike journeys...\n",
      "================================================================================\n"
     ]
    },
    {
     "data": {
      "application/vnd.jupyter.widget-view+json": {
       "model_id": "ad43aea0b42a412eb2921369e1ed4b66",
       "version_major": 2,
       "version_minor": 0
      },
      "text/plain": [
       "Calculating subway travel times:   0%|          | 0/100 [00:00<?, ?it/s]"
      ]
     },
     "metadata": {},
     "output_type": "display_data"
    },
    {
     "name": "stdout",
     "output_type": "stream",
     "text": [
      "Now inserting virtual station at source hub center...\n",
      "Inserting new station: virtual-station at (40.7699167, -73.9278056)\n"
     ]
    },
    {
     "data": {
      "application/vnd.jupyter.widget-view+json": {
       "model_id": "27707ed66e144bb1ba4354a4896e7e52",
       "version_major": 2,
       "version_minor": 0
      },
      "text/plain": [
       "Calculating subway travel times:   0%|          | 0/100 [00:00<?, ?it/s]"
      ]
     },
     "metadata": {},
     "output_type": "display_data"
    },
    {
     "name": "stdout",
     "output_type": "stream",
     "text": [
      "Now removing virtual station at source hub center before next iteration...\n",
      "Removing station: virtual-station\n",
      "================================================================================\n",
      "\n",
      "Running simulations for source hub 2/7 (Steinway St / 31 Av) at location: (40.7612778, -73.9171111)\n",
      "\n",
      "================================================================================\n",
      "================================================================================\n",
      "Simulating Citibike journeys...\n",
      "================================================================================\n"
     ]
    },
    {
     "data": {
      "application/vnd.jupyter.widget-view+json": {
       "model_id": "2e07ab14d588497aad2496bd44aefce5",
       "version_major": 2,
       "version_minor": 0
      },
      "text/plain": [
       "Calculating subway travel times:   0%|          | 0/100 [00:00<?, ?it/s]"
      ]
     },
     "metadata": {},
     "output_type": "display_data"
    },
    {
     "name": "stdout",
     "output_type": "stream",
     "text": [
      "Now inserting virtual station at source hub center...\n",
      "Inserting new station: virtual-station at (40.7612778, -73.9171111)\n"
     ]
    },
    {
     "data": {
      "application/vnd.jupyter.widget-view+json": {
       "model_id": "65708c9e4b504fcf9931c46c343b00ce",
       "version_major": 2,
       "version_minor": 0
      },
      "text/plain": [
       "Calculating subway travel times:   0%|          | 0/100 [00:00<?, ?it/s]"
      ]
     },
     "metadata": {},
     "output_type": "display_data"
    },
    {
     "name": "stdout",
     "output_type": "stream",
     "text": [
      "Now removing virtual station at source hub center before next iteration...\n",
      "Removing station: virtual-station\n",
      "================================================================================\n",
      "\n",
      "Running simulations for source hub 3/7 (North Brooklyn (Gates / Throop Av)) at location: (40.68725, -73.9417778)\n",
      "\n",
      "================================================================================\n",
      "================================================================================\n",
      "Simulating Citibike journeys...\n",
      "================================================================================\n"
     ]
    },
    {
     "data": {
      "application/vnd.jupyter.widget-view+json": {
       "model_id": "3c985a5c93cd4deab3fdeb589c8a639a",
       "version_major": 2,
       "version_minor": 0
      },
      "text/plain": [
       "Calculating subway travel times:   0%|          | 0/100 [00:00<?, ?it/s]"
      ]
     },
     "metadata": {},
     "output_type": "display_data"
    },
    {
     "name": "stdout",
     "output_type": "stream",
     "text": [
      "Now inserting virtual station at source hub center...\n",
      "Inserting new station: virtual-station at (40.68725, -73.9417778)\n"
     ]
    },
    {
     "data": {
      "application/vnd.jupyter.widget-view+json": {
       "model_id": "bacc8ead9d024e9d9bba557246ceaf17",
       "version_major": 2,
       "version_minor": 0
      },
      "text/plain": [
       "Calculating subway travel times:   0%|          | 0/100 [00:00<?, ?it/s]"
      ]
     },
     "metadata": {},
     "output_type": "display_data"
    },
    {
     "name": "stdout",
     "output_type": "stream",
     "text": [
      "Now removing virtual station at source hub center before next iteration...\n",
      "Removing station: virtual-station\n",
      "================================================================================\n",
      "\n",
      "Running simulations for source hub 4/7 (Brooklyn Navy Yard (Flushing / Navy St)) at location: (40.6982778, -73.9805556)\n",
      "\n",
      "================================================================================\n",
      "================================================================================\n",
      "Simulating Citibike journeys...\n",
      "================================================================================\n"
     ]
    },
    {
     "data": {
      "application/vnd.jupyter.widget-view+json": {
       "model_id": "6e67583e241048539e4963fcd8f1242c",
       "version_major": 2,
       "version_minor": 0
      },
      "text/plain": [
       "Calculating subway travel times:   0%|          | 0/100 [00:00<?, ?it/s]"
      ]
     },
     "metadata": {},
     "output_type": "display_data"
    },
    {
     "name": "stdout",
     "output_type": "stream",
     "text": [
      "Now inserting virtual station at source hub center...\n",
      "Inserting new station: virtual-station at (40.6982778, -73.9805556)\n"
     ]
    },
    {
     "data": {
      "application/vnd.jupyter.widget-view+json": {
       "model_id": "c0fe3adafc424923a7e32a0ff55e9699",
       "version_major": 2,
       "version_minor": 0
      },
      "text/plain": [
       "Calculating subway travel times:   0%|          | 0/100 [00:00<?, ?it/s]"
      ]
     },
     "metadata": {},
     "output_type": "display_data"
    },
    {
     "name": "stdout",
     "output_type": "stream",
     "text": [
      "Now removing virtual station at source hub center before next iteration...\n",
      "Removing station: virtual-station\n",
      "================================================================================\n",
      "\n",
      "Running simulations for source hub 5/7 (South Bronx (161 St / Melrose Av)) at location: (40.8241389, -73.9139167)\n",
      "\n",
      "================================================================================\n",
      "================================================================================\n",
      "Simulating Citibike journeys...\n",
      "================================================================================\n"
     ]
    },
    {
     "data": {
      "application/vnd.jupyter.widget-view+json": {
       "model_id": "e080d93c6b4a4fddb039dda9b08edd00",
       "version_major": 2,
       "version_minor": 0
      },
      "text/plain": [
       "Calculating subway travel times:   0%|          | 0/100 [00:00<?, ?it/s]"
      ]
     },
     "metadata": {},
     "output_type": "display_data"
    },
    {
     "name": "stdout",
     "output_type": "stream",
     "text": [
      "Now inserting virtual station at source hub center...\n",
      "Inserting new station: virtual-station at (40.8241389, -73.9139167)\n"
     ]
    },
    {
     "data": {
      "application/vnd.jupyter.widget-view+json": {
       "model_id": "fb9a28f0575a4cfea3e7f3b3a7bbfd97",
       "version_major": 2,
       "version_minor": 0
      },
      "text/plain": [
       "Calculating subway travel times:   0%|          | 0/100 [00:00<?, ?it/s]"
      ]
     },
     "metadata": {},
     "output_type": "display_data"
    },
    {
     "name": "stdout",
     "output_type": "stream",
     "text": [
      "Now removing virtual station at source hub center before next iteration...\n",
      "Removing station: virtual-station\n",
      "================================================================================\n",
      "\n",
      "Running simulations for source hub 6/7 (South Manhattan (Houston / Clinton St)) at location: (40.7214444, -73.9838611)\n",
      "\n",
      "================================================================================\n",
      "================================================================================\n",
      "Simulating Citibike journeys...\n",
      "================================================================================\n"
     ]
    },
    {
     "data": {
      "application/vnd.jupyter.widget-view+json": {
       "model_id": "194298bbeff44cb5ac4a64eb9dafaf0a",
       "version_major": 2,
       "version_minor": 0
      },
      "text/plain": [
       "Calculating subway travel times:   0%|          | 0/100 [00:00<?, ?it/s]"
      ]
     },
     "metadata": {},
     "output_type": "display_data"
    },
    {
     "name": "stdout",
     "output_type": "stream",
     "text": [
      "Now inserting virtual station at source hub center...\n",
      "Inserting new station: virtual-station at (40.7214444, -73.9838611)\n"
     ]
    },
    {
     "data": {
      "application/vnd.jupyter.widget-view+json": {
       "model_id": "f399dda42b5946ec98f5551d069bf6f1",
       "version_major": 2,
       "version_minor": 0
      },
      "text/plain": [
       "Calculating subway travel times:   0%|          | 0/100 [00:00<?, ?it/s]"
      ]
     },
     "metadata": {},
     "output_type": "display_data"
    },
    {
     "name": "stdout",
     "output_type": "stream",
     "text": [
      "Now removing virtual station at source hub center before next iteration...\n",
      "Removing station: virtual-station\n",
      "================================================================================\n",
      "\n",
      "Running simulations for source hub 7/7 (South Manhattan (Ave A / St. Marks Pl)) at location: (40.7260556, -73.9835)\n",
      "\n",
      "================================================================================\n",
      "================================================================================\n",
      "Simulating Citibike journeys...\n",
      "================================================================================\n"
     ]
    },
    {
     "data": {
      "application/vnd.jupyter.widget-view+json": {
       "model_id": "c054f0c77a4f4d6cb2ec7333b6dd872e",
       "version_major": 2,
       "version_minor": 0
      },
      "text/plain": [
       "Calculating subway travel times:   0%|          | 0/100 [00:00<?, ?it/s]"
      ]
     },
     "metadata": {},
     "output_type": "display_data"
    },
    {
     "name": "stdout",
     "output_type": "stream",
     "text": [
      "Now inserting virtual station at source hub center...\n",
      "Inserting new station: virtual-station at (40.7260556, -73.9835)\n"
     ]
    },
    {
     "data": {
      "application/vnd.jupyter.widget-view+json": {
       "model_id": "ab9f19f380674e88b8319bd1022f59a3",
       "version_major": 2,
       "version_minor": 0
      },
      "text/plain": [
       "Calculating subway travel times:   0%|          | 0/100 [00:00<?, ?it/s]"
      ]
     },
     "metadata": {},
     "output_type": "display_data"
    },
    {
     "name": "stdout",
     "output_type": "stream",
     "text": [
      "Now removing virtual station at source hub center before next iteration...\n",
      "Removing station: virtual-station\n",
      "================================================================================\n",
      "\n",
      "Simulation for dst West Queens / North Brooklyn complete!\n",
      "\n",
      "================================================================================\n",
      "                                        Average Travel Time By Bike\n",
      "Roosevelt Island Coast                                        35:17\n",
      "Steinway St / 31 Av                                           32:50\n",
      "North Brooklyn (Gates / Throop Av)                            19:30\n",
      "Brooklyn Navy Yard (Flushing / Navy St)                       29:52\n",
      "South Bronx (161 St / Melrose Av)                             65:28\n",
      "                                        Average Travel Time By Subway\n",
      "Roosevelt Island Coast                                          61:19\n",
      "Steinway St / 31 Av                                             56:28\n",
      "North Brooklyn (Gates / Throop Av)                              39:46\n",
      "Brooklyn Navy Yard (Flushing / Navy St)                         46:24\n",
      "South Bronx (161 St / Melrose Av)                               74:01\n",
      "                                        Average Travel Time By Subway (w. virtual stations)\n",
      "Roosevelt Island Coast                                                               63:12 \n",
      "Steinway St / 31 Av                                                                  56:28 \n",
      "North Brooklyn (Gates / Throop Av)                                                   39:36 \n",
      "Brooklyn Navy Yard (Flushing / Navy St)                                              45:57 \n",
      "South Bronx (161 St / Melrose Av)                                                    71:46 \n"
     ]
    }
   ],
   "source": [
    "radius_km = 1.0\n",
    "num_points = 10\n",
    "departure_time = (8, 0) # 8AM\n",
    "\n",
    "for dst_hub in tqdm(dst_hubs, total=len(dst_hubs), desc='Simulating travels to destination hubs:'):\n",
    "    bikes_results_df, subway_results_df, virtual_subway_results_df = run_simulation(src_hubs, (dst_hub, dst_hubs[dst_hub]), radius_km=radius_km, num_points=num_points, departure_time=departure_time)\n",
    "    print(bikes_results_df.head())\n",
    "    print(subway_results_df.head())\n",
    "    print(virtual_subway_results_df.head())\n",
    "    dst_hub_name = f'{dst_hub.replace(\" / \", \"-\").replace(\" \", \"_\")}'\n",
    "    save_file_path = f'simulation_results/{dst_hub_name}'\n",
    "    merged_df = bikes_results_df.join(subway_results_df).join(virtual_subway_results_df)\n",
    "    merged_df.to_csv(f'{save_file_path}.csv')\n",
    "\n",
    "# # print(\"--- Average Travel Times for All Pairs ---\")\n",
    "# # print(f\"Average Bike Travel Time: {math.floor(avg_bike_time_seconds / 60)} minutes and {avg_bike_time_seconds % 60:.0f} seconds\")\n",
    "# # print(f\"Average Subway Travel Time: {math.floor(avg_subway_time_seconds / 60)} minutes and {avg_subway_time_seconds % 60:.0f} seconds\")"
   ]
  }
 ],
 "metadata": {
  "kernelspec": {
   "display_name": "project (3.9.22)",
   "language": "python",
   "name": "python3"
  },
  "language_info": {
   "codemirror_mode": {
    "name": "ipython",
    "version": 3
   },
   "file_extension": ".py",
   "mimetype": "text/x-python",
   "name": "python",
   "nbconvert_exporter": "python",
   "pygments_lexer": "ipython3",
   "version": "3.9.22"
  }
 },
 "nbformat": 4,
 "nbformat_minor": 5
}
