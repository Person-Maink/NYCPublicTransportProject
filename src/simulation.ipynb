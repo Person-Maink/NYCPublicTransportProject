{
 "cells": [
  {
   "cell_type": "markdown",
   "id": "6eb0e1b3",
   "metadata": {},
   "source": [
    "# Simulate travel time between two points for different transport modes"
   ]
  },
  {
   "cell_type": "code",
   "execution_count": 1,
   "id": "bc5c838d",
   "metadata": {},
   "outputs": [],
   "source": [
    "import haversine as hs\n",
    "import folium\n",
    "import math\n",
    "import sys\n",
    "from pathlib import Path\n",
    "from station_utilities import *\n",
    "from simulations import *\n",
    "from tqdm.notebook import tqdm"
   ]
  },
  {
   "cell_type": "code",
   "execution_count": 2,
   "id": "7b6feefa",
   "metadata": {},
   "outputs": [],
   "source": [
    "def init_stationfinder() -> StationFinder:\n",
    "    \"\"\"\n",
    "    Initializes the StationFinder utility by loading Citibike and subway graph data.\n",
    "\n",
    "    Returns:\n",
    "        StationFinder: An initialized StationFinder object.\n",
    "    \n",
    "    Raises:\n",
    "        SystemExit: If required graph files (.gml) are not found.\n",
    "    \"\"\"\n",
    "    citibike_weekday = '../citibike_weekday_network.gml'\n",
    "    citibike_weekend = '../citibike_weekend_network.gml'\n",
    "    subway_graph = '../subway_graph_weekday_weekend.gml'\n",
    "\n",
    "    citibike_path = citibike_weekday if Path(citibike_weekday).exists() else citibike_weekend\n",
    "\n",
    "    if not Path(citibike_path).exists():\n",
    "            print(\"Error: Citibike graph not found. Please run citibike_processor.py first.\")\n",
    "            sys.exit(1)\n",
    "        \n",
    "    if not Path(subway_graph).exists():\n",
    "        print(f\"Error: Subway graph not found at {subway_graph}\")\n",
    "        sys.exit(1)\n",
    "\n",
    "    print(\"Initializing StationFinder...\")\n",
    "    try:\n",
    "        finder = StationFinder(\n",
    "            citibike_graph_path=citibike_path,\n",
    "            subway_graph_path=subway_graph\n",
    "        )\n",
    "    except Exception as e:\n",
    "        print(f\"Error initializing StationFinder: {e}\")\n",
    "        print(\"\\nIf subway coordinates are not available, you can:\")\n",
    "        print(\"1. Provide a CSV file with subway coordinates\")\n",
    "        print(\"2. Download MTA GTFS data manually from: http://web.mta.info/developers/data/nyct/subway/google_transit.zip\")\n",
    "        sys.exit(1)\n",
    "\n",
    "    return finder"
   ]
  },
  {
   "cell_type": "code",
   "execution_count": 3,
   "id": "635a54a4",
   "metadata": {},
   "outputs": [
    {
     "name": "stdout",
     "output_type": "stream",
     "text": [
      "Initializing StationFinder...\n",
      "Downloading NYC subway coordinates from MTA GTFS...\n",
      "Downloading NYC subway coordinates from MTA GTFS...\n",
      "Successfully loaded 379 subway stations\n",
      "Successfully loaded 379 subway stations\n"
     ]
    }
   ],
   "source": [
    "station_finder = init_stationfinder()"
   ]
  },
  {
   "cell_type": "code",
   "execution_count": 4,
   "id": "4b484fa3",
   "metadata": {},
   "outputs": [],
   "source": [
    "def simulate(src_hub_center, dst_hub_center, station_finder, radius_km=1.0, num_points=100, departure_time=(8,0), virtual=False):\n",
    "    m = None\n",
    "\n",
    "    simulator = Simulator(finder=station_finder)\n",
    "\n",
    "    src_hub_points = simulator.generate_random_points(src_hub_center, radius_km=radius_km, num_points=num_points)\n",
    "    dst_hub_points = simulator.generate_random_points(dst_hub_center, radius_km=radius_km, num_points=num_points)\n",
    "\n",
    "    if virtual:\n",
    "        print(\"Inserting virtual station at source hub center...\")\n",
    "        simulator.insert_station(('virtual-station', src_hub_center))\n",
    "\n",
    "    # --- Calculate for Bike Transit ---\n",
    "    print(\"\" + \"=\"*80)\n",
    "    print('Simulating Citibike journeys...')\n",
    "    print(\"\" + \"=\"*80)\n",
    "    bike_travel_time_matrix, bike_route_matrix = simulator.calculate_travel_time_matrix(src_hub_points, dst_hub_points, radius_km=radius_km, mode='citibike', departure_time=departure_time)\n",
    "\n",
    "    # --- Calculate for Subway Transit ---\n",
    "    subway_travel_time_matrix, subway_route_matrix = simulator.calculate_travel_time_matrix(src_hub_points, dst_hub_points, radius_km=radius_km, mode='subway', departure_time=departure_time)\n",
    "\n",
    "    results = {\n",
    "        'bike_travel_time_matrix': bike_travel_time_matrix,\n",
    "        'bike_route_matrix': bike_route_matrix,\n",
    "        'subway_travel_time_matrix': subway_travel_time_matrix,\n",
    "        'subway_route_matrix': subway_route_matrix\n",
    "    }\n",
    "\n",
    "    # create a map visualization of the results\n",
    "    # m = simulator.map_simulation_results(bike_route_matrix, subway_route_matrix, src_hub_points, dst_hub_points)\n",
    "\n",
    "    return results, m"
   ]
  },
  {
   "cell_type": "code",
   "execution_count": 5,
   "id": "a3f7b044",
   "metadata": {},
   "outputs": [],
   "source": [
    "def calculate_average_travel_times(results):\n",
    "    bike_tt_matrix, subway_tt_matrix = results['bike_travel_time_matrix'], results['subway_travel_time_matrix']\n",
    "\n",
    "    # Calculate the mean of all values in the bike travel time matrix\n",
    "    avg_bike_time_seconds = np.mean(bike_tt_matrix)\n",
    "\n",
    "    # Calculate the mean of all values in the subway travel time matrix\n",
    "    avg_subway_time_seconds = np.mean(subway_tt_matrix)\n",
    "\n",
    "    return avg_bike_time_seconds, avg_subway_time_seconds"
   ]
  },
  {
   "cell_type": "code",
   "execution_count": 6,
   "id": "a6cb5ed4",
   "metadata": {},
   "outputs": [],
   "source": [
    "def run_simulation(src_hubs, dst_hub, radius_km=1.0, num_points=100, departure_time=(8,0), virtual=False):\n",
    "    dst_hub_center = dst_hub[1]\n",
    "\n",
    "    bike_results = dict()\n",
    "    subway_results = dict()\n",
    "\n",
    "    for i, hub in enumerate(src_hubs):\n",
    "        hub_coords = src_hubs[hub]\n",
    "        print(\"\" + \"=\"*80)\n",
    "        print(f\"\\nRunning simulations for source hub {i+1}/{len(src_hubs)} ({hub}) at location: {hub_coords}\\n\")\n",
    "        print(\"\" + \"=\"*80)\n",
    "        results, m = simulate(hub_coords, dst_hub_center, station_finder, radius_km=radius_km, num_points=num_points, departure_time=departure_time, virtual=virtual)\n",
    "        avg_bike_time, avg_subway_time = calculate_average_travel_times(results)\n",
    "        \n",
    "        avg_bike_time_seconds = f\"{int(round(avg_bike_time % 60)):02d}\"\n",
    "        avg_subway_time_seconds = f\"{int(round(avg_subway_time % 60)):02d}\"\n",
    "\n",
    "        bike_results[hub] = f\"{math.floor(avg_bike_time / 60)}:{avg_bike_time_seconds}\"\n",
    "        subway_results[hub] = f\"{math.floor(avg_subway_time / 60)}:{avg_subway_time_seconds}\"\n",
    "\n",
    "    bike_avg_times = pd.DataFrame.from_dict({'Average Travel Time By Bike': bike_results})\n",
    "    subway_avg_times = pd.DataFrame.from_dict({'Average Travel Time By Metro': subway_results})\n",
    "    print(\"\" + \"=\"*80)\n",
    "    print(f\"\\nSimulation for dst {dst_hub[0]} complete!\\n\")\n",
    "    print(\"\" + \"=\"*80)\n",
    "\n",
    "    return bike_avg_times, subway_avg_times"
   ]
  },
  {
   "cell_type": "code",
   "execution_count": 7,
   "id": "a98cfcbd",
   "metadata": {},
   "outputs": [],
   "source": [
    "src_hubs = {\n",
    "    \"Roosevelt Island Coast\": (40.7699167, -73.9278056),\n",
    "    \"Steinway St / 31 Av\": (40.7612778, -73.9171111),\n",
    "    \"North Brooklyn (Gates / Throop Av)\": (40.6872500, -73.9417778),\n",
    "    \"Brooklyn Navy Yard (Flushing / Navy St)\": (40.6982778, -73.9805556),\n",
    "    \"South Bronx (161 St / Melrose Av)\": (40.8241389, -73.9139167),\n",
    "    \"South Manhattan (Houston / Clinton St)\": (40.7214444, -73.9838611),\n",
    "    \"South Manhattan (Ave A / St. Marks Pl)\": (40.7260556, -73.9835000)\n",
    "}\n",
    "\n",
    "dst_hubs = {\n",
    "    \"Little Italy / Chinatown\": (40.7194167, -73.9975556),\n",
    "    \"Central Park Entrance / Columbus Monument\": (40.7678889, -73.9820556),\n",
    "    \"The Bronx (Residential)\": (40.8568889, -73.8877222),\n",
    "    \"Astoria Park (North Roosevelt Island Coast)\": (40.7818333, -73.9173056),\n",
    "    \"Red Hook (Brooklyn Bay Area)\": (40.6739722, -74.0081111),\n",
    "    \"North Queens / Jackson Heights\": (40.7436667, -73.8871111),\n",
    "    \"West Queens / North Brooklyn\": (40.7123889, -73.9440278)\n",
    "}"
   ]
  },
  {
   "cell_type": "markdown",
   "id": "7808e42e",
   "metadata": {},
   "source": [
    "## Simulate Baseline (No virtual station)"
   ]
  },
  {
   "cell_type": "code",
   "execution_count": null,
   "id": "f1c446f9",
   "metadata": {},
   "outputs": [
    {
     "data": {
      "application/vnd.jupyter.widget-view+json": {
       "model_id": "d1cf8dcc73f14a828847577216f0f703",
       "version_major": 2,
       "version_minor": 0
      },
      "text/plain": [
       "Simulating travels to destination hub::   0%|          | 0/7 [00:00<?, ?it/s]"
      ]
     },
     "metadata": {},
     "output_type": "display_data"
    },
    {
     "name": "stdout",
     "output_type": "stream",
     "text": [
      "================================================================================\n",
      "\n",
      "Running simulations for source hub 1/7 (Roosevelt Island Coast) at location: (40.7699167, -73.9278056)\n",
      "\n",
      "================================================================================\n",
      "================================================================================\n",
      "Simulating Citibike journeys...\n",
      "================================================================================\n"
     ]
    },
    {
     "data": {
      "application/vnd.jupyter.widget-view+json": {
       "model_id": "73d3d4a4ac754f8292359809527ed955",
       "version_major": 2,
       "version_minor": 0
      },
      "text/plain": [
       "Calculating subway travel times:   0%|          | 0/100 [00:00<?, ?it/s]"
      ]
     },
     "metadata": {},
     "output_type": "display_data"
    },
    {
     "name": "stdout",
     "output_type": "stream",
     "text": [
      "================================================================================\n",
      "\n",
      "Running simulations for source hub 2/7 (Steinway St / 31 Av) at location: (40.7612778, -73.9171111)\n",
      "\n",
      "================================================================================\n",
      "================================================================================\n",
      "Simulating Citibike journeys...\n",
      "================================================================================\n"
     ]
    },
    {
     "data": {
      "application/vnd.jupyter.widget-view+json": {
       "model_id": "d6056b32cc18402a989a6dfd79e282a3",
       "version_major": 2,
       "version_minor": 0
      },
      "text/plain": [
       "Calculating subway travel times:   0%|          | 0/100 [00:00<?, ?it/s]"
      ]
     },
     "metadata": {},
     "output_type": "display_data"
    },
    {
     "name": "stdout",
     "output_type": "stream",
     "text": [
      "================================================================================\n",
      "\n",
      "Running simulations for source hub 3/7 (North Brooklyn (Gates / Throop Av)) at location: (40.68725, -73.9417778)\n",
      "\n",
      "================================================================================\n",
      "================================================================================\n",
      "Simulating Citibike journeys...\n",
      "================================================================================\n"
     ]
    },
    {
     "data": {
      "application/vnd.jupyter.widget-view+json": {
       "model_id": "a3fde898eaae45f7acfc51efc493276c",
       "version_major": 2,
       "version_minor": 0
      },
      "text/plain": [
       "Calculating subway travel times:   0%|          | 0/100 [00:00<?, ?it/s]"
      ]
     },
     "metadata": {},
     "output_type": "display_data"
    },
    {
     "name": "stdout",
     "output_type": "stream",
     "text": [
      "================================================================================\n",
      "\n",
      "Running simulations for source hub 4/7 (Brooklyn Navy Yard (Flushing / Navy St)) at location: (40.6982778, -73.9805556)\n",
      "\n",
      "================================================================================\n",
      "================================================================================\n",
      "Simulating Citibike journeys...\n",
      "================================================================================\n"
     ]
    },
    {
     "data": {
      "application/vnd.jupyter.widget-view+json": {
       "model_id": "9c9820574ee94b0ebf7da7db3464b870",
       "version_major": 2,
       "version_minor": 0
      },
      "text/plain": [
       "Calculating subway travel times:   0%|          | 0/100 [00:00<?, ?it/s]"
      ]
     },
     "metadata": {},
     "output_type": "display_data"
    },
    {
     "name": "stdout",
     "output_type": "stream",
     "text": [
      "================================================================================\n",
      "\n",
      "Running simulations for source hub 5/7 (South Bronx (161 St / Melrose Av)) at location: (40.8241389, -73.9139167)\n",
      "\n",
      "================================================================================\n",
      "================================================================================\n",
      "Simulating Citibike journeys...\n",
      "================================================================================\n"
     ]
    },
    {
     "data": {
      "application/vnd.jupyter.widget-view+json": {
       "model_id": "09ea97ea17984c2db15204ddb13be062",
       "version_major": 2,
       "version_minor": 0
      },
      "text/plain": [
       "Calculating subway travel times:   0%|          | 0/100 [00:00<?, ?it/s]"
      ]
     },
     "metadata": {},
     "output_type": "display_data"
    },
    {
     "name": "stdout",
     "output_type": "stream",
     "text": [
      "================================================================================\n",
      "\n",
      "Running simulations for source hub 6/7 (South Manhattan (Houston / Clinton St)) at location: (40.7214444, -73.9838611)\n",
      "\n",
      "================================================================================\n",
      "================================================================================\n",
      "Simulating Citibike journeys...\n",
      "================================================================================\n"
     ]
    },
    {
     "data": {
      "application/vnd.jupyter.widget-view+json": {
       "model_id": "424425f64a11481a94561db7ce5b447f",
       "version_major": 2,
       "version_minor": 0
      },
      "text/plain": [
       "Calculating subway travel times:   0%|          | 0/100 [00:00<?, ?it/s]"
      ]
     },
     "metadata": {},
     "output_type": "display_data"
    },
    {
     "name": "stdout",
     "output_type": "stream",
     "text": [
      "================================================================================\n",
      "\n",
      "Running simulations for source hub 7/7 (South Manhattan (Ave A / St. Marks Pl)) at location: (40.7260556, -73.9835)\n",
      "\n",
      "================================================================================\n",
      "================================================================================\n",
      "Simulating Citibike journeys...\n",
      "================================================================================\n"
     ]
    },
    {
     "data": {
      "application/vnd.jupyter.widget-view+json": {
       "model_id": "3bbaeb332bc64758aa4a546c069298f1",
       "version_major": 2,
       "version_minor": 0
      },
      "text/plain": [
       "Calculating subway travel times:   0%|          | 0/100 [00:00<?, ?it/s]"
      ]
     },
     "metadata": {},
     "output_type": "display_data"
    },
    {
     "name": "stdout",
     "output_type": "stream",
     "text": [
      "================================================================================\n",
      "\n",
      "Simulation for dst Little Italy / Chinatown complete!\n",
      "\n",
      "================================================================================\n",
      "                                        Average Travel Time By Bike\n",
      "Roosevelt Island Coast                                        47:30\n",
      "Steinway St / 31 Av                                           44:56\n",
      "North Brooklyn (Gates / Throop Av)                            32:44\n",
      "Brooklyn Navy Yard (Flushing / Navy St)                       24:35\n",
      "South Bronx (161 St / Melrose Av)                             62:06\n",
      "                                        Average Travel Time By Metro\n",
      "Roosevelt Island Coast                                         51:26\n",
      "Steinway St / 31 Av                                            42:44\n",
      "North Brooklyn (Gates / Throop Av)                             42:07\n",
      "Brooklyn Navy Yard (Flushing / Navy St)                        29:03\n",
      "South Bronx (161 St / Melrose Av)                              46:39\n",
      "================================================================================\n",
      "\n",
      "Running simulations for source hub 1/7 (Roosevelt Island Coast) at location: (40.7699167, -73.9278056)\n",
      "\n",
      "================================================================================\n",
      "================================================================================\n",
      "Simulating Citibike journeys...\n",
      "================================================================================\n"
     ]
    },
    {
     "data": {
      "application/vnd.jupyter.widget-view+json": {
       "model_id": "39b3505d67e64651999466d04b41a995",
       "version_major": 2,
       "version_minor": 0
      },
      "text/plain": [
       "Calculating subway travel times:   0%|          | 0/100 [00:00<?, ?it/s]"
      ]
     },
     "metadata": {},
     "output_type": "display_data"
    },
    {
     "name": "stdout",
     "output_type": "stream",
     "text": [
      "================================================================================\n",
      "\n",
      "Running simulations for source hub 2/7 (Steinway St / 31 Av) at location: (40.7612778, -73.9171111)\n",
      "\n",
      "================================================================================\n",
      "================================================================================\n",
      "Simulating Citibike journeys...\n",
      "================================================================================\n"
     ]
    },
    {
     "data": {
      "application/vnd.jupyter.widget-view+json": {
       "model_id": "aefb85e33e204df787c62929e8e7abf1",
       "version_major": 2,
       "version_minor": 0
      },
      "text/plain": [
       "Calculating subway travel times:   0%|          | 0/100 [00:00<?, ?it/s]"
      ]
     },
     "metadata": {},
     "output_type": "display_data"
    },
    {
     "name": "stdout",
     "output_type": "stream",
     "text": [
      "================================================================================\n",
      "\n",
      "Running simulations for source hub 3/7 (North Brooklyn (Gates / Throop Av)) at location: (40.68725, -73.9417778)\n",
      "\n",
      "================================================================================\n",
      "================================================================================\n",
      "Simulating Citibike journeys...\n",
      "================================================================================\n"
     ]
    },
    {
     "data": {
      "application/vnd.jupyter.widget-view+json": {
       "model_id": "98bc0f03042047a1a8b54b2585377961",
       "version_major": 2,
       "version_minor": 0
      },
      "text/plain": [
       "Calculating subway travel times:   0%|          | 0/100 [00:00<?, ?it/s]"
      ]
     },
     "metadata": {},
     "output_type": "display_data"
    },
    {
     "name": "stdout",
     "output_type": "stream",
     "text": [
      "================================================================================\n",
      "\n",
      "Running simulations for source hub 4/7 (Brooklyn Navy Yard (Flushing / Navy St)) at location: (40.6982778, -73.9805556)\n",
      "\n",
      "================================================================================\n",
      "================================================================================\n",
      "Simulating Citibike journeys...\n",
      "================================================================================\n"
     ]
    },
    {
     "data": {
      "application/vnd.jupyter.widget-view+json": {
       "model_id": "e2336695f68e43d893a8455eebd48c85",
       "version_major": 2,
       "version_minor": 0
      },
      "text/plain": [
       "Calculating subway travel times:   0%|          | 0/100 [00:00<?, ?it/s]"
      ]
     },
     "metadata": {},
     "output_type": "display_data"
    },
    {
     "name": "stdout",
     "output_type": "stream",
     "text": [
      "================================================================================\n",
      "\n",
      "Running simulations for source hub 5/7 (South Bronx (161 St / Melrose Av)) at location: (40.8241389, -73.9139167)\n",
      "\n",
      "================================================================================\n",
      "================================================================================\n",
      "Simulating Citibike journeys...\n",
      "================================================================================\n"
     ]
    },
    {
     "data": {
      "application/vnd.jupyter.widget-view+json": {
       "model_id": "e3252da11c2a40e2b338545ea2da9099",
       "version_major": 2,
       "version_minor": 0
      },
      "text/plain": [
       "Calculating subway travel times:   0%|          | 0/100 [00:00<?, ?it/s]"
      ]
     },
     "metadata": {},
     "output_type": "display_data"
    },
    {
     "name": "stdout",
     "output_type": "stream",
     "text": [
      "================================================================================\n",
      "\n",
      "Running simulations for source hub 6/7 (South Manhattan (Houston / Clinton St)) at location: (40.7214444, -73.9838611)\n",
      "\n",
      "================================================================================\n",
      "================================================================================\n",
      "Simulating Citibike journeys...\n",
      "================================================================================\n"
     ]
    },
    {
     "data": {
      "application/vnd.jupyter.widget-view+json": {
       "model_id": "795157d6758146ae958f61aaa4a2ea35",
       "version_major": 2,
       "version_minor": 0
      },
      "text/plain": [
       "Calculating subway travel times:   0%|          | 0/100 [00:00<?, ?it/s]"
      ]
     },
     "metadata": {},
     "output_type": "display_data"
    },
    {
     "name": "stdout",
     "output_type": "stream",
     "text": [
      "================================================================================\n",
      "\n",
      "Running simulations for source hub 7/7 (South Manhattan (Ave A / St. Marks Pl)) at location: (40.7260556, -73.9835)\n",
      "\n",
      "================================================================================\n",
      "================================================================================\n",
      "Simulating Citibike journeys...\n",
      "================================================================================\n"
     ]
    },
    {
     "data": {
      "application/vnd.jupyter.widget-view+json": {
       "model_id": "91929fd7ac984c00b54599e0befabc71",
       "version_major": 2,
       "version_minor": 0
      },
      "text/plain": [
       "Calculating subway travel times:   0%|          | 0/100 [00:00<?, ?it/s]"
      ]
     },
     "metadata": {},
     "output_type": "display_data"
    },
    {
     "name": "stdout",
     "output_type": "stream",
     "text": [
      "================================================================================\n",
      "\n",
      "Simulation for dst Central Park Entrance / Columbus Monument complete!\n",
      "\n",
      "================================================================================\n",
      "                                        Average Travel Time By Bike\n",
      "Roosevelt Island Coast                                        31:40\n",
      "Steinway St / 31 Av                                           37:52\n",
      "North Brooklyn (Gates / Throop Av)                            59:18\n",
      "Brooklyn Navy Yard (Flushing / Navy St)                       46:39\n",
      "South Bronx (161 St / Melrose Av)                             44:43\n",
      "                                        Average Travel Time By Metro\n",
      "Roosevelt Island Coast                                         40:24\n",
      "Steinway St / 31 Av                                            41:14\n",
      "North Brooklyn (Gates / Throop Av)                             54:56\n",
      "Brooklyn Navy Yard (Flushing / Navy St)                        41:00\n",
      "South Bronx (161 St / Melrose Av)                              39:48\n",
      "================================================================================\n",
      "\n",
      "Running simulations for source hub 1/7 (Roosevelt Island Coast) at location: (40.7699167, -73.9278056)\n",
      "\n",
      "================================================================================\n",
      "================================================================================\n",
      "Simulating Citibike journeys...\n",
      "================================================================================\n"
     ]
    },
    {
     "data": {
      "application/vnd.jupyter.widget-view+json": {
       "model_id": "350765ef047742c8ae2d47f268c5c7eb",
       "version_major": 2,
       "version_minor": 0
      },
      "text/plain": [
       "Calculating subway travel times:   0%|          | 0/100 [00:00<?, ?it/s]"
      ]
     },
     "metadata": {},
     "output_type": "display_data"
    },
    {
     "name": "stdout",
     "output_type": "stream",
     "text": [
      "================================================================================\n",
      "\n",
      "Running simulations for source hub 2/7 (Steinway St / 31 Av) at location: (40.7612778, -73.9171111)\n",
      "\n",
      "================================================================================\n",
      "================================================================================\n",
      "Simulating Citibike journeys...\n",
      "================================================================================\n"
     ]
    },
    {
     "data": {
      "application/vnd.jupyter.widget-view+json": {
       "model_id": "23a02279e9804c1da37a3c8ff9788b54",
       "version_major": 2,
       "version_minor": 0
      },
      "text/plain": [
       "Calculating subway travel times:   0%|          | 0/100 [00:00<?, ?it/s]"
      ]
     },
     "metadata": {},
     "output_type": "display_data"
    },
    {
     "name": "stdout",
     "output_type": "stream",
     "text": [
      "================================================================================\n",
      "\n",
      "Running simulations for source hub 3/7 (North Brooklyn (Gates / Throop Av)) at location: (40.68725, -73.9417778)\n",
      "\n",
      "================================================================================\n",
      "================================================================================\n",
      "Simulating Citibike journeys...\n",
      "================================================================================\n"
     ]
    },
    {
     "data": {
      "application/vnd.jupyter.widget-view+json": {
       "model_id": "f50aee276d644fa492e44c245e087165",
       "version_major": 2,
       "version_minor": 0
      },
      "text/plain": [
       "Calculating subway travel times:   0%|          | 0/100 [00:00<?, ?it/s]"
      ]
     },
     "metadata": {},
     "output_type": "display_data"
    },
    {
     "name": "stdout",
     "output_type": "stream",
     "text": [
      "================================================================================\n",
      "\n",
      "Running simulations for source hub 4/7 (Brooklyn Navy Yard (Flushing / Navy St)) at location: (40.6982778, -73.9805556)\n",
      "\n",
      "================================================================================\n",
      "================================================================================\n",
      "Simulating Citibike journeys...\n",
      "================================================================================\n"
     ]
    },
    {
     "data": {
      "application/vnd.jupyter.widget-view+json": {
       "model_id": "f843fab4648f4be2b9c3077498494e5a",
       "version_major": 2,
       "version_minor": 0
      },
      "text/plain": [
       "Calculating subway travel times:   0%|          | 0/100 [00:00<?, ?it/s]"
      ]
     },
     "metadata": {},
     "output_type": "display_data"
    },
    {
     "name": "stdout",
     "output_type": "stream",
     "text": [
      "================================================================================\n",
      "\n",
      "Running simulations for source hub 5/7 (South Bronx (161 St / Melrose Av)) at location: (40.8241389, -73.9139167)\n",
      "\n",
      "================================================================================\n",
      "================================================================================\n",
      "Simulating Citibike journeys...\n",
      "================================================================================\n"
     ]
    },
    {
     "data": {
      "application/vnd.jupyter.widget-view+json": {
       "model_id": "89e890c4906a4b89901a2640206aa637",
       "version_major": 2,
       "version_minor": 0
      },
      "text/plain": [
       "Calculating subway travel times:   0%|          | 0/100 [00:00<?, ?it/s]"
      ]
     },
     "metadata": {},
     "output_type": "display_data"
    },
    {
     "name": "stdout",
     "output_type": "stream",
     "text": [
      "================================================================================\n",
      "\n",
      "Running simulations for source hub 6/7 (South Manhattan (Houston / Clinton St)) at location: (40.7214444, -73.9838611)\n",
      "\n",
      "================================================================================\n",
      "================================================================================\n",
      "Simulating Citibike journeys...\n",
      "================================================================================\n"
     ]
    },
    {
     "data": {
      "application/vnd.jupyter.widget-view+json": {
       "model_id": "18267c2b5b524895bcab031418a8509d",
       "version_major": 2,
       "version_minor": 0
      },
      "text/plain": [
       "Calculating subway travel times:   0%|          | 0/100 [00:00<?, ?it/s]"
      ]
     },
     "metadata": {},
     "output_type": "display_data"
    },
    {
     "name": "stdout",
     "output_type": "stream",
     "text": [
      "================================================================================\n",
      "\n",
      "Running simulations for source hub 7/7 (South Manhattan (Ave A / St. Marks Pl)) at location: (40.7260556, -73.9835)\n",
      "\n",
      "================================================================================\n",
      "================================================================================\n",
      "Simulating Citibike journeys...\n",
      "================================================================================\n"
     ]
    },
    {
     "data": {
      "application/vnd.jupyter.widget-view+json": {
       "model_id": "89b5c7dbffac416c9b5d5adec2a7f593",
       "version_major": 2,
       "version_minor": 0
      },
      "text/plain": [
       "Calculating subway travel times:   0%|          | 0/100 [00:00<?, ?it/s]"
      ]
     },
     "metadata": {},
     "output_type": "display_data"
    },
    {
     "name": "stdout",
     "output_type": "stream",
     "text": [
      "================================================================================\n",
      "\n",
      "Simulation for dst The Bronx (Residential) complete!\n",
      "\n",
      "================================================================================\n",
      "                                        Average Travel Time By Bike\n",
      "Roosevelt Island Coast                                        53:59\n",
      "Steinway St / 31 Av                                           55:23\n",
      "North Brooklyn (Gates / Throop Av)                            95:14\n",
      "Brooklyn Navy Yard (Flushing / Navy St)                       92:24\n",
      "South Bronx (161 St / Melrose Av)                             29:44\n",
      "                                        Average Travel Time By Metro\n",
      "Roosevelt Island Coast                                         79:08\n",
      "Steinway St / 31 Av                                            80:50\n",
      "North Brooklyn (Gates / Throop Av)                             97:49\n",
      "Brooklyn Navy Yard (Flushing / Navy St)                        87:37\n",
      "South Bronx (161 St / Melrose Av)                              49:03\n",
      "================================================================================\n",
      "\n",
      "Running simulations for source hub 1/7 (Roosevelt Island Coast) at location: (40.7699167, -73.9278056)\n",
      "\n",
      "================================================================================\n",
      "================================================================================\n",
      "Simulating Citibike journeys...\n",
      "================================================================================\n"
     ]
    },
    {
     "data": {
      "application/vnd.jupyter.widget-view+json": {
       "model_id": "ce6a9d3a998e4b6d9041fd853c5376e1",
       "version_major": 2,
       "version_minor": 0
      },
      "text/plain": [
       "Calculating subway travel times:   0%|          | 0/100 [00:00<?, ?it/s]"
      ]
     },
     "metadata": {},
     "output_type": "display_data"
    },
    {
     "name": "stdout",
     "output_type": "stream",
     "text": [
      "================================================================================\n",
      "\n",
      "Running simulations for source hub 2/7 (Steinway St / 31 Av) at location: (40.7612778, -73.9171111)\n",
      "\n",
      "================================================================================\n",
      "================================================================================\n",
      "Simulating Citibike journeys...\n",
      "================================================================================\n"
     ]
    },
    {
     "data": {
      "application/vnd.jupyter.widget-view+json": {
       "model_id": "08b1c8721e0148598e395c78e97df301",
       "version_major": 2,
       "version_minor": 0
      },
      "text/plain": [
       "Calculating subway travel times:   0%|          | 0/100 [00:00<?, ?it/s]"
      ]
     },
     "metadata": {},
     "output_type": "display_data"
    },
    {
     "name": "stdout",
     "output_type": "stream",
     "text": [
      "================================================================================\n",
      "\n",
      "Running simulations for source hub 3/7 (North Brooklyn (Gates / Throop Av)) at location: (40.68725, -73.9417778)\n",
      "\n",
      "================================================================================\n",
      "================================================================================\n",
      "Simulating Citibike journeys...\n",
      "================================================================================\n"
     ]
    },
    {
     "data": {
      "application/vnd.jupyter.widget-view+json": {
       "model_id": "6fa3b10c59084f0e9f70b519b229c4b3",
       "version_major": 2,
       "version_minor": 0
      },
      "text/plain": [
       "Calculating subway travel times:   0%|          | 0/100 [00:00<?, ?it/s]"
      ]
     },
     "metadata": {},
     "output_type": "display_data"
    },
    {
     "name": "stdout",
     "output_type": "stream",
     "text": [
      "================================================================================\n",
      "\n",
      "Running simulations for source hub 4/7 (Brooklyn Navy Yard (Flushing / Navy St)) at location: (40.6982778, -73.9805556)\n",
      "\n",
      "================================================================================\n",
      "================================================================================\n",
      "Simulating Citibike journeys...\n",
      "================================================================================\n"
     ]
    },
    {
     "data": {
      "application/vnd.jupyter.widget-view+json": {
       "model_id": "d14d7efa77f445ed950e874546b41ba7",
       "version_major": 2,
       "version_minor": 0
      },
      "text/plain": [
       "Calculating subway travel times:   0%|          | 0/100 [00:00<?, ?it/s]"
      ]
     },
     "metadata": {},
     "output_type": "display_data"
    },
    {
     "name": "stdout",
     "output_type": "stream",
     "text": [
      "================================================================================\n",
      "\n",
      "Running simulations for source hub 5/7 (South Bronx (161 St / Melrose Av)) at location: (40.8241389, -73.9139167)\n",
      "\n",
      "================================================================================\n",
      "================================================================================\n",
      "Simulating Citibike journeys...\n",
      "================================================================================\n"
     ]
    },
    {
     "data": {
      "application/vnd.jupyter.widget-view+json": {
       "model_id": "64d3d31a2d0142368a3fd0ab3f7dd4fe",
       "version_major": 2,
       "version_minor": 0
      },
      "text/plain": [
       "Calculating subway travel times:   0%|          | 0/100 [00:00<?, ?it/s]"
      ]
     },
     "metadata": {},
     "output_type": "display_data"
    },
    {
     "name": "stdout",
     "output_type": "stream",
     "text": [
      "================================================================================\n",
      "\n",
      "Running simulations for source hub 6/7 (South Manhattan (Houston / Clinton St)) at location: (40.7214444, -73.9838611)\n",
      "\n",
      "================================================================================\n",
      "================================================================================\n",
      "Simulating Citibike journeys...\n",
      "================================================================================\n"
     ]
    },
    {
     "data": {
      "application/vnd.jupyter.widget-view+json": {
       "model_id": "07cfe4a777db4745b2df9c06f47be136",
       "version_major": 2,
       "version_minor": 0
      },
      "text/plain": [
       "Calculating subway travel times:   0%|          | 0/100 [00:00<?, ?it/s]"
      ]
     },
     "metadata": {},
     "output_type": "display_data"
    },
    {
     "name": "stdout",
     "output_type": "stream",
     "text": [
      "================================================================================\n",
      "\n",
      "Running simulations for source hub 7/7 (South Manhattan (Ave A / St. Marks Pl)) at location: (40.7260556, -73.9835)\n",
      "\n",
      "================================================================================\n",
      "================================================================================\n",
      "Simulating Citibike journeys...\n",
      "================================================================================\n"
     ]
    },
    {
     "data": {
      "application/vnd.jupyter.widget-view+json": {
       "model_id": "c7c6fb8b699e4e0bb5c37af164c4cec3",
       "version_major": 2,
       "version_minor": 0
      },
      "text/plain": [
       "Calculating subway travel times:   0%|          | 0/100 [00:00<?, ?it/s]"
      ]
     },
     "metadata": {},
     "output_type": "display_data"
    },
    {
     "name": "stdout",
     "output_type": "stream",
     "text": [
      "================================================================================\n",
      "\n",
      "Simulation for dst Astoria Park (North Roosevelt Island Coast) complete!\n",
      "\n",
      "================================================================================\n",
      "                                        Average Travel Time By Bike\n",
      "Roosevelt Island Coast                                        19:00\n",
      "Steinway St / 31 Av                                           26:22\n",
      "North Brooklyn (Gates / Throop Av)                            71:56\n",
      "Brooklyn Navy Yard (Flushing / Navy St)                       80:46\n",
      "South Bronx (161 St / Melrose Av)                             49:49\n",
      "                                        Average Travel Time By Metro\n",
      "Roosevelt Island Coast                                         40:39\n",
      "Steinway St / 31 Av                                            45:53\n",
      "North Brooklyn (Gates / Throop Av)                             79:34\n",
      "Brooklyn Navy Yard (Flushing / Navy St)                        86:07\n",
      "South Bronx (161 St / Melrose Av)                              76:32\n",
      "================================================================================\n",
      "\n",
      "Running simulations for source hub 1/7 (Roosevelt Island Coast) at location: (40.7699167, -73.9278056)\n",
      "\n",
      "================================================================================\n",
      "================================================================================\n",
      "Simulating Citibike journeys...\n",
      "================================================================================\n"
     ]
    },
    {
     "data": {
      "application/vnd.jupyter.widget-view+json": {
       "model_id": "9df40e0e70cf4470acda5ab0be32460d",
       "version_major": 2,
       "version_minor": 0
      },
      "text/plain": [
       "Calculating subway travel times:   0%|          | 0/100 [00:00<?, ?it/s]"
      ]
     },
     "metadata": {},
     "output_type": "display_data"
    },
    {
     "name": "stdout",
     "output_type": "stream",
     "text": [
      "================================================================================\n",
      "\n",
      "Running simulations for source hub 2/7 (Steinway St / 31 Av) at location: (40.7612778, -73.9171111)\n",
      "\n",
      "================================================================================\n",
      "================================================================================\n",
      "Simulating Citibike journeys...\n",
      "================================================================================\n"
     ]
    },
    {
     "data": {
      "application/vnd.jupyter.widget-view+json": {
       "model_id": "afb3450d90004a60bcd91e2b9e43d384",
       "version_major": 2,
       "version_minor": 0
      },
      "text/plain": [
       "Calculating subway travel times:   0%|          | 0/100 [00:00<?, ?it/s]"
      ]
     },
     "metadata": {},
     "output_type": "display_data"
    },
    {
     "name": "stdout",
     "output_type": "stream",
     "text": [
      "================================================================================\n",
      "\n",
      "Running simulations for source hub 3/7 (North Brooklyn (Gates / Throop Av)) at location: (40.68725, -73.9417778)\n",
      "\n",
      "================================================================================\n",
      "================================================================================\n",
      "Simulating Citibike journeys...\n",
      "================================================================================\n"
     ]
    },
    {
     "data": {
      "application/vnd.jupyter.widget-view+json": {
       "model_id": "36cf06d12a6a4ecf889f58b8e4c24740",
       "version_major": 2,
       "version_minor": 0
      },
      "text/plain": [
       "Calculating subway travel times:   0%|          | 0/100 [00:00<?, ?it/s]"
      ]
     },
     "metadata": {},
     "output_type": "display_data"
    },
    {
     "name": "stdout",
     "output_type": "stream",
     "text": [
      "================================================================================\n",
      "\n",
      "Running simulations for source hub 4/7 (Brooklyn Navy Yard (Flushing / Navy St)) at location: (40.6982778, -73.9805556)\n",
      "\n",
      "================================================================================\n",
      "================================================================================\n",
      "Simulating Citibike journeys...\n",
      "================================================================================\n"
     ]
    },
    {
     "data": {
      "application/vnd.jupyter.widget-view+json": {
       "model_id": "ac297fd486a6466280636787b468dd34",
       "version_major": 2,
       "version_minor": 0
      },
      "text/plain": [
       "Calculating subway travel times:   0%|          | 0/100 [00:00<?, ?it/s]"
      ]
     },
     "metadata": {},
     "output_type": "display_data"
    },
    {
     "name": "stdout",
     "output_type": "stream",
     "text": [
      "================================================================================\n",
      "\n",
      "Running simulations for source hub 5/7 (South Bronx (161 St / Melrose Av)) at location: (40.8241389, -73.9139167)\n",
      "\n",
      "================================================================================\n",
      "================================================================================\n",
      "Simulating Citibike journeys...\n",
      "================================================================================\n"
     ]
    },
    {
     "data": {
      "application/vnd.jupyter.widget-view+json": {
       "model_id": "d2402556e1ec4045a5b89cc77e676fd2",
       "version_major": 2,
       "version_minor": 0
      },
      "text/plain": [
       "Calculating subway travel times:   0%|          | 0/100 [00:00<?, ?it/s]"
      ]
     },
     "metadata": {},
     "output_type": "display_data"
    },
    {
     "name": "stdout",
     "output_type": "stream",
     "text": [
      "================================================================================\n",
      "\n",
      "Running simulations for source hub 6/7 (South Manhattan (Houston / Clinton St)) at location: (40.7214444, -73.9838611)\n",
      "\n",
      "================================================================================\n",
      "================================================================================\n",
      "Simulating Citibike journeys...\n",
      "================================================================================\n"
     ]
    },
    {
     "data": {
      "application/vnd.jupyter.widget-view+json": {
       "model_id": "89b2f4219f0249b181b8e3b706289237",
       "version_major": 2,
       "version_minor": 0
      },
      "text/plain": [
       "Calculating subway travel times:   0%|          | 0/100 [00:00<?, ?it/s]"
      ]
     },
     "metadata": {},
     "output_type": "display_data"
    },
    {
     "name": "stdout",
     "output_type": "stream",
     "text": [
      "================================================================================\n",
      "\n",
      "Running simulations for source hub 7/7 (South Manhattan (Ave A / St. Marks Pl)) at location: (40.7260556, -73.9835)\n",
      "\n",
      "================================================================================\n",
      "================================================================================\n",
      "Simulating Citibike journeys...\n",
      "================================================================================\n"
     ]
    },
    {
     "data": {
      "application/vnd.jupyter.widget-view+json": {
       "model_id": "1fa1eca08bca407abf8266a03cab1ab4",
       "version_major": 2,
       "version_minor": 0
      },
      "text/plain": [
       "Calculating subway travel times:   0%|          | 0/100 [00:00<?, ?it/s]"
      ]
     },
     "metadata": {},
     "output_type": "display_data"
    },
    {
     "name": "stdout",
     "output_type": "stream",
     "text": [
      "================================================================================\n",
      "\n",
      "Simulation for dst Red Hook (Brooklyn Bay Area) complete!\n",
      "\n",
      "================================================================================\n",
      "                                        Average Travel Time By Bike\n",
      "Roosevelt Island Coast                                        67:38\n",
      "Steinway St / 31 Av                                           66:16\n",
      "North Brooklyn (Gates / Throop Av)                            34:46\n",
      "Brooklyn Navy Yard (Flushing / Navy St)                       27:18\n",
      "South Bronx (161 St / Melrose Av)                             90:52\n",
      "                                        Average Travel Time By Metro\n",
      "Roosevelt Island Coast                                         79:49\n",
      "Steinway St / 31 Av                                            69:28\n",
      "North Brooklyn (Gates / Throop Av)                             55:08\n",
      "Brooklyn Navy Yard (Flushing / Navy St)                        42:56\n",
      "South Bronx (161 St / Melrose Av)                              87:45\n",
      "================================================================================\n",
      "\n",
      "Running simulations for source hub 1/7 (Roosevelt Island Coast) at location: (40.7699167, -73.9278056)\n",
      "\n",
      "================================================================================\n",
      "================================================================================\n",
      "Simulating Citibike journeys...\n",
      "================================================================================\n"
     ]
    },
    {
     "data": {
      "application/vnd.jupyter.widget-view+json": {
       "model_id": "474c249bd4de470c836dd5ef574e91ac",
       "version_major": 2,
       "version_minor": 0
      },
      "text/plain": [
       "Calculating subway travel times:   0%|          | 0/100 [00:00<?, ?it/s]"
      ]
     },
     "metadata": {},
     "output_type": "display_data"
    },
    {
     "name": "stdout",
     "output_type": "stream",
     "text": [
      "================================================================================\n",
      "\n",
      "Running simulations for source hub 2/7 (Steinway St / 31 Av) at location: (40.7612778, -73.9171111)\n",
      "\n",
      "================================================================================\n",
      "================================================================================\n",
      "Simulating Citibike journeys...\n",
      "================================================================================\n"
     ]
    },
    {
     "data": {
      "application/vnd.jupyter.widget-view+json": {
       "model_id": "51b93f3b61394860adbb5765a05847af",
       "version_major": 2,
       "version_minor": 0
      },
      "text/plain": [
       "Calculating subway travel times:   0%|          | 0/100 [00:00<?, ?it/s]"
      ]
     },
     "metadata": {},
     "output_type": "display_data"
    },
    {
     "name": "stdout",
     "output_type": "stream",
     "text": [
      "================================================================================\n",
      "\n",
      "Running simulations for source hub 3/7 (North Brooklyn (Gates / Throop Av)) at location: (40.68725, -73.9417778)\n",
      "\n",
      "================================================================================\n",
      "================================================================================\n",
      "Simulating Citibike journeys...\n",
      "================================================================================\n"
     ]
    },
    {
     "data": {
      "application/vnd.jupyter.widget-view+json": {
       "model_id": "781f417d1d0a49dfb8e6bc5d7bbb7e4e",
       "version_major": 2,
       "version_minor": 0
      },
      "text/plain": [
       "Calculating subway travel times:   0%|          | 0/100 [00:00<?, ?it/s]"
      ]
     },
     "metadata": {},
     "output_type": "display_data"
    },
    {
     "name": "stdout",
     "output_type": "stream",
     "text": [
      "================================================================================\n",
      "\n",
      "Running simulations for source hub 4/7 (Brooklyn Navy Yard (Flushing / Navy St)) at location: (40.6982778, -73.9805556)\n",
      "\n",
      "================================================================================\n",
      "================================================================================\n",
      "Simulating Citibike journeys...\n",
      "================================================================================\n"
     ]
    },
    {
     "data": {
      "application/vnd.jupyter.widget-view+json": {
       "model_id": "a61c3c97036d4b55a6f08ea6f9ddc11b",
       "version_major": 2,
       "version_minor": 0
      },
      "text/plain": [
       "Calculating subway travel times:   0%|          | 0/100 [00:00<?, ?it/s]"
      ]
     },
     "metadata": {},
     "output_type": "display_data"
    },
    {
     "name": "stdout",
     "output_type": "stream",
     "text": [
      "================================================================================\n",
      "\n",
      "Running simulations for source hub 5/7 (South Bronx (161 St / Melrose Av)) at location: (40.8241389, -73.9139167)\n",
      "\n",
      "================================================================================\n",
      "================================================================================\n",
      "Simulating Citibike journeys...\n",
      "================================================================================\n"
     ]
    },
    {
     "data": {
      "application/vnd.jupyter.widget-view+json": {
       "model_id": "57ef6e771e0e40ab8034743c0feab0d8",
       "version_major": 2,
       "version_minor": 0
      },
      "text/plain": [
       "Calculating subway travel times:   0%|          | 0/100 [00:00<?, ?it/s]"
      ]
     },
     "metadata": {},
     "output_type": "display_data"
    },
    {
     "name": "stdout",
     "output_type": "stream",
     "text": [
      "================================================================================\n",
      "\n",
      "Running simulations for source hub 6/7 (South Manhattan (Houston / Clinton St)) at location: (40.7214444, -73.9838611)\n",
      "\n",
      "================================================================================\n",
      "================================================================================\n",
      "Simulating Citibike journeys...\n",
      "================================================================================\n"
     ]
    },
    {
     "data": {
      "application/vnd.jupyter.widget-view+json": {
       "model_id": "177d21baa08048988fad89710102d098",
       "version_major": 2,
       "version_minor": 0
      },
      "text/plain": [
       "Calculating subway travel times:   0%|          | 0/100 [00:00<?, ?it/s]"
      ]
     },
     "metadata": {},
     "output_type": "display_data"
    },
    {
     "name": "stdout",
     "output_type": "stream",
     "text": [
      "================================================================================\n",
      "\n",
      "Running simulations for source hub 7/7 (South Manhattan (Ave A / St. Marks Pl)) at location: (40.7260556, -73.9835)\n",
      "\n",
      "================================================================================\n",
      "================================================================================\n",
      "Simulating Citibike journeys...\n",
      "================================================================================\n"
     ]
    },
    {
     "data": {
      "application/vnd.jupyter.widget-view+json": {
       "model_id": "1d9cdc2800fc41bab3d21d33a98f2df1",
       "version_major": 2,
       "version_minor": 0
      },
      "text/plain": [
       "Calculating subway travel times:   0%|          | 0/100 [00:00<?, ?it/s]"
      ]
     },
     "metadata": {},
     "output_type": "display_data"
    },
    {
     "name": "stdout",
     "output_type": "stream",
     "text": [
      "================================================================================\n",
      "\n",
      "Simulation for dst North Queens / Jackson Heights complete!\n",
      "\n",
      "================================================================================\n",
      "                                        Average Travel Time By Bike\n",
      "Roosevelt Island Coast                                        27:41\n",
      "Steinway St / 31 Av                                           24:35\n",
      "North Brooklyn (Gates / Throop Av)                            45:03\n",
      "Brooklyn Navy Yard (Flushing / Navy St)                       56:00\n",
      "South Bronx (161 St / Melrose Av)                             55:56\n",
      "                                        Average Travel Time By Metro\n",
      "Roosevelt Island Coast                                         46:00\n",
      "Steinway St / 31 Av                                            37:29\n",
      "North Brooklyn (Gates / Throop Av)                             66:03\n",
      "Brooklyn Navy Yard (Flushing / Navy St)                        63:01\n",
      "South Bronx (161 St / Melrose Av)                              60:12\n",
      "================================================================================\n",
      "\n",
      "Running simulations for source hub 1/7 (Roosevelt Island Coast) at location: (40.7699167, -73.9278056)\n",
      "\n",
      "================================================================================\n",
      "================================================================================\n",
      "Simulating Citibike journeys...\n",
      "================================================================================\n"
     ]
    },
    {
     "data": {
      "application/vnd.jupyter.widget-view+json": {
       "model_id": "5152190f058d41308b5fcc461c7bf36c",
       "version_major": 2,
       "version_minor": 0
      },
      "text/plain": [
       "Calculating subway travel times:   0%|          | 0/100 [00:00<?, ?it/s]"
      ]
     },
     "metadata": {},
     "output_type": "display_data"
    },
    {
     "name": "stdout",
     "output_type": "stream",
     "text": [
      "================================================================================\n",
      "\n",
      "Running simulations for source hub 2/7 (Steinway St / 31 Av) at location: (40.7612778, -73.9171111)\n",
      "\n",
      "================================================================================\n",
      "================================================================================\n",
      "Simulating Citibike journeys...\n",
      "================================================================================\n"
     ]
    },
    {
     "data": {
      "application/vnd.jupyter.widget-view+json": {
       "model_id": "d1718a50dc124c59bd68b57afd04376b",
       "version_major": 2,
       "version_minor": 0
      },
      "text/plain": [
       "Calculating subway travel times:   0%|          | 0/100 [00:00<?, ?it/s]"
      ]
     },
     "metadata": {},
     "output_type": "display_data"
    },
    {
     "name": "stdout",
     "output_type": "stream",
     "text": [
      "================================================================================\n",
      "\n",
      "Running simulations for source hub 3/7 (North Brooklyn (Gates / Throop Av)) at location: (40.68725, -73.9417778)\n",
      "\n",
      "================================================================================\n",
      "================================================================================\n",
      "Simulating Citibike journeys...\n",
      "================================================================================\n"
     ]
    },
    {
     "data": {
      "application/vnd.jupyter.widget-view+json": {
       "model_id": "02e35a49e4584368b8331e145136efdb",
       "version_major": 2,
       "version_minor": 0
      },
      "text/plain": [
       "Calculating subway travel times:   0%|          | 0/100 [00:00<?, ?it/s]"
      ]
     },
     "metadata": {},
     "output_type": "display_data"
    },
    {
     "name": "stdout",
     "output_type": "stream",
     "text": [
      "================================================================================\n",
      "\n",
      "Running simulations for source hub 4/7 (Brooklyn Navy Yard (Flushing / Navy St)) at location: (40.6982778, -73.9805556)\n",
      "\n",
      "================================================================================\n",
      "================================================================================\n",
      "Simulating Citibike journeys...\n",
      "================================================================================\n"
     ]
    },
    {
     "data": {
      "application/vnd.jupyter.widget-view+json": {
       "model_id": "9eea6363d8694f3da013ce115b661e69",
       "version_major": 2,
       "version_minor": 0
      },
      "text/plain": [
       "Calculating subway travel times:   0%|          | 0/100 [00:00<?, ?it/s]"
      ]
     },
     "metadata": {},
     "output_type": "display_data"
    },
    {
     "name": "stdout",
     "output_type": "stream",
     "text": [
      "================================================================================\n",
      "\n",
      "Running simulations for source hub 5/7 (South Bronx (161 St / Melrose Av)) at location: (40.8241389, -73.9139167)\n",
      "\n",
      "================================================================================\n",
      "================================================================================\n",
      "Simulating Citibike journeys...\n",
      "================================================================================\n"
     ]
    },
    {
     "data": {
      "application/vnd.jupyter.widget-view+json": {
       "model_id": "d3f2567acdf4469c9cd825d6792ba0a2",
       "version_major": 2,
       "version_minor": 0
      },
      "text/plain": [
       "Calculating subway travel times:   0%|          | 0/100 [00:00<?, ?it/s]"
      ]
     },
     "metadata": {},
     "output_type": "display_data"
    },
    {
     "name": "stdout",
     "output_type": "stream",
     "text": [
      "================================================================================\n",
      "\n",
      "Running simulations for source hub 6/7 (South Manhattan (Houston / Clinton St)) at location: (40.7214444, -73.9838611)\n",
      "\n",
      "================================================================================\n",
      "================================================================================\n",
      "Simulating Citibike journeys...\n",
      "================================================================================\n"
     ]
    },
    {
     "data": {
      "application/vnd.jupyter.widget-view+json": {
       "model_id": "07614fb7bb0d4e988ddbc615ccb64f11",
       "version_major": 2,
       "version_minor": 0
      },
      "text/plain": [
       "Calculating subway travel times:   0%|          | 0/100 [00:00<?, ?it/s]"
      ]
     },
     "metadata": {},
     "output_type": "display_data"
    },
    {
     "name": "stdout",
     "output_type": "stream",
     "text": [
      "================================================================================\n",
      "\n",
      "Running simulations for source hub 7/7 (South Manhattan (Ave A / St. Marks Pl)) at location: (40.7260556, -73.9835)\n",
      "\n",
      "================================================================================\n",
      "================================================================================\n",
      "Simulating Citibike journeys...\n",
      "================================================================================\n"
     ]
    },
    {
     "data": {
      "application/vnd.jupyter.widget-view+json": {
       "model_id": "0411c3d7478146cfa0ee3752fba74daf",
       "version_major": 2,
       "version_minor": 0
      },
      "text/plain": [
       "Calculating subway travel times:   0%|          | 0/100 [00:00<?, ?it/s]"
      ]
     },
     "metadata": {},
     "output_type": "display_data"
    },
    {
     "name": "stdout",
     "output_type": "stream",
     "text": [
      "================================================================================\n",
      "\n",
      "Simulation for dst West Queens / North Brooklyn complete!\n",
      "\n",
      "================================================================================\n",
      "                                        Average Travel Time By Bike\n",
      "Roosevelt Island Coast                                        33:21\n",
      "Steinway St / 31 Av                                           32:28\n",
      "North Brooklyn (Gates / Throop Av)                            17:35\n",
      "Brooklyn Navy Yard (Flushing / Navy St)                       33:51\n",
      "South Bronx (161 St / Melrose Av)                             66:26\n",
      "                                        Average Travel Time By Metro\n",
      "Roosevelt Island Coast                                         48:34\n",
      "Steinway St / 31 Av                                            45:12\n",
      "North Brooklyn (Gates / Throop Av)                             35:31\n",
      "Brooklyn Navy Yard (Flushing / Navy St)                        46:30\n",
      "South Bronx (161 St / Melrose Av)                              56:26\n"
     ]
    }
   ],
   "source": [
    "radius_km = 1.0\n",
    "num_points = 10\n",
    "departure_time = (12, 0) # 12PM\n",
    "virtual = False\n",
    "\n",
    "os.makedirs('simulation_results/baseline', exist_ok=True)\n",
    "\n",
    "for dst_hub in tqdm(dst_hubs, total=len(dst_hubs), desc='Simulating travels to destination hubs:'):\n",
    "    bikes_results_df, subway_results_df = run_simulation(src_hubs, (dst_hub, dst_hubs[dst_hub]), radius_km=radius_km, num_points=num_points, departure_time=departure_time, virtual=virtual)\n",
    "    print(bikes_results_df.head())\n",
    "    print(subway_results_df.head())\n",
    "    dst_hub_name = f'{dst_hub.replace(\" / \", \"-\").replace(\" \", \"_\")}'\n",
    "    save_file_path = f'simulation_results/baseline/{dst_hub_name}' if not virtual else f'simulation_results/with_virtual/{dst_hub_name}'\n",
    "    merged_df = bikes_results_df.join(subway_results_df)\n",
    "    merged_df.to_csv(f'{save_file_path}.csv')\n",
    "\n",
    "# # print(\"--- Average Travel Times for All Pairs ---\")\n",
    "# # print(f\"Average Bike Travel Time: {math.floor(avg_bike_time_seconds / 60)} minutes and {avg_bike_time_seconds % 60:.0f} seconds\")\n",
    "# # print(f\"Average Subway Travel Time: {math.floor(avg_subway_time_seconds / 60)} minutes and {avg_subway_time_seconds % 60:.0f} seconds\")"
   ]
  },
  {
   "cell_type": "markdown",
   "id": "4a7e8166",
   "metadata": {},
   "source": [
    "## Simulate with virtual stations"
   ]
  },
  {
   "cell_type": "code",
   "execution_count": null,
   "id": "e24fc5c8",
   "metadata": {},
   "outputs": [
    {
     "data": {
      "application/vnd.jupyter.widget-view+json": {
       "model_id": "efde6efe795d4a449af8f63dbf27abdc",
       "version_major": 2,
       "version_minor": 0
      },
      "text/plain": [
       "Simulating travels to destination hub::   0%|          | 0/7 [00:00<?, ?it/s]"
      ]
     },
     "metadata": {},
     "output_type": "display_data"
    },
    {
     "name": "stdout",
     "output_type": "stream",
     "text": [
      "================================================================================\n",
      "\n",
      "Running simulations for source hub 1/7 (Roosevelt Island Coast) at location: (40.7699167, -73.9278056)\n",
      "\n",
      "================================================================================\n",
      "Inserting virtual station at source hub center...\n",
      "Inserting new station: virtual-station at (40.7699167, -73.9278056)\n",
      "================================================================================\n",
      "Simulating Citibike journeys...\n",
      "================================================================================\n"
     ]
    },
    {
     "data": {
      "application/vnd.jupyter.widget-view+json": {
       "model_id": "23ef63e7feda4b78bdf085411ef354d1",
       "version_major": 2,
       "version_minor": 0
      },
      "text/plain": [
       "Calculating subway travel times:   0%|          | 0/100 [00:00<?, ?it/s]"
      ]
     },
     "metadata": {},
     "output_type": "display_data"
    }
   ],
   "source": [
    "radius_km = 0.5\n",
    "num_points = 10\n",
    "departure_time = (12, 0) # 12AM\n",
    "virtual = True\n",
    "\n",
    "os.makedirs('simulation_results/with_virtual', exist_ok=True)\n",
    "\n",
    "for dst_hub in tqdm(dst_hubs, total=len(dst_hubs), desc='Simulating travels to destination hub:'):\n",
    "    bikes_results_df, subway_results_df = run_simulation(src_hubs, (dst_hub, dst_hubs[dst_hub]), radius_km=radius_km, num_points=num_points, departure_time=departure_time, virtual=virtual)\n",
    "    print(bikes_results_df)\n",
    "    print(subway_results_df)\n",
    "    dst_hub_name = f'{dst_hub.replace(\" / \", \"-\").replace(\" \", \"_\")}'\n",
    "    save_file_path = f'simulation_results/baseline/{dst_hub_name}' if not virtual else f'simulation_results/with_virtual/{dst_hub_name}'\n",
    "    merged_df = bikes_results_df.join(subway_results_df)\n",
    "    merged_df.to_csv(f'{save_file_path}.csv')\n",
    "\n",
    "# print(\"--- Average Travel Times for All Pairs ---\")\n",
    "# print(f\"Average Bike Travel Time: {math.floor(avg_bike_time_seconds / 60)} minutes and {avg_bike_time_seconds % 60:.0f} seconds\")\n",
    "# print(f\"Average Subway Travel Time: {math.floor(avg_subway_time_seconds / 60)} minutes and {avg_subway_time_seconds % 60:.0f} seconds\")"
   ]
  },
  {
   "cell_type": "code",
   "execution_count": null,
   "id": "4a77af77",
   "metadata": {},
   "outputs": [],
   "source": []
  }
 ],
 "metadata": {
  "kernelspec": {
   "display_name": "project (3.9.22)",
   "language": "python",
   "name": "python3"
  },
  "language_info": {
   "codemirror_mode": {
    "name": "ipython",
    "version": 3
   },
   "file_extension": ".py",
   "mimetype": "text/x-python",
   "name": "python",
   "nbconvert_exporter": "python",
   "pygments_lexer": "ipython3",
   "version": "3.9.22"
  }
 },
 "nbformat": 4,
 "nbformat_minor": 5
}
